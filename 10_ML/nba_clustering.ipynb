{
 "cells": [
  {
   "cell_type": "code",
   "execution_count": null,
   "metadata": {},
   "outputs": [],
   "source": [
    "%matplotlib inline\n",
    "import seaborn as sns\n",
    "import matplotlib.pyplot as plt\n",
    "\n",
    "import pandas as pd\n",
    "import numpy as np\n",
    "from datascience import *"
   ]
  },
  {
   "cell_type": "code",
   "execution_count": null,
   "metadata": {},
   "outputs": [],
   "source": [
    "from sklearn.preprocessing import StandardScaler\n",
    "from sklearn.preprocessing import MinMaxScaler\n",
    "from sklearn.cluster import KMeans"
   ]
  },
  {
   "cell_type": "markdown",
   "metadata": {},
   "source": [
    "# K-means and NBA data"
   ]
  },
  {
   "cell_type": "code",
   "execution_count": null,
   "metadata": {},
   "outputs": [],
   "source": [
    "# read in `data/nba2013.csv`\n",
    "nba = Table.read_table('data/nba2013.csv')\n",
    "nba"
   ]
  },
  {
   "cell_type": "markdown",
   "metadata": {},
   "source": [
    "### Understanding the data\n",
    "\n",
    "Keep only numeric columns and plot scatterplots and histograms"
   ]
  },
  {
   "cell_type": "code",
   "execution_count": null,
   "metadata": {},
   "outputs": [],
   "source": [
    "# drop name/position; convert to dataframe for plotting\n",
    "numeric_df = nba.drop(['Name', 'Position']).to_df()"
   ]
  },
  {
   "cell_type": "code",
   "execution_count": null,
   "metadata": {},
   "outputs": [],
   "source": [
    "pd.scatter_matrix(numeric_df, figsize=(10,10));"
   ]
  },
  {
   "cell_type": "markdown",
   "metadata": {},
   "source": [
    "### The position column\n",
    "* Categorical\n",
    "* How do the above plots change by position?"
   ]
  },
  {
   "cell_type": "code",
   "execution_count": null,
   "metadata": {},
   "outputs": [],
   "source": [
    "nba.group('Position').barh('Position', 'count');"
   ]
  },
  {
   "cell_type": "code",
   "execution_count": null,
   "metadata": {},
   "outputs": [],
   "source": [
    "nba.hist('Height', group='Position');"
   ]
  },
  {
   "cell_type": "code",
   "execution_count": null,
   "metadata": {},
   "outputs": [],
   "source": [
    "nba.hist('Weight', group='Position');"
   ]
  },
  {
   "cell_type": "markdown",
   "metadata": {},
   "source": [
    "### Encode position as an integer"
   ]
  },
  {
   "cell_type": "code",
   "execution_count": null,
   "metadata": {},
   "outputs": [],
   "source": [
    "def position2int(s):\n",
    "    '''encode position to integers, preserving order'''\n",
    "    if s == 'Guard':\n",
    "        return 0\n",
    "    elif s == 'Forward':\n",
    "        return 1\n",
    "    elif s == 'Center':\n",
    "        return 2\n",
    "    else:\n",
    "        raise Exception"
   ]
  },
  {
   "cell_type": "code",
   "execution_count": null,
   "metadata": {},
   "outputs": [],
   "source": [
    "nba = nba.with_column('Position', nba.apply(position2int, 'Position'))\n",
    "nba"
   ]
  },
  {
   "cell_type": "code",
   "execution_count": null,
   "metadata": {},
   "outputs": [],
   "source": [
    "pd.scatter_matrix(numeric_df, figsize=(10,10), c=nba.column('Position'))\n",
    "plt.suptitle('scatterplots of Height/Weight/Age colored by position');"
   ]
  },
  {
   "cell_type": "markdown",
   "metadata": {},
   "source": [
    "### Initial clustering attempt\n",
    "* Let's run k-means and see if the 'natural' clustering by Height/Weight/Age looks like the players positions.\n",
    "* K-means knows nothing about the players positions! If they coincide, it's only because different positions have different Height/Weight/Age profiles!"
   ]
  },
  {
   "cell_type": "code",
   "execution_count": null,
   "metadata": {},
   "outputs": [],
   "source": [
    "kmeans = KMeans(n_clusters=3)"
   ]
  },
  {
   "cell_type": "code",
   "execution_count": null,
   "metadata": {},
   "outputs": [],
   "source": [
    "# pandas dataframe for plotting\n",
    "num_data = nba.select('Height', 'Weight', 'Age').to_df()"
   ]
  },
  {
   "cell_type": "code",
   "execution_count": null,
   "metadata": {},
   "outputs": [],
   "source": [
    "# t.values converts the pandas dataframe to a numpy ndarray for sklearn!\n",
    "kmeans.fit(num_data.values)"
   ]
  },
  {
   "cell_type": "code",
   "execution_count": null,
   "metadata": {},
   "outputs": [],
   "source": [
    "labels = kmeans.predict(num_data.values)\n",
    "pd.scatter_matrix(num_data, figsize=(8,8), c=labels);"
   ]
  },
  {
   "cell_type": "markdown",
   "metadata": {},
   "source": [
    "Look at the cluster centers:"
   ]
  },
  {
   "cell_type": "code",
   "execution_count": null,
   "metadata": {},
   "outputs": [],
   "source": [
    "kmeans.cluster_centers_"
   ]
  },
  {
   "cell_type": "markdown",
   "metadata": {},
   "source": [
    "### Questions:\n",
    "* How closely do the clusters match up with the positions?\n",
    "    - Ok... but, not great!\n",
    "* When evaluating the clusters, look at weight vs. age. \n",
    "    - Is weight determining the cluster structure too much?"
   ]
  },
  {
   "cell_type": "markdown",
   "metadata": {},
   "source": [
    "### Next steps:\n",
    "* K-means clusters based on distance; distances depend on the units of each dimension.\n",
    "* Dimensions with larger numbers will have larger influence on the clustering!\n",
    "* Scale each dimension to more comparable units:\n",
    "    - `MinMaxScaler` will scale a column linearly so the minimum value is 0 and the maximum value is 1.\n",
    "    - `StandardScalar` z-scales a column into standard units (how many deviations from the mean of a column that a data point sits)."
   ]
  },
  {
   "cell_type": "code",
   "execution_count": null,
   "metadata": {},
   "outputs": [],
   "source": [
    "mm = MinMaxScaler()\n",
    "mm.fit(num_data.values)\n",
    "print(num_data.values)\n",
    "mm_transformed = mm.transform(num_data.values)\n",
    "print(mm_transformed)"
   ]
  },
  {
   "cell_type": "markdown",
   "metadata": {},
   "source": [
    "Compare the plot below with the plots above! (units!)"
   ]
  },
  {
   "cell_type": "code",
   "execution_count": null,
   "metadata": {},
   "outputs": [],
   "source": [
    "pd.scatter_matrix(pd.DataFrame(mm_transformed), figsize=(8,8));"
   ]
  },
  {
   "cell_type": "markdown",
   "metadata": {},
   "source": [
    "Try the same thing with `StandardScaler`!"
   ]
  },
  {
   "cell_type": "code",
   "execution_count": null,
   "metadata": {},
   "outputs": [],
   "source": [
    "# code here"
   ]
  },
  {
   "cell_type": "code",
   "execution_count": null,
   "metadata": {},
   "outputs": [],
   "source": [
    "# code here"
   ]
  },
  {
   "cell_type": "markdown",
   "metadata": {},
   "source": [
    "Use the scaled data to cluster using k-means. Do you see a difference?"
   ]
  },
  {
   "cell_type": "code",
   "execution_count": null,
   "metadata": {},
   "outputs": [],
   "source": [
    "# code here"
   ]
  },
  {
   "cell_type": "code",
   "execution_count": null,
   "metadata": {},
   "outputs": [],
   "source": [
    "# code here"
   ]
  },
  {
   "cell_type": "code",
   "execution_count": null,
   "metadata": {},
   "outputs": [],
   "source": [
    "# code here"
   ]
  },
  {
   "cell_type": "markdown",
   "metadata": {},
   "source": [
    "# Another NBA dataset\n",
    "\n",
    "This dataset contains player statistics for the 2016 NBA season. Try k-means clustering on *subsets* of the columns in the dataset. Start with trying to answer the same questions as above. If you'd like, see if you can interpret the clusters when you increase the number of clusters.\n",
    "\n",
    "**Warning**: Don't use scatter_matrix with more than ~5 columns -- it requires a lot of memory to plot."
   ]
  },
  {
   "cell_type": "markdown",
   "metadata": {},
   "source": [
    "The columns of this dataset are:\n",
    "\n",
    "```\n",
    "Rk        Player-id\n",
    "Player    Player Name\n",
    "Pos       Position\n",
    "Age       Player Age\n",
    "Tm        Team\n",
    "G         Number of Games played\n",
    "GS        Number of Games started\n",
    "MP        Minutes played\n",
    "FG        Field Goals\n",
    "FGA       Field Goals Attempted\n",
    "3P        Three-point shots made\n",
    "3PA       Three-point shots attempted\n",
    "2P        Two-point shots made\n",
    "2PA       Two-point shots attempted\n",
    "FT        Free Throws made\n",
    "FTA       Free Throws attempted\n",
    "ORB       Offensive rebounds\n",
    "DRB       Defensive rebounds\n",
    "TRB       Total rebounds\n",
    "AST       Number of assists\n",
    "STL       Number of steals\n",
    "BLK       Number of blocks\n",
    "TOV       Number of turnovers\n",
    "PF        Number of personal fouls\n",
    "PTS       Total number of points\n",
    "```"
   ]
  },
  {
   "cell_type": "code",
   "execution_count": null,
   "metadata": {},
   "outputs": [],
   "source": [
    "nba = Table.read_table('data/nba2016.csv')\n",
    "nba"
   ]
  },
  {
   "cell_type": "code",
   "execution_count": null,
   "metadata": {},
   "outputs": [],
   "source": [
    "# Code"
   ]
  },
  {
   "cell_type": "code",
   "execution_count": null,
   "metadata": {},
   "outputs": [],
   "source": [
    "# Code"
   ]
  },
  {
   "cell_type": "code",
   "execution_count": null,
   "metadata": {},
   "outputs": [],
   "source": [
    "# Code"
   ]
  },
  {
   "cell_type": "markdown",
   "metadata": {},
   "source": [
    "### Questions and Comments for next steps\n",
    "* Do clusters merely reflect minutes played through the season?\n",
    "    - Normalize each column by minutes played?\n",
    "    - Create other variables (e.g. shooting percentages)\n",
    "* Players show up twice in the table if they were traded\n",
    "    - Clean the data\n",
    "* Include position in the clustering and see what you get!"
   ]
  },
  {
   "cell_type": "code",
   "execution_count": null,
   "metadata": {},
   "outputs": [],
   "source": [
    "# Code"
   ]
  }
 ],
 "metadata": {
  "kernelspec": {
   "display_name": "Python 3",
   "language": "python",
   "name": "python3"
  },
  "language_info": {
   "codemirror_mode": {
    "name": "ipython",
    "version": 3
   },
   "file_extension": ".py",
   "mimetype": "text/x-python",
   "name": "python",
   "nbconvert_exporter": "python",
   "pygments_lexer": "ipython3",
   "version": "3.6.7"
  }
 },
 "nbformat": 4,
 "nbformat_minor": 2
}
