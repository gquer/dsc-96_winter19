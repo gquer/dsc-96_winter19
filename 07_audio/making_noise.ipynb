{
 "cells": [
  {
   "cell_type": "markdown",
   "metadata": {},
   "source": [
    "# Audio Processing\n",
    "\n",
    "Thanks to Colin Jemmott.\n",
    "\n",
    "Today we will learn:\n",
    "\n",
    "* How to make sounds with code\n",
    "* How to manipulate those sounds with math\n",
    "* How to play a short song!"
   ]
  },
  {
   "cell_type": "markdown",
   "metadata": {},
   "source": [
    "# Make a sound file with a sine wave"
   ]
  },
  {
   "cell_type": "code",
   "execution_count": null,
   "metadata": {},
   "outputs": [],
   "source": [
    "%matplotlib inline\n",
    "\n",
    "import matplotlib.pyplot as mpl\n",
    "import numpy as np"
   ]
  },
  {
   "cell_type": "code",
   "execution_count": null,
   "metadata": {},
   "outputs": [],
   "source": [
    "samplingRate = 44100 # Hz\n",
    "f = 440 # frequency of sine wave in Hz (\"A\" note)\n",
    "t_max = 2 # seconds of recording length\n",
    "\n",
    "N_max = int(t_max * samplingRate) # Number of samples\n",
    "\n",
    "t = np.arange(N_max) / samplingRate  # time of each sample\n",
    "\n",
    "wave = np.sin(2 * np.pi * f * t) # sine wave"
   ]
  },
  {
   "cell_type": "markdown",
   "metadata": {},
   "source": [
    "Our sine wave is \n",
    "\n",
    "$\\sin\\left(2\\pi ft\\right)$\n",
    "\n",
    "where\n",
    "\n",
    "* $f$ is our frequency, and\n",
    "* $t$ is the list of times, in seconds"
   ]
  },
  {
   "cell_type": "markdown",
   "metadata": {},
   "source": [
    "### Plotting helps visualize the sound:\n",
    "* x-axis: time (or sample #)\n",
    "* y-axis: amplitude"
   ]
  },
  {
   "cell_type": "code",
   "execution_count": null,
   "metadata": {},
   "outputs": [],
   "source": [
    "# The 'raw' sound wave -- pitch is finished, volume is not normalized yet\n",
    "mpl.plot(wave[:2000])"
   ]
  },
  {
   "cell_type": "markdown",
   "metadata": {
    "scrolled": true
   },
   "source": [
    "### Scale the sine wave to fit the wav standard\n",
    "* Be sure to keep the maximum (absolute) value of your wave to **at most** 32767\n",
    "* *This is important, so you don't blow your speakers out!*"
   ]
  },
  {
   "cell_type": "code",
   "execution_count": null,
   "metadata": {},
   "outputs": [],
   "source": [
    "from scipy.io.wavfile import write\n",
    "\n",
    "# we need to scale the sine wave so that it fits the wav standard\n",
    "\n",
    "scaled_wave = np.int16(wave/np.max(np.abs(wave)) * 32767)\n",
    "\n",
    "write('data/my_first_sin_wave.wav', samplingRate, scaled_wave)"
   ]
  },
  {
   "cell_type": "markdown",
   "metadata": {},
   "source": [
    "Now download the file and listen to it.  Neat!\n",
    "\n",
    "# Amplitude\n",
    "\n",
    "What happens if you make the tone one tenth as large for every sample?  So our new sine wave would be\n",
    "\n",
    "$\\frac{1}{10} \\sin\\left(2\\pi ft\\right)$\n",
    "\n",
    "(Plot the resulting wave, write it to file, and listen!)"
   ]
  },
  {
   "cell_type": "code",
   "execution_count": null,
   "metadata": {},
   "outputs": [],
   "source": [
    "# your code here\n",
    "\n"
   ]
  },
  {
   "cell_type": "markdown",
   "metadata": {},
   "source": [
    "Next, what if you multiply it by a linear ramp, starting at 0 and ending at 1?\n",
    "\n",
    "$A(t) \\sin\\left(2\\pi ft\\right)$\n",
    "\n",
    "where the amplitude linearly changes from\n",
    "\n",
    "$A(0) = 0$ to $A(t_{max}) = 1$\n",
    "\n",
    "*Hint:* use `np.arange`."
   ]
  },
  {
   "cell_type": "code",
   "execution_count": null,
   "metadata": {},
   "outputs": [],
   "source": [
    "# your code here"
   ]
  },
  {
   "cell_type": "markdown",
   "metadata": {},
   "source": [
    "# Noise\n",
    "\n",
    "Let's try a different signal.  Make a two second recording of random noise using\n",
    "```\n",
    "np.random.randn(N_max)\n",
    "```\n",
    "What does that sound like?\n",
    "What if you add the random noise to your sine wave above?\n",
    "\n",
    "Don't forget to scale it to wave standard!"
   ]
  },
  {
   "cell_type": "code",
   "execution_count": null,
   "metadata": {},
   "outputs": [],
   "source": [
    "# Your code here"
   ]
  },
  {
   "cell_type": "markdown",
   "metadata": {},
   "source": [
    "# Adding Sounds\n",
    "\n",
    "Since our random noise and sine wave, we can add them by adding together each element of the list.  As always, listen!  Does it sound like what you expected?"
   ]
  },
  {
   "cell_type": "code",
   "execution_count": null,
   "metadata": {},
   "outputs": [],
   "source": [
    "# Your code here"
   ]
  },
  {
   "cell_type": "markdown",
   "metadata": {},
   "source": [
    "# Concatenating Sounds\n",
    "Rather than adding each element of the noise and sine wave, instead make them into one list by concatenating them."
   ]
  },
  {
   "cell_type": "code",
   "execution_count": null,
   "metadata": {},
   "outputs": [],
   "source": [
    "# Your code here"
   ]
  },
  {
   "cell_type": "markdown",
   "metadata": {},
   "source": [
    "# Play a Song!\n",
    "\n",
    "* How do you change notes (frequencies)?\n",
    "* How do you put rests between the notes?\n",
    "* Can you make the tempo 150 beats per minute?"
   ]
  },
  {
   "cell_type": "code",
   "execution_count": null,
   "metadata": {},
   "outputs": [],
   "source": [
    "e = 329 # Hz\n",
    "d = 293 # Hz\n",
    "c = 261 # Hz\n",
    "\n",
    "notes = [e, d, c, d, e, e, e]\n",
    "length = [2, 2, 2, 2, 2, 2, 4]"
   ]
  },
  {
   "cell_type": "code",
   "execution_count": null,
   "metadata": {},
   "outputs": [],
   "source": [
    "# Your code here\n",
    "\n"
   ]
  },
  {
   "cell_type": "markdown",
   "metadata": {},
   "source": [
    "# Playing with sound\n",
    "\n",
    "### What happens if you apply functions to your sound vector?\n",
    "* What happens if you invert it?  \n",
    "* Make a maximum and minimum threshold?  \n",
    "* Remove all the small numbers?  \n",
    "* Can you make each note decay?\n",
    "\n",
    "Wrap these in functions that you can apply to single notes that you can use to piece together a song.\n",
    "\n",
    "### Audio signal processing is a big world!"
   ]
  },
  {
   "cell_type": "code",
   "execution_count": null,
   "metadata": {},
   "outputs": [],
   "source": []
  },
  {
   "cell_type": "code",
   "execution_count": null,
   "metadata": {},
   "outputs": [],
   "source": []
  }
 ],
 "metadata": {
  "kernelspec": {
   "display_name": "Python 3",
   "language": "python",
   "name": "python3"
  },
  "language_info": {
   "codemirror_mode": {
    "name": "ipython",
    "version": 3
   },
   "file_extension": ".py",
   "mimetype": "text/x-python",
   "name": "python",
   "nbconvert_exporter": "python",
   "pygments_lexer": "ipython3",
   "version": "3.6.7"
  }
 },
 "nbformat": 4,
 "nbformat_minor": 2
}
