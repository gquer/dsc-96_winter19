{
 "cells": [
  {
   "cell_type": "markdown",
   "metadata": {},
   "source": [
    "# Multi-Armed Bandits"
   ]
  },
  {
   "attachments": {
    "multiarmedbandit.jpg": {
     "image/jpeg": "[encoded data removed]"
    }
   },
   "cell_type": "markdown",
   "metadata": {},
   "source": [
    "![multiarmedbandit.jpg](attachment:multiarmedbandit.jpg)"
   ]
  },
  {
   "cell_type": "markdown",
   "metadata": {},
   "source": [
    "Last time, we used A/B testing to determine if a potential change to a website will improve ad-clicks on our page. However, A/B testing had the following shortcoming:\n",
    "* You have to show a large number of users an inferior page in order to gather information on determining whether to make a change.\n",
    "* What if your change had a negative effect? Since A/B-tests must run for a predetermined period of time, you may lose an unnecessary amount of traffic before realizing the test is failing.\n",
    "\n",
    "[Multi-armed bandits](https://en.wikipedia.org/wiki/Multi-armed_bandit) are models that try to continuously balance **exploring** the best options for showing to website users, while simultaneously **exploiting** the current perceived best options.\n",
    "\n",
    "The motivating example is that of $N$ different slot machines, each with different expected pay-out. The goal is to define a strategy that maximizes the pay-out after a total $k$ pulls of the levers.\n",
    "\n",
    "For online advertising, each slot-machine corresponds to a different advertisement that can be displayed to a user. Each advertisment has a different unknown effectiveness (i.e. click-rate) and the multi-armed bandit algorithm tries to maximize the click-rate of the ads shown over time."
   ]
  },
  {
   "cell_type": "markdown",
   "metadata": {},
   "source": [
    "Below, use the multi-armed bandit below to develop a strategy to get the max number of rewards in a fixed time (say 100 pulls)."
   ]
  },
  {
   "cell_type": "code",
   "execution_count": null,
   "metadata": {},
   "outputs": [],
   "source": [
    "%matplotlib inline\n",
    "\n",
    "import matplotlib.pyplot as plt\n",
    "import numpy as np\n",
    "from datascience import *\n",
    "\n",
    "from mab import Simulator"
   ]
  },
  {
   "cell_type": "markdown",
   "metadata": {},
   "source": [
    "## Create an N-armed bandit\n",
    "* `sim = Simulator(N)` creates an N-armed bandit\n",
    "* `sim.pull(k)` pulls the kth arm of sim (zero-indexed).\n",
    "    - Returns the reward of the pull: 0 or 1.\n",
    "\n",
    "* `sim.count` returns the current number of pulls for that simulator.\n",
    "* `sim.record` returns the current number of pulls for each arm.\n",
    "* `sim.success` returns the current number of rewards for each arm.\n",
    "\n",
    "Note: optionally, to recreate the *same* multi-armed bandit, set the `seed` argument in `Simulator`."
   ]
  },
  {
   "cell_type": "code",
   "execution_count": null,
   "metadata": {},
   "outputs": [],
   "source": [
    "# Create a 10-armed bandit\n",
    "sim = Simulator(10)"
   ]
  },
  {
   "cell_type": "code",
   "execution_count": null,
   "metadata": {},
   "outputs": [],
   "source": [
    "# Pull lever 3 (the fourth lever)\n",
    "sim.pull(3)"
   ]
  },
  {
   "cell_type": "code",
   "execution_count": null,
   "metadata": {},
   "outputs": [],
   "source": [
    "# Pull lever 4 (the fifth lever)\n",
    "sim.pull(4)"
   ]
  },
  {
   "cell_type": "code",
   "execution_count": null,
   "metadata": {},
   "outputs": [],
   "source": [
    "# Look at the number of pulls for each lever\n",
    "sim.record"
   ]
  },
  {
   "cell_type": "code",
   "execution_count": null,
   "metadata": {},
   "outputs": [],
   "source": [
    "# Look at the number of rewards each arm has accumulated\n",
    "sim.success"
   ]
  },
  {
   "cell_type": "code",
   "execution_count": null,
   "metadata": {},
   "outputs": [],
   "source": [
    "# The average success rate of each lever\n",
    "sim.success / sim.record"
   ]
  },
  {
   "cell_type": "code",
   "execution_count": null,
   "metadata": {},
   "outputs": [],
   "source": [
    "# Explore! Your code here!"
   ]
  },
  {
   "cell_type": "markdown",
   "metadata": {},
   "source": [
    "### Defining Strategies\n",
    "\n",
    "Strategies for multi-armed bandits must balance **exploration**, to find the most effective lever, and **exploitation** of the best known options available. Below gives two extreme/obvious strategies for bandit algorithms.\n",
    "\n",
    "1. \"Always pull lever #3\"\n",
    "2. \"Randomly choose a lever each turn\"\n",
    "\n",
    "*Note:* Algorithm 2 provides a good baseline to measure your algorithms against. It forms a reasonable null hypothesis: \"My bandit algorithm provides improvement over random choice.\""
   ]
  },
  {
   "cell_type": "code",
   "execution_count": null,
   "metadata": {},
   "outputs": [],
   "source": [
    "# Parameters:\n",
    "# Change these as you wish!\n",
    "\n",
    "N = 100\n",
    "levers = 10\n",
    "seed = 2"
   ]
  },
  {
   "cell_type": "code",
   "execution_count": null,
   "metadata": {},
   "outputs": [],
   "source": [
    "# Always pull lever #3\n",
    "\n",
    "def pull_third(levers, seed, N):\n",
    "    sim = Simulator(levers, seed)\n",
    "\n",
    "    results = np.array([])\n",
    "    for _ in np.arange(N):\n",
    "        pull = sim.pull(3)\n",
    "        results = np.append(pull, results)\n",
    "        \n",
    "    return sim, results\n",
    "\n",
    "sim_third, results_third = pull_third(levers, seed, N)"
   ]
  },
  {
   "cell_type": "code",
   "execution_count": null,
   "metadata": {
    "scrolled": true
   },
   "outputs": [],
   "source": [
    "# Reward per pull\n",
    "results_third.mean()"
   ]
  },
  {
   "cell_type": "code",
   "execution_count": null,
   "metadata": {},
   "outputs": [],
   "source": [
    "# Pull a new randomly chosen lever each turn\n",
    "\n",
    "def pull_random(levers, seed, N):\n",
    "    \n",
    "    sim = Simulator(levers, seed)\n",
    "    results = np.array([])\n",
    "    for _ in np.arange(N):\n",
    "        pull = sim.pull(np.random.choice(np.arange(levers)))\n",
    "        results = np.append(pull, results)\n",
    "        \n",
    "    return sim, results\n",
    "\n",
    "sim_random, results_random = pull_random(levers, seed, N)"
   ]
  },
  {
   "cell_type": "code",
   "execution_count": null,
   "metadata": {},
   "outputs": [],
   "source": [
    "# Reward per pull\n",
    "results_random.mean()"
   ]
  },
  {
   "cell_type": "code",
   "execution_count": null,
   "metadata": {},
   "outputs": [],
   "source": [
    "results = (\n",
    "    Table()\n",
    "    .with_column('third', results_third.cumsum())\n",
    "    .with_column('random', results_random.cumsum())\n",
    ")\n",
    "results"
   ]
  },
  {
   "cell_type": "code",
   "execution_count": null,
   "metadata": {},
   "outputs": [],
   "source": [
    "# Plot the rewards\n",
    "results.plot()"
   ]
  },
  {
   "cell_type": "code",
   "execution_count": null,
   "metadata": {},
   "outputs": [],
   "source": [
    "# Look at the success of each arm in the simulation:\n",
    "sim_random.success / sim_random.record"
   ]
  },
  {
   "cell_type": "code",
   "execution_count": null,
   "metadata": {},
   "outputs": [],
   "source": [
    "# Peak at the probability of the arms\n",
    "# (To change these, change or omit the random seed)\n",
    "sim_random.probs"
   ]
  },
  {
   "cell_type": "markdown",
   "metadata": {},
   "source": [
    "**Question**: Is choosing the third arm better than random? What if you increase the number of pulls?"
   ]
  },
  {
   "cell_type": "code",
   "execution_count": null,
   "metadata": {},
   "outputs": [],
   "source": [
    "# Your code here (Skip this initially!)"
   ]
  },
  {
   "cell_type": "markdown",
   "metadata": {},
   "source": [
    "### Strategy: test then greedy\n",
    "\n",
    "For a ten-armed bandit, code a strategy that randomly chooses a lever for the first 10 pulls. At this point, calculate the best lever and pull that lever from then on. \n",
    "\n",
    "* Compare this strategy to the ones given above\n",
    "* Rereun this test many times. How many times does it choose the correct lever?\n",
    "    - What happens if you increase/decrease the number of \"exploration\" pulls?\n",
    "    - *Hint:* you have to change/remove the seed."
   ]
  },
  {
   "cell_type": "code",
   "execution_count": null,
   "metadata": {},
   "outputs": [],
   "source": [
    "# Code Here"
   ]
  },
  {
   "cell_type": "markdown",
   "metadata": {},
   "source": [
    "**Question**: What happens if you increase the number of levers? (What if levers is huge?)"
   ]
  },
  {
   "cell_type": "markdown",
   "metadata": {},
   "source": [
    "---\n",
    "Write explanation here.\n",
    "\n",
    "---"
   ]
  },
  {
   "cell_type": "code",
   "execution_count": null,
   "metadata": {},
   "outputs": [],
   "source": [
    "# Code Here"
   ]
  },
  {
   "cell_type": "markdown",
   "metadata": {},
   "source": [
    "### Strategy: Upper Confidence Bound (UCB)\n",
    "\n",
    "This is one of the most popular bandit algorithms. Start by choosing each arm once. Then run the experiment that maximizes:\n",
    "$$m_j + \\sqrt{\\frac{2\\ln N}{N_j}}$$\n",
    "\n",
    "* where $m_j$ is the current average reward of arm $j$,\n",
    "* where $N$ is the number of pulls, and\n",
    "* where $N_j$ is the number of pulls on lever $j$.\n",
    "\n",
    "The UCB strategy is coded below. \n",
    "* Run an experiment comparing all the strategies defined so far. \n",
    "* Vary the seed, number of levers, number of pulls.\n",
    "* For 10000 pulls and 10 arms, plot the number times at each arm has been pulled at each step.\n",
    "    - You will need a table with a column for each lever, and each row containing the pull-counts for that pull."
   ]
  },
  {
   "cell_type": "code",
   "execution_count": null,
   "metadata": {},
   "outputs": [],
   "source": [
    "def pull_ucb(levers, seed, N):\n",
    "    \n",
    "    sim = Simulator(levers, seed)\n",
    "    results = np.array([])\n",
    "    for lever in np.arange(levers):\n",
    "        pull = sim.pull(lever)\n",
    "        results = np.append(pull, results)    \n",
    "\n",
    "    for _ in np.arange(N - levers):\n",
    "        ucb_scores = sim.success / sim.record + np.sqrt(2 * np.log(sim.count) / sim.record)\n",
    "        k = np.argmax(ucb_scores)\n",
    "        pull = sim.pull(k)\n",
    "        results = np.append(pull, results)\n",
    "\n",
    "    return sim, results"
   ]
  },
  {
   "cell_type": "code",
   "execution_count": null,
   "metadata": {},
   "outputs": [],
   "source": [
    "# Code Here"
   ]
  },
  {
   "cell_type": "code",
   "execution_count": null,
   "metadata": {},
   "outputs": [],
   "source": [
    "# Code Here"
   ]
  },
  {
   "cell_type": "markdown",
   "metadata": {},
   "source": [
    "**Question**: Suppose you have 10 potential new ads to show users and you'd like to test them using the UCB strategy in order to pick the best performer. Describe a procedure for running and evaluating the test. Make sure the valuation can distinguish signal from noise!"
   ]
  },
  {
   "cell_type": "markdown",
   "metadata": {},
   "source": [
    "### Strategy: $\\epsilon$-greedy\n",
    "\n",
    "Pick $\\epsilon > 0$. Define the following strategy:\n",
    "1. If every lever has the same average success, randomly pull a lever.\n",
    "2. Otherwise:\n",
    "    - pull the lever with the highest average success with probability $(1 - \\epsilon)$ -- exploitation,\n",
    "    - randomly pick a lever with probability $\\epsilon$ -- exploration.\n",
    "    \n",
    "**Question**: Code this strategy using $\\epsilon = 0.02$.\n",
    "\n",
    "*Hint*: simulate the probabilities using `np.random.uniform`."
   ]
  },
  {
   "cell_type": "code",
   "execution_count": null,
   "metadata": {},
   "outputs": [],
   "source": [
    "# Code Here"
   ]
  },
  {
   "cell_type": "code",
   "execution_count": null,
   "metadata": {},
   "outputs": [],
   "source": []
  }
 ],
 "metadata": {
  "kernelspec": {
   "display_name": "Python 3",
   "language": "python",
   "name": "python3"
  },
  "language_info": {
   "codemirror_mode": {
    "name": "ipython",
    "version": 3
   },
   "file_extension": ".py",
   "mimetype": "text/x-python",
   "name": "python",
   "nbconvert_exporter": "python",
   "pygments_lexer": "ipython3",
   "version": "3.6.5"
  }
 },
 "nbformat": 4,
 "nbformat_minor": 2
}
