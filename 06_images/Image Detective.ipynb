{
 "cells": [
  {
   "cell_type": "markdown",
   "metadata": {},
   "source": [
    "# Image Processing 2: Manipulation Detection\n",
    "\n",
    "Colin Jemmott, September 2018 for UC San Diego DSC 96.\n",
    "\n",
    "### Project\n",
    "\n",
    "The goal of this project is to implement an algorithm called `Error Level Analysis` that can provide hints about whether or not an image has been manipulated (aka \"Photoshopped\").\n",
    "\n",
    "The algorithm is described in section 3.4.2 of [\"A Picture's Worth... Digital Image Analysis and Forensics, Version 2\"](http://blackhat.com/presentations/bh-dc-08/Krawetz/Whitepaper/bh-dc-08-krawetz-WP.pdf) by Neal Krawetz. \n",
    "\n",
    "Once you get your implementation of the algorithm working, run it on the provided images `bear.jpg`, `geisel.jpg`, `CIMG4940ALL.jpg` and `beach.jpg`, as well as a few `.jpg` images that you think might be manipulated.  Explain the results.\n",
    "\n",
    "### Learning Objectives\n",
    "\n",
    "A big part of being a data scientist is having a problem, finding some relevant research, and implementing that research to test if it will work as a solution to your problem.\n",
    "\n",
    "\n",
    "### Hints\n",
    "\n",
    "Reading all of section 3.4.2 of \"A Picture's Worth...\" will help you to understand and explain your results.\n",
    "\n",
    "More unusual [Pillow](https://pillow.readthedocs.io/en/5.2.x/) functions that I found helpful include `ImageChops` and `ImageEnhance`.  Of course, multiple solutions are possible, so don't feel the need to use those.\n",
    "\n",
    "### Stretch Goal\n",
    "\n",
    "If you finish early, look at some other image manipulation detection algorithms in [Krawetz](http://blackhat.com/presentations/bh-dc-08/Krawetz/Whitepaper/bh-dc-08-krawetz-WP.pdf) and implement those also.\n"
   ]
  },
  {
   "cell_type": "code",
   "execution_count": null,
   "metadata": {},
   "outputs": [],
   "source": [
    "from PIL import Image, ImageChops, ImageEnhance\n",
    "import sys, os.path\n",
    "import numpy as np\n",
    "\n",
    "# open the images\n",
    "filename = 'data/geisel.jpg'\n",
    "im = Image.open(filename)\n",
    "\n",
    "# let's see some images\n",
    "display(im)\n"
   ]
  },
  {
   "cell_type": "code",
   "execution_count": null,
   "metadata": {},
   "outputs": [],
   "source": [
    "# resize the image, just in case you need it!\n",
    "def resizeImage(original_image,scale_factor):\n",
    "    # YOUR CODE HERE!\n",
    "    return new_image"
   ]
  },
  {
   "cell_type": "code",
   "execution_count": null,
   "metadata": {},
   "outputs": [],
   "source": [
    "# open the images\n",
    "filename = 'data/geisel.jpg'\n",
    "im = Image.open(filename)\n",
    "\n",
    "# resave the image\n",
    "resaved = filename + '.resaved.jpg' # new name for the image\n",
    "im.save(resaved, 'JPEG', quality=95)\n",
    "resaved_im = Image.open(resaved)\n",
    "\n",
    "# Error Level Analysis\n",
    "ela = filename + '.ela.png'\n",
    "\n",
    "# YOUR CODE HERE!\n",
    "\n",
    "# calculate the difference\n",
    "\n",
    "# enhance the image contrast if needed!\n",
    "\n",
    "\n",
    "\n",
    "display(cropped_im)"
   ]
  },
  {
   "cell_type": "code",
   "execution_count": null,
   "metadata": {},
   "outputs": [],
   "source": []
  }
 ],
 "metadata": {
  "kernelspec": {
   "display_name": "Python 3",
   "language": "python",
   "name": "python3"
  },
  "language_info": {
   "codemirror_mode": {
    "name": "ipython",
    "version": 3
   },
   "file_extension": ".py",
   "mimetype": "text/x-python",
   "name": "python",
   "nbconvert_exporter": "python",
   "pygments_lexer": "ipython3",
   "version": "3.6.7"
  }
 },
 "nbformat": 4,
 "nbformat_minor": 2
}
