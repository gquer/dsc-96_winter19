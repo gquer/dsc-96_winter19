{
 "cells": [
  {
   "cell_type": "markdown",
   "metadata": {},
   "source": [
    "# More on pillow\n",
    "\n",
    "In this notebook, you will find more functions you can use from Pillow!\n",
    "\n",
    "Credits and more information in: https://auth0.com/blog/image-processing-in-python-with-pillow/"
   ]
  },
  {
   "cell_type": "code",
   "execution_count": null,
   "metadata": {},
   "outputs": [],
   "source": [
    "from PIL import Image\n",
    "from PIL import ImageFilter\n"
   ]
  },
  {
   "cell_type": "code",
   "execution_count": null,
   "metadata": {},
   "outputs": [],
   "source": [
    "# open the image\n",
    "image = Image.open(\"data/beach.jpg\")"
   ]
  },
  {
   "cell_type": "code",
   "execution_count": null,
   "metadata": {},
   "outputs": [],
   "source": [
    "# show the image\n",
    "display(image)"
   ]
  },
  {
   "cell_type": "code",
   "execution_count": null,
   "metadata": {},
   "outputs": [],
   "source": [
    "# The file format of the source file.\n",
    "print(image.format) # Output: JPEG\n",
    "\n",
    "# The pixel format used by the image. Typical values are “1”, “L”, “RGB”, or “CMYK.”\n",
    "print(image.mode) # Output: RGB\n",
    "\n",
    "# Image size, in pixels. The size is given as a 2-tuple (width, height).\n",
    "print(image.size) # Output: (1200, 776)\n"
   ]
  },
  {
   "cell_type": "code",
   "execution_count": null,
   "metadata": {},
   "outputs": [],
   "source": [
    "# change image type\n",
    "image.save('data/new_pilot.png')\n"
   ]
  },
  {
   "cell_type": "code",
   "execution_count": null,
   "metadata": {},
   "outputs": [],
   "source": [
    "# reseize the image\n",
    "new_image = image.resize((200, 200))\n",
    "\n",
    "# check sizes\n",
    "print(image.size) \n",
    "print(new_image.size) \n",
    "\n",
    "# show new image\n",
    "display(new_image)"
   ]
  },
  {
   "cell_type": "code",
   "execution_count": null,
   "metadata": {},
   "outputs": [],
   "source": [
    "# reseize but keeping aspect ratio\n",
    "image = Image.open(\"data/beach.jpg\")\n",
    "image.thumbnail((400, 400))\n",
    "\n",
    "print(image.size)\n",
    "\n",
    "display(image)"
   ]
  },
  {
   "cell_type": "code",
   "execution_count": null,
   "metadata": {},
   "outputs": [],
   "source": [
    "# crop the image !\n",
    "image = Image.open('data/beach.jpg')\n",
    "box = (150, 200, 600, 600)\n",
    "cropped_image = image.crop(box)\n",
    "\n",
    "print(cropped_image.size)\n",
    "\n",
    "display(cropped_image)"
   ]
  },
  {
   "cell_type": "code",
   "execution_count": null,
   "metadata": {},
   "outputs": [],
   "source": [
    "# paste an image\n",
    "image = Image.open('data/beach.jpg')\n",
    "logo = Image.open('data/logoucsd2.png')\n",
    "image_copy = image.copy()\n",
    "position = ((image_copy.width - logo.width), (image_copy.height - logo.height))\n",
    "image_copy.paste(logo, position)\n",
    "\n",
    "print(image_copy.size)\n",
    "\n",
    "display(image_copy)"
   ]
  },
  {
   "cell_type": "markdown",
   "metadata": {},
   "source": [
    "# how to paste with transparency?\n",
    "To achieve this, you need to pass in a third argument to the paste() function. This argument is the transparency mask Image object. A mask is an Image object where the alpha value is significant, but its green, red, and blue values are ignored. If a mask is given, paste() updates only the regions indicated by the mask. You can use either 1, L or RGBA images for masks. Pasting an RGBA image and also using it as the mask would paste the opaque portion of the image but not its transparent background. If you modify the paste as shown below, you should have a pasted logo with transparent pixels.\n",
    "\n",
    "See also: https://auth0.com/blog/image-processing-in-python-with-pillow/"
   ]
  },
  {
   "cell_type": "code",
   "execution_count": null,
   "metadata": {},
   "outputs": [],
   "source": [
    "# paste with transparency\n",
    "image_copy = image.copy()\n",
    "position = ((image_copy.width - logo.width), (image_copy.height - logo.height))\n",
    "image_copy.paste(logo, position,logo)\n",
    "\n",
    "display(image_copy)"
   ]
  },
  {
   "cell_type": "code",
   "execution_count": null,
   "metadata": {},
   "outputs": [],
   "source": [
    "# rotate an image\n",
    "image = Image.open('data/pilot.jpg')\n",
    "image_rot_90 = image.rotate(90)\n",
    "image_rot_180 = image.rotate(180)\n",
    "\n",
    "display(image)\n",
    "display(image_rot_90)\n",
    "display(image_rot_180)\n"
   ]
  },
  {
   "cell_type": "code",
   "execution_count": null,
   "metadata": {},
   "outputs": [],
   "source": [
    "# can I rotate by say 20?\n",
    "display(image.rotate(20))"
   ]
  },
  {
   "cell_type": "code",
   "execution_count": null,
   "metadata": {},
   "outputs": [],
   "source": [
    "# rotation with full image\n",
    "display(image.rotate(20, expand=True))"
   ]
  },
  {
   "cell_type": "code",
   "execution_count": null,
   "metadata": {},
   "outputs": [],
   "source": [
    "# flipping images\n",
    "\n",
    "image_flip = image.transpose(Image.FLIP_LEFT_RIGHT)\n",
    "display(image_flip)"
   ]
  },
  {
   "cell_type": "code",
   "execution_count": null,
   "metadata": {},
   "outputs": [],
   "source": [
    "# can we draw on images?\n",
    "from PIL import ImageDraw\n",
    "\n",
    "image = Image.open('data/pilot.jpg')\n",
    "img_draw = ImageDraw.Draw(image)\n",
    "img_draw.rectangle((70, 50, 270, 200), outline='black', fill='LightBlue')\n",
    "img_draw.text((80, 80), 'I\\'m flying and selfing!', fill='DarkGreen')\n",
    "display(image)\n",
    "#lank_image.save('drawn_image.jpg')"
   ]
  },
  {
   "cell_type": "code",
   "execution_count": null,
   "metadata": {},
   "outputs": [],
   "source": []
  },
  {
   "cell_type": "code",
   "execution_count": null,
   "metadata": {},
   "outputs": [],
   "source": []
  },
  {
   "cell_type": "code",
   "execution_count": null,
   "metadata": {},
   "outputs": [],
   "source": []
  },
  {
   "cell_type": "code",
   "execution_count": null,
   "metadata": {},
   "outputs": [],
   "source": []
  },
  {
   "cell_type": "code",
   "execution_count": null,
   "metadata": {},
   "outputs": [],
   "source": []
  }
 ],
 "metadata": {
  "kernelspec": {
   "display_name": "Python 3",
   "language": "python",
   "name": "python3"
  },
  "language_info": {
   "codemirror_mode": {
    "name": "ipython",
    "version": 3
   },
   "file_extension": ".py",
   "mimetype": "text/x-python",
   "name": "python",
   "nbconvert_exporter": "python",
   "pygments_lexer": "ipython3",
   "version": "3.6.7"
  }
 },
 "nbformat": 4,
 "nbformat_minor": 2
}
