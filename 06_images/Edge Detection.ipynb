{
 "cells": [
  {
   "cell_type": "markdown",
   "metadata": {},
   "source": [
    "# Introduction to Image Processing\n",
    "\n",
    "Credit: Colin Jemmott\n",
    "\n",
    "### Description\n",
    "\n",
    "In today's lecture, \"Images are Data!\" you learned that raster images are a esentially just arrays of numbers, and that these numbers can be manipulated to modify the image.  In this project we will use `Pillow` (a fork of the Python Image Library) and `numpy` to open, display,and manipulate images.\n",
    "\n",
    "\n",
    "### Note\n",
    "\n",
    "This notebook uses [pillow](https://pillow.readthedocs.io/en/latest/).  It should already be installed in your environment, but if not you can install it:\n",
    "```\n",
    "! pip install Pillow\n",
    "```\n",
    "\n",
    "### References\n",
    "\n",
    "* http://paulbourke.net/dataformats/bitmaps/"
   ]
  },
  {
   "cell_type": "markdown",
   "metadata": {},
   "source": [
    "## Step 1: Open and Display"
   ]
  },
  {
   "cell_type": "code",
   "execution_count": null,
   "metadata": {},
   "outputs": [],
   "source": [
    "from PIL import Image\n",
    "from PIL import ImageFilter"
   ]
  },
  {
   "cell_type": "code",
   "execution_count": null,
   "metadata": {},
   "outputs": [],
   "source": [
    "image = Image.open(\"data/test.bmp\")"
   ]
  },
  {
   "cell_type": "code",
   "execution_count": null,
   "metadata": {},
   "outputs": [],
   "source": [
    "display(image)"
   ]
  },
  {
   "cell_type": "markdown",
   "metadata": {},
   "source": [
    "## Step 2: Scale\n",
    "\n",
    "Hmmm, that looks very small.  Let's make sure it is, and then scale it up."
   ]
  },
  {
   "cell_type": "code",
   "execution_count": null,
   "metadata": {},
   "outputs": [],
   "source": [
    "image.size"
   ]
  },
  {
   "cell_type": "code",
   "execution_count": null,
   "metadata": {},
   "outputs": [],
   "source": [
    "# this function prints a larger version of the image!\n",
    "def printLargeImage(smallImage):\n",
    "    maxsize = tuple([50*x for x in smallImage.size])\n",
    "    largeImage = smallImage.resize(maxsize)\n",
    "    display(largeImage)\n",
    "    return"
   ]
  },
  {
   "cell_type": "code",
   "execution_count": null,
   "metadata": {},
   "outputs": [],
   "source": [
    "printLargeImage(image)"
   ]
  },
  {
   "cell_type": "markdown",
   "metadata": {},
   "source": [
    "## Step 3: Let's look at the data!"
   ]
  },
  {
   "cell_type": "code",
   "execution_count": null,
   "metadata": {},
   "outputs": [],
   "source": [
    "import numpy as np\n",
    "\n",
    "# let's look at how is the image made!\n",
    "imageData = np.array(image)\n",
    "imageData"
   ]
  },
  {
   "cell_type": "markdown",
   "metadata": {},
   "source": [
    "## Step 4: Manipulating the Image \n",
    "### get rid of the RED line!\n",
    "\n",
    "Ok, take a good look at the `test.bmp` image and the resulting array above.  Can you figure out how the numbers map to the image?  \n",
    "\n",
    "*Hint*:\n",
    "* The image is 8 pixels by 4 pixels\n",
    "* For each pixel there are 3 color intensities (RGB)\n",
    "\n",
    "Once you figure the mapping between the array and the image, write some code that will remove all of the red from that image.  Then display it to verify (it should have no red!)."
   ]
  },
  {
   "cell_type": "code",
   "execution_count": null,
   "metadata": {},
   "outputs": [],
   "source": [
    "import copy\n",
    "\n",
    "# this is our previous image\n",
    "printLargeImage(image)\n",
    "\n",
    "# this is a separate copy of image data (so we never modify the original one)\n",
    "imageData2 = copy.deepcopy(imageData)\n",
    "\n",
    "# Your code goes here:\n",
    "#  imageData2 = \n",
    "\n",
    "image2 = Image.fromarray(imageData2)\n",
    "printLargeImage(image2)"
   ]
  },
  {
   "cell_type": "markdown",
   "metadata": {},
   "source": [
    "## Project 1: Bigger Image\n",
    "\n",
    "Now that you have the basics down, let's start working with a larger image, `bear.jpg`.\n",
    "\n",
    "The goal of this project is for you to get comfortable manipulating images in Python.  It is best to start by reviewing what is possible in the [Pillow documentation](https://pillow.readthedocs.io/en/latest/).  There are lots of fun things like making thumbnails, rotating, filters, cropping, layering, etc. This is an easy tutorial with some code ready to be used: [Pillow Tutorial](https://pillow.readthedocs.io/en/stable/handbook/tutorial.html).\n",
    "\n",
    "Do at least three different types of modifications to `bear.jpg`! (can you make the bear look \"scary\"?)\n",
    "\n",
    "Remember to comment all the code you write!"
   ]
  },
  {
   "cell_type": "code",
   "execution_count": null,
   "metadata": {},
   "outputs": [],
   "source": [
    "# as an example, let's try with our first small image\n",
    "\n",
    "print('Original:')\n",
    "printLargeImage(image)\n",
    "\n",
    "# crop the image:\n",
    "box = (1, 1, 3, 3)\n",
    "region = image.crop(box)\n",
    "print('Region:')\n",
    "printLargeImage(region)\n",
    "\n",
    "# rotate part of the image!\n",
    "region = region.transpose(Image.ROTATE_180)\n",
    "image2 = image\n",
    "image2.paste(region, box)\n",
    "print('Modified:')\n",
    "printLargeImage(image2)\n",
    "\n",
    "# change colors\n",
    "r, g, b = image2.split()\n",
    "temp = Image.merge(\"RGB\", (b, b, g))\n",
    "print('More modified:')\n",
    "printLargeImage(temp)"
   ]
  },
  {
   "cell_type": "code",
   "execution_count": null,
   "metadata": {},
   "outputs": [],
   "source": [
    "bear = Image.open('data/bear.jpg')\n",
    "display(bear)"
   ]
  },
  {
   "cell_type": "code",
   "execution_count": null,
   "metadata": {},
   "outputs": [],
   "source": [
    "# Add your code here\n",
    "\n"
   ]
  },
  {
   "cell_type": "markdown",
   "metadata": {},
   "source": [
    "# Project 2: Edge Detection\n",
    "\n",
    "Begin with the twitter logo image `data/twitter.png`, then try it on `data/bear.jpg` from above.\n",
    "\n",
    "## Goal\n",
    "\n",
    "For this project you will implement a very basic edge detection algorithm by following these steps:\n",
    "\n",
    "1. Convert the image to grayscale\n",
    "2. Take the spatial gradient of the image\n",
    "3. Apply a threshold to the gradient\n",
    "4. Convert the result back to an image and display it\n",
    "\n",
    "## Note\n",
    "\n",
    "Edge detection is an active area of research with some pretty impressive algorithms.  This one is extremely simple, and so the results are only ok.\n",
    "\n",
    "After you finish this, you might enjoy reading the Wikipedia article on [Edge Detection](https://en.wikipedia.org/wiki/Edge_detection).\n",
    "\n",
    "## Hints\n",
    "\n",
    "* The `.convert('L')` method translates the image to grayscale.\n",
    "* There are many different ways to solve this problem, but using [`numpy.gradient`](https://docs.scipy.org/doc/numpy-1.13.0/reference/generated/numpy.gradient.html) will make it much easier.\n",
    "    - gradient outputs the differences between the pixels in the horizontal and vertical directions.\n",
    "    \n",
    "## Do not limit yourself to these images!\n",
    "* Download the image you want from the Internet\n",
    "* Try your code !"
   ]
  },
  {
   "cell_type": "code",
   "execution_count": null,
   "metadata": {},
   "outputs": [],
   "source": [
    "twitter = Image.open('data/twitter.bmp')\n",
    "display(twitter)\n",
    "# harder: graybear = bear.convert('L')\n",
    "\n",
    "# YOUR code\n"
   ]
  },
  {
   "cell_type": "code",
   "execution_count": null,
   "metadata": {},
   "outputs": [],
   "source": []
  },
  {
   "cell_type": "markdown",
   "metadata": {},
   "source": [
    "# Stretch Project: Image Processing From Scratch\n",
    "\n",
    "First, don't worry if you don't complete all (or any) of this - this section is a stretch goal and different students come in to this class with very different levels of programming.\n",
    "\n",
    "### Project Goal\n",
    "\n",
    "Write your own Instagram filter!\n",
    "\n",
    "The plot below shows histograms of the RGB colorspace.  Think about how you might manipulate the pixels to change those histograms and \"enhance\" your favorite photo."
   ]
  },
  {
   "cell_type": "code",
   "execution_count": null,
   "metadata": {},
   "outputs": [],
   "source": [
    "%matplotlib notebook\n",
    "import matplotlib\n",
    "import numpy as np\n",
    "import matplotlib.pyplot as plt\n",
    "\n",
    "num_bins = 50\n",
    "\n",
    "fig, ax = plt.subplots(3, sharex=True)\n",
    "\n",
    "# the histogram of the data\n",
    "n, bins, patches = ax[0].hist(imageData[:,:,0].flatten(), num_bins, color=\"red\")\n",
    "n, bins, patches = ax[1].hist(imageData[:,:,1].flatten(), num_bins, color=\"green\")\n",
    "n, bins, patches = ax[2].hist(imageData[:,:,2].flatten(), num_bins, color=\"blue\")\n",
    "\n",
    "plt.show()"
   ]
  },
  {
   "cell_type": "code",
   "execution_count": null,
   "metadata": {},
   "outputs": [],
   "source": []
  }
 ],
 "metadata": {
  "kernelspec": {
   "display_name": "Python 3",
   "language": "python",
   "name": "python3"
  },
  "language_info": {
   "codemirror_mode": {
    "name": "ipython",
    "version": 3
   },
   "file_extension": ".py",
   "mimetype": "text/x-python",
   "name": "python",
   "nbconvert_exporter": "python",
   "pygments_lexer": "ipython3",
   "version": "3.6.7"
  }
 },
 "nbformat": 4,
 "nbformat_minor": 2
}
