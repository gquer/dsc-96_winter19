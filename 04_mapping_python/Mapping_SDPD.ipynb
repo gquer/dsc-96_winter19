{
 "cells": [
  {
   "cell_type": "markdown",
   "metadata": {},
   "source": [
    "# Mapping SDPD data with python"
   ]
  },
  {
   "cell_type": "markdown",
   "metadata": {},
   "source": [
    "### Preparation: installing `folium`\n",
    "\n",
    "Plotting mapping data requires using a python library called `folium`. To install this library, type the following command in a terminal:\n",
    "```\n",
    "pip install --upgrade --user folium\n",
    "```\n",
    "Answer `Y` to confirm you want the library installed. Once finished, you can import the library in your notebooks."
   ]
  },
  {
   "cell_type": "code",
   "execution_count": null,
   "metadata": {},
   "outputs": [],
   "source": [
    "%matplotlib inline\n",
    "from datascience import *\n",
    "import folium\n",
    "import numpy as np\n",
    "import json"
   ]
  },
  {
   "cell_type": "markdown",
   "metadata": {},
   "source": [
    "### Import the traffic stops data and the collision data"
   ]
  },
  {
   "cell_type": "code",
   "execution_count": null,
   "metadata": {},
   "outputs": [],
   "source": [
    "stops_path = '../week-2/vehicle_stops_2016_datasd.csv'\n",
    "collisions_path = '../week-3/pd_collisions_datasd.csv'"
   ]
  },
  {
   "cell_type": "code",
   "execution_count": null,
   "metadata": {},
   "outputs": [],
   "source": [
    "stops = Table.read_table(stops_path)\n",
    "collisions = Table.read_table(collisions_path)"
   ]
  },
  {
   "cell_type": "markdown",
   "metadata": {},
   "source": [
    "### Counting the number of traffic stops by police service area"
   ]
  },
  {
   "cell_type": "code",
   "execution_count": null,
   "metadata": {},
   "outputs": [],
   "source": [
    "stops.show(1)"
   ]
  },
  {
   "cell_type": "markdown",
   "metadata": {},
   "source": [
    "We need to clean the service_area field,\n",
    "1. there are non-digits in the field\n",
    "2. because of the non-digits, even the digits are of string type\n",
    "\n",
    "To join with our map, we have to clean this column."
   ]
  },
  {
   "cell_type": "code",
   "execution_count": null,
   "metadata": {},
   "outputs": [],
   "source": [
    "type(stops.column('service_area').item(0))"
   ]
  },
  {
   "cell_type": "code",
   "execution_count": null,
   "metadata": {},
   "outputs": [],
   "source": [
    "def isdigit(x):\n",
    "    return x.isdigit()\n",
    "\n",
    "stops_cleaned = stops.where('service_area', isdigit)\n",
    "stops_cleaned = stops_cleaned.with_column(\n",
    "    'service_area', \n",
    "     stops_cleaned.column('service_area').astype(int)\n",
    ")"
   ]
  },
  {
   "cell_type": "code",
   "execution_count": null,
   "metadata": {},
   "outputs": [],
   "source": [
    "stop_counts = stops_cleaned.group('service_area')\n",
    "stop_counts"
   ]
  },
  {
   "cell_type": "markdown",
   "metadata": {},
   "source": [
    "### Load and clean the map"
   ]
  },
  {
   "cell_type": "code",
   "execution_count": null,
   "metadata": {},
   "outputs": [],
   "source": [
    "geo_path = 'pd_beats_datasd.geojson'"
   ]
  },
  {
   "cell_type": "markdown",
   "metadata": {},
   "source": [
    "Now we need to load the geographical data and filter out the service areas that aren't present in our data.\n",
    "* The join key to the geojson for the stops data is `serv`\n",
    "* The join key to the geojson for the collisions data is `beat`"
   ]
  },
  {
   "cell_type": "code",
   "execution_count": null,
   "metadata": {},
   "outputs": [],
   "source": [
    "gj = json.load(open(geo_path))"
   ]
  },
  {
   "cell_type": "markdown",
   "metadata": {},
   "source": [
    "An example region encoded in a geojson format (the list of coordinates are lat/long):"
   ]
  },
  {
   "cell_type": "code",
   "execution_count": null,
   "metadata": {},
   "outputs": [],
   "source": [
    "gj['features'][0]"
   ]
  },
  {
   "cell_type": "code",
   "execution_count": null,
   "metadata": {},
   "outputs": [],
   "source": [
    "gj['features'] = [f for f in gj['features'] if f['properties']['serv'] in stop_counts.column('service_area')]"
   ]
  },
  {
   "cell_type": "markdown",
   "metadata": {},
   "source": [
    "### Create a map object, overlay the counts, and plot it!"
   ]
  },
  {
   "cell_type": "code",
   "execution_count": null,
   "metadata": {
    "scrolled": false
   },
   "outputs": [],
   "source": [
    "stops_map = folium.Map(location=(32.7157, -117.1611), zoom_start=10)"
   ]
  },
  {
   "cell_type": "code",
   "execution_count": null,
   "metadata": {},
   "outputs": [],
   "source": [
    "stops_map.choropleth(\n",
    "    geo_data=gj,\n",
    "    data=stop_counts.to_df(),   # needs to be a pandas dataframe\n",
    "    columns=['service_area', 'count'],\n",
    "    fill_color = 'YlOrRd',\n",
    "    fill_opacity = 0.5, \n",
    "    line_opacity = 0.2,\n",
    "    key_on='feature.properties.serv',\n",
    ")"
   ]
  },
  {
   "cell_type": "markdown",
   "metadata": {},
   "source": [
    "Save the map to an `html` file. View the file by visiting the jupyter server page, selecting the file, and clicking `view` from the menu at top."
   ]
  },
  {
   "cell_type": "code",
   "execution_count": null,
   "metadata": {},
   "outputs": [],
   "source": [
    "stops_map.save('stops.html')"
   ]
  },
  {
   "cell_type": "markdown",
   "metadata": {},
   "source": [
    "## Mapping the collisions data\n",
    "\n",
    "The collisions data is joined to the map using `police_beat` -- we need to assess and clean the data. Is it of `int` type?"
   ]
  },
  {
   "cell_type": "code",
   "execution_count": null,
   "metadata": {},
   "outputs": [],
   "source": [
    "collisions.column('police_beat')"
   ]
  },
  {
   "cell_type": "code",
   "execution_count": null,
   "metadata": {},
   "outputs": [],
   "source": [
    "collision_counts = collisions.group('police_beat')"
   ]
  },
  {
   "cell_type": "code",
   "execution_count": null,
   "metadata": {},
   "outputs": [],
   "source": [
    "collision_counts.sort('count', descending=True)"
   ]
  },
  {
   "cell_type": "code",
   "execution_count": null,
   "metadata": {},
   "outputs": [],
   "source": [
    "collision_map = folium.Map(location=(32.7157, -117.1611), zoom_start=10)\n",
    "\n",
    "collision_map.choropleth(\n",
    "    geo_data=gj,\n",
    "    data=collision_counts.to_df(),   # needs to be a pandas dataframe\n",
    "    columns=['police_beat', 'count'],\n",
    "    fill_color = 'YlGn',\n",
    "    fill_opacity = 0.5, \n",
    "    line_opacity = 0.2,\n",
    "    threshold_scale=[0,300,600,900,1200,1500],\n",
    "    key_on='feature.properties.beat',\n",
    ")"
   ]
  },
  {
   "cell_type": "code",
   "execution_count": null,
   "metadata": {},
   "outputs": [],
   "source": [
    "collision_map.save('collisions.html')"
   ]
  },
  {
   "cell_type": "markdown",
   "metadata": {},
   "source": [
    "# Copy this notebook and plot your own statistics by geography\n",
    "* Percentage of stops that result in a search.\n",
    "* Average age of drivers.\n",
    "* Percentage of traffic stops that occur at night.\n",
    "* Number of Hispanic/Black/White/Asian drivers pulled over."
   ]
  },
  {
   "cell_type": "code",
   "execution_count": null,
   "metadata": {},
   "outputs": [],
   "source": []
  }
 ],
 "metadata": {
  "kernelspec": {
   "display_name": "Python 3",
   "language": "python",
   "name": "python3"
  },
  "language_info": {
   "codemirror_mode": {
    "name": "ipython",
    "version": 3
   },
   "file_extension": ".py",
   "mimetype": "text/x-python",
   "name": "python",
   "nbconvert_exporter": "python",
   "pygments_lexer": "ipython3",
   "version": "3.6.1"
  }
 },
 "nbformat": 4,
 "nbformat_minor": 2
}
