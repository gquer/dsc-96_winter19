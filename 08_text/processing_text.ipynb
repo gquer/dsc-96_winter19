{
 "cells": [
  {
   "cell_type": "markdown",
   "metadata": {},
   "source": [
    "# Text Processing\n",
    "\n",
    "The file `UCSD tweets.csv` has a small number of tweets from August and September 2018 that contained the term \"UCSD\".  Let's analyze them!\n",
    "\n",
    "### Steps\n",
    "\n",
    "Each step is explained in more detail below\n",
    "1. Open the CSV and explore the data\n",
    "2. Clean the data\n",
    "3. Count word frequency\n",
    "4. Sentiment analysis"
   ]
  },
  {
   "cell_type": "code",
   "execution_count": 2,
   "metadata": {},
   "outputs": [],
   "source": [
    "# Imports\n",
    "%matplotlib inline\n",
    "\n",
    "import numpy as np\n",
    "from datascience import *"
   ]
  },
  {
   "cell_type": "markdown",
   "metadata": {},
   "source": [
    "# 1. Open the CSV and explore the data\n",
    "\n",
    "### Steps:\n",
    "* load the data from `data/UCSD tweets.csv`\n",
    "* Examine the data.  How many tweets are there?  How long is the shortest tweet?  Longest?"
   ]
  },
  {
   "cell_type": "code",
   "execution_count": 1,
   "metadata": {},
   "outputs": [],
   "source": [
    "# you code here"
   ]
  },
  {
   "cell_type": "code",
   "execution_count": null,
   "metadata": {},
   "outputs": [],
   "source": [
    "# your code here"
   ]
  },
  {
   "cell_type": "markdown",
   "metadata": {},
   "source": [
    "# 2. Clean the data\n",
    "\n",
    "### Filter out tweets that don't have `UCSD` in the text\n",
    "\n",
    "The Twitter search matches on both username and tweet text.  We want just the ones that have a match in the tweet itself.  The result should be a new dataframe with the subset of matching tweets.\n",
    "\n",
    "* create functions to apply to your table and clean your data\n",
    "* use where clauses to filter"
   ]
  },
  {
   "cell_type": "code",
   "execution_count": null,
   "metadata": {},
   "outputs": [],
   "source": [
    "# your code here"
   ]
  },
  {
   "cell_type": "markdown",
   "metadata": {},
   "source": [
    "## Check for duplicates\n",
    "\n",
    "See if any of the tweets have exactly the same text.  If so, are they true duplicates?  Does it make sense to remove them?"
   ]
  },
  {
   "cell_type": "code",
   "execution_count": null,
   "metadata": {},
   "outputs": [],
   "source": [
    "# your code here"
   ]
  },
  {
   "cell_type": "markdown",
   "metadata": {},
   "source": [
    "# 2. Count Words\n",
    "\n",
    "We want to find out what the most frequent words are, so we need to split things up.  In text this is called tokenizing.\n",
    "\n",
    "### Steps\n",
    "\n",
    "1. Make a single long string with all of the tweet text.  Make sure to put spaces between them!\n",
    "2. Split the tweets into a list of words using `.split()`\n",
    "3. Print out the first 20 words to make sure it looks like what you think it should.\n",
    "\n",
    "How many words are there all together?  How many distinct words? (remember `set()`)"
   ]
  },
  {
   "cell_type": "code",
   "execution_count": null,
   "metadata": {},
   "outputs": [],
   "source": [
    "# your code here"
   ]
  },
  {
   "cell_type": "markdown",
   "metadata": {},
   "source": [
    "### Remove short words\n",
    "\n",
    "Short words are really common, and aren't super helpful for comparing word count.  Usually it is best to remove what are called \"stop words\", which include things like \"of\", \"a\", \"in\", etc.  In this case we will just remove all words that are less than three charecters long.\n",
    "\n",
    "The result should be a new list of words.  How many total?  How many unique?"
   ]
  },
  {
   "cell_type": "code",
   "execution_count": null,
   "metadata": {},
   "outputs": [],
   "source": [
    "# Your code here"
   ]
  },
  {
   "cell_type": "markdown",
   "metadata": {},
   "source": [
    "# 3. Count word frequency\n",
    "\n",
    "You can use a dictionary to create a categorical distribution of the words in a sentence:"
   ]
  },
  {
   "cell_type": "code",
   "execution_count": 3,
   "metadata": {},
   "outputs": [
    {
     "data": {
      "text/plain": [
       "{'Jack': 3,\n",
       " 'be': 2,\n",
       " 'nimble,': 1,\n",
       " 'quick,': 1,\n",
       " 'jump': 1,\n",
       " 'over': 1,\n",
       " 'the': 1,\n",
       " 'candlestick': 1}"
      ]
     },
     "execution_count": 3,
     "metadata": {},
     "output_type": "execute_result"
    }
   ],
   "source": [
    "my_sentence = 'Jack be nimble, Jack be quick, Jack jump over the candlestick'\n",
    "my_words = my_sentence.split()\n",
    "\n",
    "categorical_distribution = {} # empty dictionary\n",
    "for word in my_words:\n",
    "    if word in categorical_distribution:\n",
    "        categorical_distribution[word] = categorical_distribution[word] + 1\n",
    "    else:\n",
    "        categorical_distribution[word] = 1\n",
    "        \n",
    "categorical_distribution"
   ]
  },
  {
   "cell_type": "markdown",
   "metadata": {},
   "source": [
    "Create a categorical distribution of words for all tweets.  \n",
    "* Are you surprised by the most common?"
   ]
  },
  {
   "cell_type": "code",
   "execution_count": 4,
   "metadata": {},
   "outputs": [],
   "source": [
    "# your code here"
   ]
  },
  {
   "cell_type": "markdown",
   "metadata": {},
   "source": [
    "# 2.b. Tokenize again (with NLTK this time)\n",
    "\n",
    "Why is UCSD only in 18?  \n",
    "\n",
    "Because of `@UCSD` and similar.  \n",
    "\n",
    "Tokenizing (like most things) is harder than it looks at first!  \n",
    "\n",
    "Generally, a good solution is to use a tool built for the job rather than rolling your own.  In this case, we will use the Python package Natural Language ToolKit, NLTK.  \n",
    "\n",
    "You may need to install NLTK and also download an English language corpus.  If so, do this in the terminal:\n",
    "\n",
    "```\n",
    "pip install --user nltk\n",
    "```\n",
    "\n",
    "Then in Jupyter run this once:\n",
    "```\n",
    "import nltk\n",
    "nltk.download('punkt')\n",
    "```\n",
    "\n",
    "Run the code below to use NLTK's tokenizer, and then repeat the process of removing short words and counting."
   ]
  },
  {
   "cell_type": "code",
   "execution_count": 1,
   "metadata": {},
   "outputs": [
    {
     "name": "stdout",
     "output_type": "stream",
     "text": [
      "[nltk_data] Downloading package punkt to /Users/afraenkel/nltk_data...\n",
      "[nltk_data]   Unzipping tokenizers/punkt.zip.\n"
     ]
    },
    {
     "data": {
      "text/plain": [
       "True"
      ]
     },
     "execution_count": 1,
     "metadata": {},
     "output_type": "execute_result"
    }
   ],
   "source": [
    "from nltk import tokenize\n",
    "import nltk\n",
    "nltk.download('punkt')"
   ]
  },
  {
   "cell_type": "code",
   "execution_count": null,
   "metadata": {},
   "outputs": [],
   "source": [
    "allText = ... # pass in a string consisting of all tweets\n",
    "\n",
    "wordList = tokenize.word_tokenize(allText)\n",
    "len(wordList)"
   ]
  },
  {
   "cell_type": "markdown",
   "metadata": {},
   "source": [
    "# 3.b. Count (again)"
   ]
  },
  {
   "cell_type": "code",
   "execution_count": null,
   "metadata": {},
   "outputs": [],
   "source": [
    "# Remove short words"
   ]
  },
  {
   "cell_type": "code",
   "execution_count": null,
   "metadata": {},
   "outputs": [],
   "source": [
    "# Count"
   ]
  },
  {
   "cell_type": "markdown",
   "metadata": {},
   "source": [
    "# Sentiment with NLTK\n",
    "\n",
    "What is sentiment?  Why do we care?\n",
    "\n",
    "Will need to run once:\n",
    "```\n",
    "nltk.download('vader_lexicon')\n",
    "```"
   ]
  },
  {
   "cell_type": "code",
   "execution_count": 9,
   "metadata": {},
   "outputs": [
    {
     "name": "stdout",
     "output_type": "stream",
     "text": [
      "[nltk_data] Downloading package vader_lexicon to\n",
      "[nltk_data]     /Users/afraenkel/nltk_data...\n"
     ]
    },
    {
     "data": {
      "text/plain": [
       "True"
      ]
     },
     "execution_count": 9,
     "metadata": {},
     "output_type": "execute_result"
    }
   ],
   "source": [
    "nltk.download('vader_lexicon')"
   ]
  },
  {
   "cell_type": "code",
   "execution_count": 7,
   "metadata": {},
   "outputs": [
    {
     "name": "stderr",
     "output_type": "stream",
     "text": [
      "/Users/afraenkel/anaconda/lib/python3.6/site-packages/nltk/twitter/__init__.py:20: UserWarning: The twython library has not been installed. Some functionality from the twitter package will not be available.\n",
      "  warnings.warn(\"The twython library has not been installed. \"\n"
     ]
    }
   ],
   "source": [
    "from nltk.sentiment.vader import SentimentIntensityAnalyzer"
   ]
  },
  {
   "cell_type": "code",
   "execution_count": 10,
   "metadata": {},
   "outputs": [
    {
     "data": {
      "text/plain": [
       "{'neg': 0.0, 'neu': 0.239, 'pos': 0.761, 'compound': 0.4926}"
      ]
     },
     "execution_count": 10,
     "metadata": {},
     "output_type": "execute_result"
    }
   ],
   "source": [
    "sid = SentimentIntensityAnalyzer()\n",
    "sid.polarity_scores(\"Good test!\")"
   ]
  },
  {
   "cell_type": "code",
   "execution_count": 11,
   "metadata": {},
   "outputs": [],
   "source": [
    "tweets = Table.read_table('data/UCSD tweets.csv')\n",
    "tweetList = tweets.column('text') # a list of strings, with each string a tweet"
   ]
  },
  {
   "cell_type": "code",
   "execution_count": null,
   "metadata": {},
   "outputs": [],
   "source": [
    "tweetSentiments = []\n",
    "\n",
    "for tweet in tweetList:\n",
    "    tweetSentiment = sid.polarity_scores(tweet)\n",
    "    tweetSentiment['text'] = tweet\n",
    "    tweetSentiments.append(tweetSentiment)\n",
    "    \n",
    "tweetSentiments # a list of dictionaries, with text of tweets and sentiments\n"
   ]
  },
  {
   "cell_type": "code",
   "execution_count": 18,
   "metadata": {},
   "outputs": [
    {
     "data": {
      "text/html": [
       "<table border=\"1\" class=\"dataframe\">\n",
       "    <thead>\n",
       "        <tr>\n",
       "            <th>compound</th> <th>neg</th> <th>neu</th> <th>pos</th> <th>text</th>\n",
       "        </tr>\n",
       "    </thead>\n",
       "    <tbody>\n",
       "        <tr>\n",
       "            <td>0.6369  </td> <td>0    </td> <td>0.682</td> <td>0.318</td> <td>UCSD ranked 7th best school in US by Washington Monthly     </td>\n",
       "        </tr>\n",
       "        <tr>\n",
       "            <td>-0.4215 </td> <td>0.237</td> <td>0.763</td> <td>0    </td> <td>it physically pains me that UCSD doesn’t have a football ...</td>\n",
       "        </tr>\n",
       "        <tr>\n",
       "            <td>0       </td> <td>0    </td> <td>1    </td> <td>0    </td> <td>A card mis-judged a parking space and over-ran a parking ...</td>\n",
       "        </tr>\n",
       "        <tr>\n",
       "            <td>0.8659  </td> <td>0    </td> <td>0.72 </td> <td>0.28 </td> <td>Almost 50% increase in #PedsICU engagement from last wee ...</td>\n",
       "        </tr>\n",
       "        <tr>\n",
       "            <td>0.0772  </td> <td>0    </td> <td>0.954</td> <td>0.046</td> <td>here’s a tinge of classism in saying SDSU should make do ...</td>\n",
       "        </tr>\n",
       "        <tr>\n",
       "            <td>0.4588  </td> <td>0    </td> <td>0.885</td> <td>0.115</td> <td>This past weekend we observed the 25th anniversary of th ...</td>\n",
       "        </tr>\n",
       "        <tr>\n",
       "            <td>-0.6801 </td> <td>0.424</td> <td>0.443</td> <td>0.133</td> <td>I HATE UCSD SO MUCH THEYRE SO ANNOYING OHHHHH MY GOD        </td>\n",
       "        </tr>\n",
       "        <tr>\n",
       "            <td>-0.5319 </td> <td>0.231</td> <td>0.657</td> <td>0.112</td> <td>LMFAOOO UCSD JUST CALLED ME ASKING IF I COULD MAKE A $25 ...</td>\n",
       "        </tr>\n",
       "        <tr>\n",
       "            <td>0.6369  </td> <td>0    </td> <td>0.682</td> <td>0.318</td> <td>I chose UCSD because it has the best fb meme group          </td>\n",
       "        </tr>\n",
       "        <tr>\n",
       "            <td>0.34    </td> <td>0    </td> <td>0.789</td> <td>0.211</td> <td>High key excited to be going back to UCSD 💙💛                </td>\n",
       "        </tr>\n",
       "    </tbody>\n",
       "</table>\n",
       "<p>... (30 rows omitted)</p>"
      ],
      "text/plain": [
       "compound | neg   | neu   | pos   | text\n",
       "0.6369   | 0     | 0.682 | 0.318 | UCSD ranked 7th best school in US by Washington Monthly\n",
       "-0.4215  | 0.237 | 0.763 | 0     | it physically pains me that UCSD doesn’t have a football ...\n",
       "0        | 0     | 1     | 0     | A card mis-judged a parking space and over-ran a parking ...\n",
       "0.8659   | 0     | 0.72  | 0.28  | Almost 50% increase in #PedsICU engagement from last wee ...\n",
       "0.0772   | 0     | 0.954 | 0.046 | here’s a tinge of classism in saying SDSU should make do ...\n",
       "0.4588   | 0     | 0.885 | 0.115 | This past weekend we observed the 25th anniversary of th ...\n",
       "-0.6801  | 0.424 | 0.443 | 0.133 | I HATE UCSD SO MUCH THEYRE SO ANNOYING OHHHHH MY GOD\n",
       "-0.5319  | 0.231 | 0.657 | 0.112 | LMFAOOO UCSD JUST CALLED ME ASKING IF I COULD MAKE A $25 ...\n",
       "0.6369   | 0     | 0.682 | 0.318 | I chose UCSD because it has the best fb meme group\n",
       "0.34     | 0     | 0.789 | 0.211 | High key excited to be going back to UCSD 💙💛\n",
       "... (30 rows omitted)"
      ]
     },
     "execution_count": 18,
     "metadata": {},
     "output_type": "execute_result"
    }
   ],
   "source": [
    "Table.from_records(tweetSentiments)"
   ]
  },
  {
   "cell_type": "code",
   "execution_count": null,
   "metadata": {},
   "outputs": [],
   "source": [
    "tweetSentimentDf.sort_values('compound')"
   ]
  },
  {
   "cell_type": "markdown",
   "metadata": {},
   "source": [
    "# Next Steps\n",
    "\n",
    "* load the file of \"internet research agency\" tweets (a small sample) and explore!\n",
    "    - `data/ira.csv`"
   ]
  },
  {
   "cell_type": "code",
   "execution_count": null,
   "metadata": {},
   "outputs": [],
   "source": []
  }
 ],
 "metadata": {
  "kernelspec": {
   "display_name": "Python 3",
   "language": "python",
   "name": "python3"
  },
  "language_info": {
   "codemirror_mode": {
    "name": "ipython",
    "version": 3
   },
   "file_extension": ".py",
   "mimetype": "text/x-python",
   "name": "python",
   "nbconvert_exporter": "python",
   "pygments_lexer": "ipython3",
   "version": "3.6.5"
  }
 },
 "nbformat": 4,
 "nbformat_minor": 2
}
