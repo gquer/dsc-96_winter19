{
 "cells": [
  {
   "cell_type": "markdown",
   "metadata": {},
   "source": [
    "# Text Processing\n",
    "\n",
    "The file `UCSD tweets.csv` has a small number of tweets from August and September 2018 that contained the term \"UCSD\".  Let's analyze them!\n",
    "\n",
    "### Steps\n",
    "\n",
    "Each step is explained in more detail below\n",
    "1. Open the CSV and explore the data\n",
    "2. Clean the data\n",
    "3. Count word frequency\n",
    "4. Sentiment analysis"
   ]
  },
  {
   "cell_type": "code",
   "execution_count": 4,
   "metadata": {},
   "outputs": [],
   "source": [
    "# Imports\n",
    "%matplotlib inline\n",
    "\n",
    "import numpy as np\n",
    "from datascience import *"
   ]
  },
  {
   "cell_type": "markdown",
   "metadata": {},
   "source": [
    "# 1. Open the CSV and explore the data\n",
    "\n",
    "### Steps:\n",
    "* load the data from `data/UCSD tweets.csv`\n",
    "* Examine the data.  How many tweets are there?  How long is the shortest tweet?  Longest?"
   ]
  },
  {
   "cell_type": "code",
   "execution_count": 2,
   "metadata": {},
   "outputs": [],
   "source": [
    "# you code here\n",
    "tweets = [x.strip() for x in open(\"data/UCSD tweets.csv\").readlines()]"
   ]
  },
  {
   "cell_type": "code",
   "execution_count": 3,
   "metadata": {},
   "outputs": [
    {
     "data": {
      "text/plain": [
       "['username,date,text',\n",
       " '@fox5sandiego,Aug 27,UCSD ranked 7th best school in US by Washington Monthly',\n",
       " '@KamaFaye,Sep 1,it physically pains me that UCSD doesn’t have a football team',\n",
       " '@team10news_CA,Sep 2,A card mis-judged a parking space and over-ran a parking lot in the process taking out about about 40 to 50 feet of chain-link fence this morning at the Nobel apartments in the UCSD area.  Around 9:10 AM I... https://www.facebook.com/JAMIESCOTTmobile/posts/2177799288905402 …',\n",
       " '@SapnaKmd,Sep 2,Almost 50% increase in #PedsICU engagement from last week & >1000 tweets!👌🏽Special shoutout to @DrKanaris for the new Friday #PedsICU quiz tradition & @UCSD_PICU for the great #meded! @healthhashtags #medtwitter',\n",
       " '@kabeerthirty,Aug 27T,here’s a tinge of classism in saying SDSU should make do with its 283 acres while UCSD accommodates roughly the same number of students on its idyllic 2141-acre campus',\n",
       " '@KNBKSoshihan,Sep 2,This past weekend we observed the 25th anniversary of the UCSD Iaido club in San Diego. The training was dedicated to our past teachers.',\n",
       " '@jessiejpg,Aug 29,I HATE UCSD SO MUCH THEYRE SO ANNOYING OHHHHH MY GOD',\n",
       " '@Juanickers,Aug 29,LMFAOOO UCSD JUST CALLED ME ASKING IF I COULD MAKE A $250 (T W O HUNDRED FIFTY DOLLAR) DONATION LIKE BITCH HOW BOUT YOU PAY ME',\n",
       " '@savvymunoz,Aug 31,I chose UCSD because it has the best fb meme group',\n",
       " '@Yokwellzy,Aug 31,High key excited to be going back to UCSD 💙💛',\n",
       " '@clairewineland,Aug 26,OMG!! Got THE CALL for lungs at 5:30am! Waiting at UCSD to make sure they are a go..if so I could have new lungs TODAY!! 😂😂🦋 #cysticfibrosis #trandplanttime',\n",
       " '@caitvw,Aug 31,Did ya’ll know I was initially waitlisted at MIT and straight up rejected from UCSD for grad school. Just in case you were thinking about giving up.',\n",
       " \"@sdut,Sep 1,UCSD women's soccer wins home opener as McManus eats pizza http://dlvr.it/Qhr6Qp\",\n",
       " '@alphajoystan,Aug 28,i can’t believe that in a month summer manar and i will all being going to the same school... ucsd? more like tumblr university',\n",
       " '@UCSDnews,Aug 27,@UCSanDiego named No.1 public university in the nation by  Washington Monthly for its contributions to social mobility research and public service. @washmonthly #ucsd #TritonPride http://ow.ly/TKnC30lzFBs',\n",
       " '@HenryWa38828162,Aug 28,USC rejected me and UCSD accepted me so disappointed.',\n",
       " \"@ucsdbe,Sep 2,Summer's winding down ... how many new UCSD Bioengineering students become alums this coming year? Good luck to you guys!\",\n",
       " '@ACHPRPICU,Sep 1,I can’t seem to find a good time to remind everyone that the inaugural #PedsICU Journal Club will commence on Sept. 18 at 7 central time. 10 pm on a Saturday isn’t it but I’ll RT later.',\n",
       " '@ghicelanne,Sep 1,UCSD REINSTATED ME IT’S MODELO TIME',\n",
       " '@UCSDTrauma,Sep 2,Great opportunity to take the ATOM & ASSET trauma courses at the the @CFS_UCSD facility during #AAST2018 #wtc2018 at @UCSDsurgery',\n",
       " '@UCSDKnockAround,Sep 2,Jumping for joy on this easy Monday. #laborday #holiday #sandiego #california @ UCSD - University of California San Diego https://www.instagram.com/p/BnRkQwEHJiu/?utm_source=ig_twitter_share&igshid=q4h7a4a4khwn …',\n",
       " '@DiCiccoMethod,Sep 1,This is a weird story. Of note UCSD’s Athletic Director is Earl Edwards father of Orlando City GK Earl Edwards Jr.',\n",
       " '@DrLTMiles,Sep 2,Second #NASPA proposal submitted. 😅 This one in collaboration with my dear friends and colleagues who co-organized the UC first-gen symposium hosted @UCSD. @AleceAnderson @ucfirstgen @UCdiverse #teamworkmakesthedreamwork',\n",
       " '@AndyBiotech,Sep 2,Very interesting work from UCSD Neutrophil nanosponges soak up proteins that promote rheumatoid arthritis',\n",
       " \"@EDHopeGlobal,Sep 2,Part one of our series by @UCSD_EDC's Dr. Walter Kaye Anorexia Current & Prior Research: Implications for Improved Treatment fom Eating Disorder Hope’s Virtual Conference “Anorexia Hope & Healing in 2018”\",\n",
       " \"@GoRedlands,Sep 2,U of R Men's Water Polo Tops Chapman to Highlight Day Two of UCSD Triton Invite http://www.goredlands.com/x/zopca  #URDawgs #TimeToShine\",\n",
       " '@CO2_earth,Sep 2,📈  405.60 parts per million (ppm) #CO2 in the atmosphere on September 2 2018  🔗  #Scripps #UCSD Mauna Loa data & graphic: https://scripps.ucsd.edu/programs/keelingcurve/ …  👥  Also view daily CO2 updates at https://www.co2.earth/daily-co2',\n",
       " '@UCSDTritonsMWP,Sep 2,Thank you to all the teams & supporters who made it down to La Jolla for the annual #TritonInvite. It is always an exciting event & we are grateful to host the start of the 2018 season. The next home game for @UCSDTritonsMWP will be September 19th at 6pm against @LBSUWaterPolo!',\n",
       " \"@cherrycoolio,Sep 2,I can't believe I have the privilege to say that I am a student in the Jacob Sartorius School of Engineering at UCSD.  🤧\",\n",
       " '@TPHS_Basketball,Sep 2,Congrats to junior forward Brandon Angel on his offer from future Big West school UCSD! #GoFalcons',\n",
       " '@GDunnArt,Sep 2,One of my first #retina paintings that now hangs at #UCSD. Commissioned in 2012. #goldleaf #art https://buff.ly/LGtoGE',\n",
       " \"@ucsdxc,Sep 1,More on the men finishing second and the women taking third at today's Mark Covert Classic to open the season. http://www.ucsdtritons.com/ViewArticle.dbml?DB_OEM_ID=5800&ATCLID=211770300 … #GoTritons 🔱\",\n",
       " '@STangGirdwood,Sep 2,#PHMFellowsJC is hosting our first journal club this month too! Tues Sept 11 9 pm EST. Would love to have #PedsICU join us to discuss the recently published @JAMA_current paper on the NY sepsis mandate. More details to come this Tuesday!',\n",
       " '@UCSDTrauma,Sep 1,Great opportunity to take the ATOM & ASSET trauma courses at the the @CFS_UCSD facility during #AAST2018 #wtc2018 at @UCSDsurgery',\n",
       " '@UCSDCooperLab,Aug 31,Live from India - my travel blog has returned. This goes back to 2005 and includes all my China travels that were long ago cross posted to the Node: http://phdtraveler.blogspot.com',\n",
       " '@GamepointNation,Aug 31,2019 G Bryce Pope (Torrey Pines) has committed to UCSD. #gpnation',\n",
       " '@UCSDsurgery,Aug 31,Did you know that @UCSDHealth #surgeons have performed >3900 #pulmonary thromboendarterectomy procedures which remove deadly clots from the lungs. Thank you Dr. Michael Madani for leading the program & helping patients live longer healthier lives. @STS_CTsurgery @annalsthorsurg',\n",
       " '@vicki_challinor,Aug 30,The new MZmine-GNPS tutorial is making my day - thanks @GNPS_UCSD! #RealTimeChem #chemtwitter',\n",
       " '@UCSD_PICU,Aug 30,Stats 101 Deep Thoughts #pedsICU',\n",
       " '@korimaggart, Aug 30,Classroom management @UHS_UCSD. Setting expectations for different types of student groupings.']"
      ]
     },
     "execution_count": 3,
     "metadata": {},
     "output_type": "execute_result"
    }
   ],
   "source": [
    "# your code here\n",
    "tweets"
   ]
  },
  {
   "cell_type": "markdown",
   "metadata": {},
   "source": [
    "# 2. Clean the data\n",
    "\n",
    "### Filter out tweets that don't have `UCSD` in the text\n",
    "\n",
    "The Twitter search matches on both username and tweet text.  We want just the ones that have a match in the tweet itself.  The result should be a new dataframe with the subset of matching tweets.\n",
    "\n",
    "* create functions to apply to your table and clean your data\n",
    "* use where clauses to filter"
   ]
  },
  {
   "cell_type": "code",
   "execution_count": null,
   "metadata": {},
   "outputs": [],
   "source": [
    "# your code here"
   ]
  },
  {
   "cell_type": "markdown",
   "metadata": {},
   "source": [
    "## Check for duplicates\n",
    "\n",
    "See if any of the tweets have exactly the same text.  If so, are they true duplicates?  Does it make sense to remove them?"
   ]
  },
  {
   "cell_type": "code",
   "execution_count": null,
   "metadata": {},
   "outputs": [],
   "source": [
    "# your code here"
   ]
  },
  {
   "cell_type": "markdown",
   "metadata": {},
   "source": [
    "# 2. Count Words\n",
    "\n",
    "We want to find out what the most frequent words are, so we need to split things up.  In text this is called tokenizing.\n",
    "\n",
    "### Steps\n",
    "\n",
    "1. Make a single long string with all of the tweet text.  Make sure to put spaces between them!\n",
    "2. Split the tweets into a list of words using `.split()`\n",
    "3. Print out the first 20 words to make sure it looks like what you think it should.\n",
    "\n",
    "How many words are there all together?  How many distinct words? (remember `set()`)"
   ]
  },
  {
   "cell_type": "code",
   "execution_count": null,
   "metadata": {},
   "outputs": [],
   "source": [
    "# your code here"
   ]
  },
  {
   "cell_type": "markdown",
   "metadata": {},
   "source": [
    "### Remove short words\n",
    "\n",
    "Short words are really common, and aren't super helpful for comparing word count.  Usually it is best to remove what are called \"stop words\", which include things like \"of\", \"a\", \"in\", etc.  In this case we will just remove all words that are less than three charecters long.\n",
    "\n",
    "The result should be a new list of words.  How many total?  How many unique?"
   ]
  },
  {
   "cell_type": "code",
   "execution_count": null,
   "metadata": {},
   "outputs": [],
   "source": [
    "# Your code here"
   ]
  },
  {
   "cell_type": "markdown",
   "metadata": {},
   "source": [
    "# 3. Count word frequency\n",
    "\n",
    "You can use a dictionary to create a categorical distribution of the words in a sentence:"
   ]
  },
  {
   "cell_type": "code",
   "execution_count": null,
   "metadata": {},
   "outputs": [],
   "source": [
    "my_sentence = 'Jack be nimble, Jack be quick, Jack jump over the candlestick'\n",
    "my_words = my_sentence.split()\n",
    "\n",
    "categorical_distribution = {} # empty dictionary\n",
    "for word in my_words:\n",
    "    if word in categorical_distribution:\n",
    "        categorical_distribution[word] = categorical_distribution[word] + 1\n",
    "    else:\n",
    "        categorical_distribution[word] = 1\n",
    "        \n",
    "categorical_distribution"
   ]
  },
  {
   "cell_type": "markdown",
   "metadata": {},
   "source": [
    "Create a categorical distribution of words for all tweets.  \n",
    "* Are you surprised by the most common?"
   ]
  },
  {
   "cell_type": "code",
   "execution_count": null,
   "metadata": {},
   "outputs": [],
   "source": [
    "# your code here"
   ]
  },
  {
   "cell_type": "markdown",
   "metadata": {},
   "source": [
    "# 2.b. Tokenize again (with NLTK this time)\n",
    "\n",
    "Why is UCSD only in 18?  \n",
    "\n",
    "Because of `@UCSD` and similar.  \n",
    "\n",
    "Tokenizing (like most things) is harder than it looks at first!  \n",
    "\n",
    "Generally, a good solution is to use a tool built for the job rather than rolling your own.  In this case, we will use the Python package Natural Language ToolKit, NLTK.  \n",
    "\n",
    "You may need to install NLTK and also download an English language corpus.  If so, do this in the terminal:\n",
    "\n",
    "```\n",
    "pip install --user nltk\n",
    "```\n",
    "\n",
    "Then in Jupyter run this once:\n",
    "```\n",
    "import nltk\n",
    "nltk.download('punkt')\n",
    "```\n",
    "\n",
    "Run the code below to use NLTK's tokenizer, and then repeat the process of removing short words and counting."
   ]
  },
  {
   "cell_type": "code",
   "execution_count": null,
   "metadata": {},
   "outputs": [],
   "source": [
    "from nltk import tokenize\n",
    "import nltk\n",
    "nltk.download('punkt')"
   ]
  },
  {
   "cell_type": "code",
   "execution_count": null,
   "metadata": {},
   "outputs": [],
   "source": [
    "allText = ... # pass in a string consisting of all tweets\n",
    "\n",
    "wordList = tokenize.word_tokenize(allText)\n",
    "len(wordList)"
   ]
  },
  {
   "cell_type": "markdown",
   "metadata": {},
   "source": [
    "# 3.b. Count (again)"
   ]
  },
  {
   "cell_type": "code",
   "execution_count": null,
   "metadata": {},
   "outputs": [],
   "source": [
    "# Remove short words"
   ]
  },
  {
   "cell_type": "code",
   "execution_count": null,
   "metadata": {},
   "outputs": [],
   "source": [
    "# Count"
   ]
  },
  {
   "cell_type": "markdown",
   "metadata": {},
   "source": [
    "# Sentiment with NLTK\n",
    "\n",
    "What is sentiment?  Why do we care?\n",
    "\n",
    "Will need to run once:\n",
    "```\n",
    "nltk.download('vader_lexicon')\n",
    "```"
   ]
  },
  {
   "cell_type": "code",
   "execution_count": null,
   "metadata": {},
   "outputs": [],
   "source": [
    "nltk.download('vader_lexicon')"
   ]
  },
  {
   "cell_type": "code",
   "execution_count": null,
   "metadata": {},
   "outputs": [],
   "source": [
    "from nltk.sentiment.vader import SentimentIntensityAnalyzer"
   ]
  },
  {
   "cell_type": "code",
   "execution_count": null,
   "metadata": {},
   "outputs": [],
   "source": [
    "sid = SentimentIntensityAnalyzer()\n",
    "sid.polarity_scores(\"Good test!\")"
   ]
  },
  {
   "cell_type": "code",
   "execution_count": null,
   "metadata": {},
   "outputs": [],
   "source": [
    "tweets = Table.read_table('data/UCSD tweets.csv')\n",
    "tweetList = tweets.column('text') # a list of strings, with each string a tweet"
   ]
  },
  {
   "cell_type": "code",
   "execution_count": null,
   "metadata": {},
   "outputs": [],
   "source": [
    "tweetSentiments = []\n",
    "\n",
    "for tweet in tweetList:\n",
    "    tweetSentiment = sid.polarity_scores(tweet)\n",
    "    tweetSentiment['text'] = tweet\n",
    "    tweetSentiments.append(tweetSentiment)\n",
    "    \n",
    "tweetSentiments # a list of dictionaries, with text of tweets and sentiments\n"
   ]
  },
  {
   "cell_type": "code",
   "execution_count": null,
   "metadata": {},
   "outputs": [],
   "source": [
    "Table.from_records(tweetSentiments)"
   ]
  },
  {
   "cell_type": "code",
   "execution_count": null,
   "metadata": {},
   "outputs": [],
   "source": [
    "tweetSentimentDf.sort_values('compound')"
   ]
  },
  {
   "cell_type": "markdown",
   "metadata": {},
   "source": [
    "# Next Steps\n",
    "\n",
    "* load the file of \"internet research agency\" tweets (a small sample) and explore!\n",
    "    - `data/ira.csv`"
   ]
  },
  {
   "cell_type": "code",
   "execution_count": null,
   "metadata": {},
   "outputs": [],
   "source": []
  }
 ],
 "metadata": {
  "kernelspec": {
   "display_name": "Python 3",
   "language": "python",
   "name": "python3"
  },
  "language_info": {
   "codemirror_mode": {
    "name": "ipython",
    "version": 3
   },
   "file_extension": ".py",
   "mimetype": "text/x-python",
   "name": "python",
   "nbconvert_exporter": "python",
   "pygments_lexer": "ipython3",
   "version": "3.6.7"
  }
 },
 "nbformat": 4,
 "nbformat_minor": 2
}
