{
 "cells": [
  {
   "cell_type": "markdown",
   "metadata": {},
   "source": [
    "# Intro to Pandas\n",
    "\n",
    "Pandas is a Python library that is similar to the `datascience` module you have been using in DSC10.  Frankly, I find the official dicumentation ([here](https://pandas.pydata.org/)) kind of confusing, and mostly use Stack Overflow to figure out how to do things.  Here we will go over some of the basic ways to manipulate tabluar data with Pandas.\n",
    "\n",
    "[This video](https://vimeo.com/59324550) is a good introduction also, and is paired with a Jupyter notebook ([here](http://nbviewer.jupyter.org/urls/gist.github.com/wesm/4757075/raw/a72d3450ad4924d0e74fb57c9f62d1d895ea4574/PandasTour.ipynb)) that covers things slightly differently.\n",
    "\n",
    "This notebook is adapted from Dennis Tenin's [Lede Program](https://github.com/ledeprogram/courses/blob/master/README.md)\n",
    "\n",
    "(FYI - more good basketball data is at [538](http://eightthirtyfour.com/data))"
   ]
  },
  {
   "cell_type": "code",
   "execution_count": null,
   "metadata": {},
   "outputs": [],
   "source": [
    "import pandas as pd"
   ]
  },
  {
   "cell_type": "code",
   "execution_count": null,
   "metadata": {},
   "outputs": [],
   "source": [
    "nba_df = pd.read_csv(\"NBA 2013.csv\")"
   ]
  },
  {
   "cell_type": "code",
   "execution_count": null,
   "metadata": {},
   "outputs": [],
   "source": [
    "# Look at the first 10 rows\n",
    "nba_df.head(10)"
   ]
  },
  {
   "cell_type": "code",
   "execution_count": null,
   "metadata": {},
   "outputs": [],
   "source": [
    "# Find out how many players are in each position\n",
    "nba_df[\"POS\"].value_counts()"
   ]
  },
  {
   "cell_type": "code",
   "execution_count": null,
   "metadata": {},
   "outputs": [],
   "source": [
    "# Get all of the people who match a certain characteristic\n",
    "nba_df[nba_df[\"POS\"] == \"F\"].head()"
   ]
  },
  {
   "cell_type": "code",
   "execution_count": null,
   "metadata": {},
   "outputs": [],
   "source": [
    "# Get all of the people who match a certain characteristic\n",
    "nba_df[(nba_df[\"POS\"] == \"F\") & (nba_df[\"HS Only\"] == \"No\") ].head()"
   ]
  },
  {
   "cell_type": "code",
   "execution_count": null,
   "metadata": {},
   "outputs": [],
   "source": [
    "# Get all of the people who match one of any X characteristics\n",
    "nba_df[(nba_df[\"POS\"] == \"F\") | (nba_df[\"POS\"] == \"G\") ].head()"
   ]
  },
  {
   "cell_type": "code",
   "execution_count": null,
   "metadata": {},
   "outputs": [],
   "source": [
    "# Retrieve what's nan/null/etc\n",
    "nba_df[pd.isnull(nba_df[\"Race\"])].head()"
   ]
  },
  {
   "cell_type": "code",
   "execution_count": null,
   "metadata": {},
   "outputs": [],
   "source": [
    "# Retrieve what's NOT nan/null/etc\n",
    "nba_df[~pd.isnull(nba_df[\"Race\"])].head()"
   ]
  },
  {
   "cell_type": "code",
   "execution_count": null,
   "metadata": {},
   "outputs": [],
   "source": [
    "# or this\n",
    "nba_df[pd.notnull(nba_df[\"Race\"])].head()"
   ]
  },
  {
   "cell_type": "code",
   "execution_count": null,
   "metadata": {},
   "outputs": [],
   "source": [
    "nba_df[pd.notnull(nba_df[\"Race\"])].head()"
   ]
  },
  {
   "cell_type": "code",
   "execution_count": null,
   "metadata": {},
   "outputs": [],
   "source": [
    "# Get numerical data on a column\n",
    "# If you're dealing with labels or groups, use .value_counts()\n",
    "nba_df[\"Age\"].describe()"
   ]
  },
  {
   "cell_type": "code",
   "execution_count": null,
   "metadata": {},
   "outputs": [],
   "source": [
    "# Get numerical data on grouped data\n",
    "nba_df.groupby(\"POS\")[\"Age\"].describe()"
   ]
  },
  {
   "cell_type": "code",
   "execution_count": null,
   "metadata": {},
   "outputs": [],
   "source": [
    "# Remove columns that you HATE with .drop\n",
    "# Need to save it as a new (or the same) variable\n",
    "nba_df = nba_df.drop([\"City\"], axis=1)\n",
    "nba_df.columns"
   ]
  },
  {
   "cell_type": "code",
   "execution_count": null,
   "metadata": {},
   "outputs": [],
   "source": [
    "# Calculate a new column from an existing column\n",
    "nba_df[\"Ht (Cm.)\"] = nba_df[\"Ht (In.)\"] * 2.54\n",
    "nba_df[:2]"
   ]
  },
  {
   "cell_type": "code",
   "execution_count": null,
   "metadata": {},
   "outputs": [],
   "source": [
    "# String manipulation on an entire column\n",
    "# Need to use .str to treat it as a string\n",
    "nba_df[\"Name\"].str.lower()"
   ]
  },
  {
   "cell_type": "code",
   "execution_count": null,
   "metadata": {},
   "outputs": [],
   "source": [
    "# Do more intense manipulation with .apply + an external function\n",
    "# You will always forget to do axis=1, so remember it!\n",
    "# Just treat row like a dictionary, it goes one at a time\n",
    "def do_i_like_them(row):\n",
    "    if row[\"Age\"] >= 31:\n",
    "        return True\n",
    "    else:\n",
    "        return False\n",
    "\n",
    "nba_df[\"Liked\"] = nba_df.apply(do_i_like_them, axis=1)\n",
    "nba_df[\"Liked\"].value_counts()"
   ]
  },
  {
   "cell_type": "code",
   "execution_count": null,
   "metadata": {},
   "outputs": [],
   "source": [
    "# Get one column of a dataframe\n",
    "nba_df.iloc[0]"
   ]
  },
  {
   "cell_type": "code",
   "execution_count": null,
   "metadata": {},
   "outputs": [],
   "source": [
    "# For loops with dataframes\n",
    "# Can't do for row in nba_df, gotta use iterrows()\n",
    "for index, row in nba_df.iterrows():\n",
    "    print(str(index) + \": \" + row[\"Name\"])"
   ]
  },
  {
   "cell_type": "code",
   "execution_count": null,
   "metadata": {},
   "outputs": [],
   "source": [
    "# Grouping by as many as you want\n",
    "# Be sure to put the groupby stuff in square brackets\n",
    "nba_df.groupby([\"POS\", \"Race\"])[\"Age\"].describe()"
   ]
  },
  {
   "cell_type": "code",
   "execution_count": null,
   "metadata": {},
   "outputs": [],
   "source": [
    "# Histograms\n",
    "# Shows you the spread of one numerical value\n",
    "nba_df[\"Age\"].hist()"
   ]
  },
  {
   "cell_type": "code",
   "execution_count": null,
   "metadata": {},
   "outputs": [],
   "source": [
    "# Scatterplots show you the relationship of two numerical values\n",
    "nba_df.plot(\"Ht (In.)\",\"WT\", kind='scatter')"
   ]
  },
  {
   "cell_type": "code",
   "execution_count": null,
   "metadata": {},
   "outputs": [],
   "source": []
  }
 ],
 "metadata": {
  "kernelspec": {
   "display_name": "Python 3",
   "language": "python",
   "name": "python3"
  },
  "language_info": {
   "codemirror_mode": {
    "name": "ipython",
    "version": 3
   },
   "file_extension": ".py",
   "mimetype": "text/x-python",
   "name": "python",
   "nbconvert_exporter": "python",
   "pygments_lexer": "ipython3",
   "version": "3.6.6"
  }
 },
 "nbformat": 4,
 "nbformat_minor": 2
}
