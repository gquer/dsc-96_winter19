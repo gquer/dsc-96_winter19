{
 "cells": [
  {
   "cell_type": "markdown",
   "metadata": {},
   "source": [
    "# String operations and regular expressions\n",
    "\n",
    "Today we talk about strings. When we have a string, we might want to ask whether it has particular characteristics---does it start with a particular character? Does it contain within it another string?---or try to extract smaller parts of the string, like the first fifteen characters, or say, the part of the string inside parentheses. Or we may want to transform the string into another string altogether, by (for example) converting its characters to upper case, or replacing substrings within it with other substrings. Today we discuss how to do these things in Python.\n",
    "\n",
    "This notebook is adapted from Dennis Tenin's [Lede Program](https://github.com/ledeprogram/courses/blob/master/README.md)\n",
    "\n",
    "## Simple string checks\n",
    "\n",
    "There are a number of functions, methods and operators that can tell us whether or not a Python string matches certain characteristics. Let's talk about the `in` operator first:"
   ]
  },
  {
   "cell_type": "code",
   "execution_count": 31,
   "metadata": {},
   "outputs": [
    {
     "data": {
      "text/plain": [
       "True"
      ]
     },
     "execution_count": 31,
     "metadata": {},
     "output_type": "execute_result"
    }
   ],
   "source": [
    "\"foo\" in \"buffoon\""
   ]
  },
  {
   "cell_type": "code",
   "execution_count": 32,
   "metadata": {},
   "outputs": [
    {
     "data": {
      "text/plain": [
       "False"
      ]
     },
     "execution_count": 32,
     "metadata": {},
     "output_type": "execute_result"
    }
   ],
   "source": [
    "\"foo\" in \"reginald\""
   ]
  },
  {
   "cell_type": "markdown",
   "metadata": {},
   "source": [
    "The `in` operator takes one expression evaluating to a string on the left and another on the right, and returns `True` if the string on the left occurs somewhere inside of the string on the right.\n",
    "\n",
    "We can check to see if a string begins with or ends with another string using that string's `.startswith()` and `.endswith()` methods, respectively:"
   ]
  },
  {
   "cell_type": "code",
   "execution_count": 33,
   "metadata": {},
   "outputs": [
    {
     "data": {
      "text/plain": [
       "True"
      ]
     },
     "execution_count": 33,
     "metadata": {},
     "output_type": "execute_result"
    }
   ],
   "source": [
    "\"foodie\".startswith(\"foo\")"
   ]
  },
  {
   "cell_type": "code",
   "execution_count": 34,
   "metadata": {},
   "outputs": [
    {
     "data": {
      "text/plain": [
       "False"
      ]
     },
     "execution_count": 34,
     "metadata": {},
     "output_type": "execute_result"
    }
   ],
   "source": [
    "\"foodie\".endswith(\"foo\")"
   ]
  },
  {
   "cell_type": "markdown",
   "metadata": {},
   "source": [
    "The `.isdigit()` method returns `True` if Python thinks the string could represent an integer, and `False` otherwise:"
   ]
  },
  {
   "cell_type": "code",
   "execution_count": 35,
   "metadata": {},
   "outputs": [
    {
     "name": "stdout",
     "output_type": "stream",
     "text": [
      "False\n",
      "True\n"
     ]
    }
   ],
   "source": [
    "print(\"foodie\".isdigit())\n",
    "print(\"4567\".isdigit())"
   ]
  },
  {
   "cell_type": "markdown",
   "metadata": {},
   "source": [
    "And the `.islower()` and `.isupper()` methods return `True` if the string is in all lower case or all upper case, respectively (and `False` otherwise)."
   ]
  },
  {
   "cell_type": "code",
   "execution_count": 36,
   "metadata": {},
   "outputs": [
    {
     "name": "stdout",
     "output_type": "stream",
     "text": [
      "True\n",
      "False\n"
     ]
    }
   ],
   "source": [
    "print(\"foodie\".islower())\n",
    "print(\"foodie\".isupper())"
   ]
  },
  {
   "cell_type": "code",
   "execution_count": 37,
   "metadata": {},
   "outputs": [
    {
     "name": "stdout",
     "output_type": "stream",
     "text": [
      "False\n",
      "True\n"
     ]
    }
   ],
   "source": [
    "print(\"YELLING ON THE INTERNET\".islower())\n",
    "print(\"YELLING ON THE INTERNET\".isupper())"
   ]
  },
  {
   "cell_type": "markdown",
   "metadata": {},
   "source": [
    "## Finding substrings\n",
    "\n",
    "The `in` operator discussed above will tell us if a substring occurs in some other string. If we want to know *where* that substring occurs, we can use the `.find()` method. The `.find()` method takes a single parameter between its parentheses: an expression evaluating to a string, which will be searched for within the string whose `.find()` method was called. If the substring is found, the entire expression will evaluate to the index at which the substring is found. If the substring is not found, the expression evaluates to `-1`. To demonstrate:"
   ]
  },
  {
   "cell_type": "code",
   "execution_count": 38,
   "metadata": {},
   "outputs": [
    {
     "name": "stdout",
     "output_type": "stream",
     "text": [
      "11\n",
      "-1\n"
     ]
    }
   ],
   "source": [
    "print(\"Now is the winter of our discontent\".find(\"win\"))\n",
    "print(\"Now is the winter of our discontent\".find(\"lose\"))"
   ]
  },
  {
   "cell_type": "markdown",
   "metadata": {},
   "source": [
    "The `.count()` method will return the number of times a particular substring is found within the larger string:"
   ]
  },
  {
   "cell_type": "code",
   "execution_count": 39,
   "metadata": {},
   "outputs": [
    {
     "name": "stdout",
     "output_type": "stream",
     "text": [
      "3\n"
     ]
    }
   ],
   "source": [
    "print(\"I got rhythm, I got music, I got my man, who could ask for anything more\".count(\"I got\"))"
   ]
  },
  {
   "cell_type": "markdown",
   "metadata": {},
   "source": [
    "## String slices\n",
    "\n",
    "As has been alluded to previously, string slices work exactly like list slices---except you're getting characters from the string, instead of elements from a list. Observe:"
   ]
  },
  {
   "cell_type": "code",
   "execution_count": 40,
   "metadata": {},
   "outputs": [
    {
     "data": {
      "text/plain": [
       "'g'"
      ]
     },
     "execution_count": 40,
     "metadata": {},
     "output_type": "execute_result"
    }
   ],
   "source": [
    "message = \"bungalow\"\n",
    "message[3]"
   ]
  },
  {
   "cell_type": "code",
   "execution_count": 41,
   "metadata": {},
   "outputs": [
    {
     "data": {
      "text/plain": [
       "'ungal'"
      ]
     },
     "execution_count": 41,
     "metadata": {},
     "output_type": "execute_result"
    }
   ],
   "source": [
    "message[1:6]"
   ]
  },
  {
   "cell_type": "code",
   "execution_count": 42,
   "metadata": {},
   "outputs": [
    {
     "data": {
      "text/plain": [
       "'bun'"
      ]
     },
     "execution_count": 42,
     "metadata": {},
     "output_type": "execute_result"
    }
   ],
   "source": [
    "message[:3]"
   ]
  },
  {
   "cell_type": "code",
   "execution_count": 43,
   "metadata": {},
   "outputs": [
    {
     "data": {
      "text/plain": [
       "'ngalow'"
      ]
     },
     "execution_count": 43,
     "metadata": {},
     "output_type": "execute_result"
    }
   ],
   "source": [
    "message[2:]"
   ]
  },
  {
   "cell_type": "code",
   "execution_count": 44,
   "metadata": {},
   "outputs": [
    {
     "data": {
      "text/plain": [
       "'o'"
      ]
     },
     "execution_count": 44,
     "metadata": {},
     "output_type": "execute_result"
    }
   ],
   "source": [
    "message[-2]"
   ]
  },
  {
   "cell_type": "markdown",
   "metadata": {},
   "source": [
    "Combine this with the `find()` method and you can do things like write expressions that evaluate to everything from where a substring matches, up to the end of the string:"
   ]
  },
  {
   "cell_type": "code",
   "execution_count": 45,
   "metadata": {},
   "outputs": [
    {
     "name": "stdout",
     "output_type": "stream",
     "text": [
      "winter of our discontent\n"
     ]
    }
   ],
   "source": [
    "shakespeare = \"Now is the winter of our discontent\"\n",
    "substr_index = shakespeare.find(\"win\")\n",
    "print(shakespeare[substr_index:])"
   ]
  },
  {
   "cell_type": "markdown",
   "metadata": {},
   "source": [
    "## Simple string transformations\n",
    "\n",
    "Python strings have a number of different methods which, when called on a string, return a copy of that string with a simple transformation applied to it. These are helpful for normalizing and cleaning up data, or preparing it to be displayed.\n",
    "\n",
    "Let's start with `.lower()`, which evaluates to a copy of the string in all lower case:"
   ]
  },
  {
   "cell_type": "code",
   "execution_count": 46,
   "metadata": {},
   "outputs": [
    {
     "data": {
      "text/plain": [
       "'argumentation! disagreement! strife!'"
      ]
     },
     "execution_count": 46,
     "metadata": {},
     "output_type": "execute_result"
    }
   ],
   "source": [
    "\"ARGUMENTATION! DISAGREEMENT! STRIFE!\".lower()"
   ]
  },
  {
   "cell_type": "markdown",
   "metadata": {},
   "source": [
    "The converse of `.lower()` is `.upper()`:"
   ]
  },
  {
   "cell_type": "code",
   "execution_count": 47,
   "metadata": {},
   "outputs": [
    {
     "data": {
      "text/plain": [
       "'E.E. CUMMINGS IS. NOT. HAPPY ABOUT THIS.'"
      ]
     },
     "execution_count": 47,
     "metadata": {},
     "output_type": "execute_result"
    }
   ],
   "source": [
    "\"e.e. cummings is. not. happy about this.\".upper()"
   ]
  },
  {
   "cell_type": "markdown",
   "metadata": {},
   "source": [
    "The method `.title()` evaluates to a copy of the string it's called on, replacing every letter at the beginning of a word in the string with a capital letter:"
   ]
  },
  {
   "cell_type": "code",
   "execution_count": 48,
   "metadata": {},
   "outputs": [
    {
     "data": {
      "text/plain": [
       "'Dr. Strangelove, Or, How I Learned To Love The Bomb'"
      ]
     },
     "execution_count": 48,
     "metadata": {},
     "output_type": "execute_result"
    }
   ],
   "source": [
    "\"dr. strangelove, or, how I learned to love the bomb\".title()"
   ]
  },
  {
   "cell_type": "markdown",
   "metadata": {},
   "source": [
    "The `.strip()` method removes any whitespace from the beginning or end of the string (but not between characters later in the string):"
   ]
  },
  {
   "cell_type": "code",
   "execution_count": 49,
   "metadata": {},
   "outputs": [
    {
     "data": {
      "text/plain": [
       "'got some random whitespace in some places here'"
      ]
     },
     "execution_count": 49,
     "metadata": {},
     "output_type": "execute_result"
    }
   ],
   "source": [
    "\" got some random whitespace in some places here     \".strip()"
   ]
  },
  {
   "cell_type": "markdown",
   "metadata": {},
   "source": [
    "Finally, the `.replace()` method takes two parameters: a string to find, and a string to replace that string with whenever it's found. You can use this to make sad stories."
   ]
  },
  {
   "cell_type": "code",
   "execution_count": 50,
   "metadata": {},
   "outputs": [
    {
     "data": {
      "text/plain": [
       "'I used to have rhythm, I used to have music, I used to have my man, who could ask for anything more'"
      ]
     },
     "execution_count": 50,
     "metadata": {},
     "output_type": "execute_result"
    }
   ],
   "source": [
    "\"I got rhythm, I got music, I got my man, who could ask for anything more\".replace(\"I got\", \"I used to have\")"
   ]
  },
  {
   "cell_type": "markdown",
   "metadata": {},
   "source": [
    "### \"Escape\" sequences in strings\n",
    "\n",
    "Inside of strings that you type into your Python code, there are certain sequences of characters that have a special meaning. These sequences start with a backslash character (`\\`) and allow you to insert into your string characters that would otherwise be difficult to type, or that would go against Python syntax. Here's some code illustrating a few common sequences:"
   ]
  },
  {
   "cell_type": "code",
   "execution_count": 51,
   "metadata": {},
   "outputs": [
    {
     "name": "stdout",
     "output_type": "stream",
     "text": [
      "include \"double quotes\" (inside of a double-quoted string)\n",
      "include 'single quotes' (inside of a single-quoted string)\n",
      "one\ttab, two\ttabs\n",
      "new\n",
      "line\n",
      "include an actual backslash \\ (two backslashes in the string)\n"
     ]
    }
   ],
   "source": [
    "print(\"include \\\"double quotes\\\" (inside of a double-quoted string)\")\n",
    "print('include \\'single quotes\\' (inside of a single-quoted string)')\n",
    "print(\"one\\ttab, two\\ttabs\")\n",
    "print(\"new\\nline\")\n",
    "print(\"include an actual backslash \\\\ (two backslashes in the string)\")"
   ]
  },
  {
   "cell_type": "markdown",
   "metadata": {},
   "source": [
    "## Regular expressions\n",
    "\n",
    "So far, we've discussed how to write programs and expressions that are able to check whether strings meet very simple criteria, such as “does this string begin with a particular character” or “does this string contain another string”? But imagine writing a program that performs the following task: find and print all ZIP codes in a string (i.e., a five-character sequence of digits). Give up? Here’s my attempt, using only the tools we’ve discussed so far:"
   ]
  },
  {
   "cell_type": "code",
   "execution_count": 52,
   "metadata": {},
   "outputs": [
    {
     "name": "stdout",
     "output_type": "stream",
     "text": [
      "['12345', '45678', '23456']\n"
     ]
    }
   ],
   "source": [
    "input_str = \"here's a zip code: 12345. 567 isn't a zip code, but 45678 is. 23456? yet another zip code.\"\n",
    "current = \"\"\n",
    "zips = []\n",
    "for ch in input_str:\n",
    "    if ch in '0123456789':\n",
    "        current += ch\n",
    "    else:\n",
    "        current = \"\"\n",
    "    if len(current) == 5:\n",
    "        zips.append(current)\n",
    "        current = \"\"\n",
    "print(zips)"
   ]
  },
  {
   "cell_type": "markdown",
   "metadata": {},
   "source": [
    "Basically, we have to iterate over each character in the string, check to see if that character is a digit, append to a string variable if so, continue reading characters until we reach a non-digit character, check to see if we found exactly five digit characters, and add it to a list if so. At the end, we print out the list that has all of our results. Problems with this code: it’s messy; it doesn’t overtly communicate what it’s doing; it’s not easily generalized to other, similar tasks (e.g., if we wanted to write a program that printed out phone numbers from a string, the code would likely look completely different).\n",
    "\n",
    "Our ancient UNIX pioneers had this problem, and in pursuit of a solution, thought to themselves, \"Let’s make a tiny language that allows us to write specifications for textual patterns, and match those patterns against strings. No one will ever have to write fiddly code that checks strings character-by-character ever again.\" And thus regular expressions were born.\n",
    "\n",
    "Here's the code for accomplishing the same task with regular expressions, by the way:"
   ]
  },
  {
   "cell_type": "code",
   "execution_count": 53,
   "metadata": {},
   "outputs": [
    {
     "name": "stdout",
     "output_type": "stream",
     "text": [
      "['12345', '45678', '23456']\n"
     ]
    }
   ],
   "source": [
    "import re\n",
    "zips = re.findall(r\"\\d{5}\", input_str)\n",
    "print(zips)"
   ]
  },
  {
   "cell_type": "markdown",
   "metadata": {},
   "source": [
    "I’ll allow that the `r\"\\d{5}\"` in there is mighty cryptic (though hopefully it won’t be when you’re done reading this page and/or participating in the associated lecture). But the overall structure of the program is much simpler.\n",
    "\n",
    "### Fetching our corpus\n",
    "\n",
    "For this section of class, we'll be using the subject lines of all e-mails in the [EnronSent corpus](http://verbs.colorado.edu/enronsent/), kindly put into the public domain by the United States Federal Energy Regulatory Commission."
   ]
  },
  {
   "cell_type": "markdown",
   "metadata": {},
   "source": [
    "### Matching strings with regular expressions\n",
    "\n",
    "The most basic operation that regular expressions perform is matching strings: you’re asking the computer whether a particular string matches some description. We're going to be using regular expressions to print only those lines from our `enronsubjects.txt` corpus that match particular sequences. Let's load our corpus into a list of lines first:"
   ]
  },
  {
   "cell_type": "code",
   "execution_count": 54,
   "metadata": {},
   "outputs": [],
   "source": [
    "subjects = [x.strip() for x in open(\"enronsubjects.txt\").readlines()]"
   ]
  },
  {
   "cell_type": "code",
   "execution_count": 55,
   "metadata": {},
   "outputs": [
    {
     "data": {
      "text/plain": [
       "['# This file contains the subject lines from every message in the EnronSent corpus.',\n",
       " '# For more information, see http://verbs.colorado.edu/enronsent',\n",
       " '',\n",
       " 'Headcount',\n",
       " 'utilities roll',\n",
       " 'utilities roll',\n",
       " 'TIME SENSITIVE: Executive Impact & Influence Program Survey',\n",
       " 'TIME SENSITIVE: Executive Impact & Influence Program Survey',\n",
       " 'Wow',\n",
       " 'Wow',\n",
       " 'Wow',\n",
       " 'Wow',\n",
       " 'Re:',\n",
       " 'Re:',\n",
       " 'Re:',\n",
       " 'RE: Receipt of Team Selection Form - Executive Impact & Influence',\n",
       " 'RE: Receipt of Team Selection Form - Executive Impact & Influence',\n",
       " 'Receipt of Team Selection Form - Executive Impact & Influence',\n",
       " 'FYI',\n",
       " 'FYI',\n",
       " 'Re: Transportation Reports',\n",
       " 'Re: Western Gas Market Report -- Draft',\n",
       " 'Receipt of Team Selection Form - Executive Impact & Influence',\n",
       " 'Receipt of Team Selection Form - Executive Impact & Influence Program',\n",
       " 'Re: (No Subject)',\n",
       " 'Re: Security Request: CLOG-4NNJEZ has been Denied.',\n",
       " 'New Generation',\n",
       " 'New Generation',\n",
       " 'Re: Meeting to discuss 2001 direct expense plan?',\n",
       " 'Re: regulatory filing summary',\n",
       " 'Re: Evaluation for new trading application',\n",
       " 'Re: receipts',\n",
       " 'Re: ENA Fileplan Project - Needs your approval',\n",
       " \"Enron's December physical fixed price deals as of 11/28/00\",\n",
       " \"Enron's December physical fixed price deals as of 11/28/00\",\n",
       " 'Re: checkbook and budget',\n",
       " 'Daily Duties',\n",
       " 'Daily Duties',\n",
       " 'Daily Report',\n",
       " 'Daily Report',\n",
       " 'Daily Report',\n",
       " 'Daily Report',\n",
       " 'Re: enron close to 85',\n",
       " 'Re:',\n",
       " 'ENA Management Committee',\n",
       " 'ENA Management Committee',\n",
       " 'rent roll',\n",
       " 'rent roll',\n",
       " 'Re:',\n",
       " 'Re: Your approval is requested',\n",
       " 'tv on 33',\n",
       " 'Re: Ad Hoc VaR model',\n",
       " 'TRANSPORTATION MODEL',\n",
       " 'TRANSPORTATION MODEL',\n",
       " 'Re: TRANSPORTATION MODEL',\n",
       " 'Your Approval is Overdue: Access Request for paul.t.lucci@enron.com',\n",
       " 'Your Approval is Overdue: Access Request for paul.t.lucci@enron.com',\n",
       " 'Your Approval is Overdue: Access Request for paul.t.lucci@enron.com',\n",
       " 'Request Submitted: Access Request for frank.ermis@enron.com',\n",
       " 'Request Submitted: Access Request for frank.ermis@enron.com',\n",
       " 'Re: Nortel box',\n",
       " 'Re: trading opportunities',\n",
       " 'New Socal Curves',\n",
       " 'New Socal Curves',\n",
       " 'Re: Report on Property',\n",
       " 'Gas fundamentals development website',\n",
       " 'Gas fundamentals development website',\n",
       " 'Re: Electric Overage (1824.62)',\n",
       " 'New Generation Update 7/24/00',\n",
       " 'New Generation Update 7/24/00',\n",
       " 'Re: New Notice from Transwestern Pipeline Co.',\n",
       " 'Re: SM134 Proforma.xls',\n",
       " 'Price for Stanfield Term',\n",
       " 'Price for Stanfield Term',\n",
       " 'For Wade',\n",
       " 'Re: your address',\n",
       " 'Interactive Information Resource',\n",
       " 'Interactive Information Resource',\n",
       " 'Re: lunch',\n",
       " 'Comments on Order 637 Compliance Filings',\n",
       " 'Comments on Order 637 Compliance Filings',\n",
       " 'El Paso Blanco Avg product',\n",
       " 'El Paso Blanco Avg product,',\n",
       " 'Re: 65th BD for Nea',\n",
       " 'Project Elvis and Cactus Open Gas Position',\n",
       " 'Project Elvis and Cactus Open Gas Position',\n",
       " 'Re: West Gas Trading 2001 Plan',\n",
       " 'assoc. for west desk',\n",
       " 'assoc. for west desk',\n",
       " 'assoc. for west desk',\n",
       " 'assoc. for west desk',\n",
       " 'assoc. for west desk',\n",
       " 'Systems Meeting 7/18',\n",
       " 'Systems Meeting 7/18',\n",
       " 'assoc. for west desk',\n",
       " 'Re: Katy flatlands',\n",
       " 'Re: New Notice from Transwestern Pipeline Co.',\n",
       " 'test',\n",
       " 'System Meeting 7/11',\n",
       " 'System Meeting 7/11',\n",
       " 'Natural Gas Customers',\n",
       " 'Natural Gas Customers',\n",
       " 'Natural Gas Customers',\n",
       " 'Re: EXECUTIVE IMPACT COURSE',\n",
       " 'SM134 Proforma.xls',\n",
       " 'SM134 Proforma.xls',\n",
       " 'Re: Katy flatlands',\n",
       " 'Re: Brenda Stones telephone numbers',\n",
       " 'Re: market intelligence',\n",
       " 'Re: Memory',\n",
       " 'Re: Thoughts on Presentation',\n",
       " 'Executive Impact and Influence Course',\n",
       " 'Executive Impact and Influence Course',\n",
       " 'Re: Notices',\n",
       " '(Reminder) Update GIS Information',\n",
       " '(Reminder) Update GIS Information',\n",
       " 'West Power Strategy Materials',\n",
       " 'West Power Strategy Materials',\n",
       " 'Re: West Gas 2001 Plan',\n",
       " 'Re: West Gas 2001 Plan',\n",
       " 'gas storage model',\n",
       " 'gas storage model',\n",
       " 'Re:',\n",
       " 'Re:',\n",
       " 'Download Frogger before it hops away!',\n",
       " 'Download Frogger before it hops away!',\n",
       " 'FT-Denver book on EOL',\n",
       " 'FT-Denver book on EOL',\n",
       " 'Re: The New Power Company',\n",
       " 'Re: Wade',\n",
       " 'Thoughts on Presentation',\n",
       " 'Thoughts on Presentation',\n",
       " 'Enron Response to San Diego Request for Gas Price Caps',\n",
       " 'Enron Response to San Diego Request for Gas Price Caps',\n",
       " 'Re: West Gas 2001 Plan',\n",
       " 'Re: West Gas 2001 Plan',\n",
       " 'Re: Compaq M700 laptop',\n",
       " 'RE: 91 acres',\n",
       " \"Re: What's happening?\",\n",
       " 'Transport p&l',\n",
       " 'Transport p&l',\n",
       " 'Re: balance on truck/loan',\n",
       " 'Re: San Marcos Study',\n",
       " 'Re: Todays update',\n",
       " 'Gas Transportation Market Intelligence',\n",
       " 'Gas Transportation Market Intelligence',\n",
       " 'Re: 91 acres',\n",
       " 'Large Deal Alert',\n",
       " 'Large Deal Alert',\n",
       " 'Large Deal Alert',\n",
       " 'Re: 5/08/00',\n",
       " 'Re: DSL- Installs',\n",
       " 'Re: SW Gas',\n",
       " 'Re: SW Gas',\n",
       " 'SW Gas',\n",
       " 'SW Gas',\n",
       " 'SW Gas',\n",
       " 'Re: #30',\n",
       " 'Western Strategy Session Materials',\n",
       " 'Western Strategy Session Materials',\n",
       " 'Western Strategy Session Materials',\n",
       " 'Western Strategy Session Materials',\n",
       " 'Re: #30',\n",
       " 'Re: Foundation leveling on #2 & #3 apts.',\n",
       " 'Re: DSL Install',\n",
       " 'Re: Payroll Reclasses',\n",
       " 'Alliance netback worksheet',\n",
       " 'Alliance netback worksheet',\n",
       " 'Alliance netback worksheet',\n",
       " 'Alliance netback worksheet',\n",
       " 'New Employee on 32',\n",
       " 'New Employee on 32',\n",
       " 'RE: Inspection for Mission South',\n",
       " 'Re: your moms birthday',\n",
       " 'Re: Inspection for Mission South',\n",
       " 're: storm results & refrigerators',\n",
       " 'Western Strategy Briefing Materials',\n",
       " 'Western Strategy Briefing Materials',\n",
       " 'Re: MS 150',\n",
       " 'Meeting-THURSDAY, MARCH 23 - 11:15 AM',\n",
       " 'Meeting-THURSDAY, MARCH 23 - 11:15 AM',\n",
       " 'Re: Maps',\n",
       " 'Re: Resumes',\n",
       " 'Maps',\n",
       " 'Maps',\n",
       " 'Re:',\n",
       " 'Maps',\n",
       " 'Maps',\n",
       " 'Re: 220,000 MW of New Capacity Needed by 2012',\n",
       " 're: apt. #2',\n",
       " 'Priority List',\n",
       " 'Priority List',\n",
       " 'Re: West Gas 2001 Plan',\n",
       " 'Priority List',\n",
       " 're: apt. #2',\n",
       " 'RE: a/c for #27',\n",
       " 'Re: Mission South',\n",
       " 'Re:',\n",
       " 'Western Strategy Summaries',\n",
       " 'Western Strategy Summaries',\n",
       " 'Re:',\n",
       " 'ALLEN DURANGO HOTEL ------- 48 HR CANCEL',\n",
       " 'ALLEN DURANGO HOTEL ------- 48 HR CANCEL',\n",
       " 'ALLEN DURANGO HOTEL ------- 48 HR CANCEL',\n",
       " 'Just Released! Exclusive new animation from Stan Lee',\n",
       " 'Just Released! Exclusive new animation from Stan Lee',\n",
       " 'Re: Feb. Expense Report',\n",
       " 'Re: 91acres',\n",
       " \"PIRA's California/Southwest Gas Pipeline Study\",\n",
       " \"PIRA's California/Southwest Gas Pipeline Study\",\n",
       " \"PIRA's California/Southwest Gas Pipeline Study\",\n",
       " 'Re: Desk to Desk access Request',\n",
       " 'Re: February expenses',\n",
       " 'Re:',\n",
       " 'Storage of Cycles at the Body Shop',\n",
       " 'Storage of Cycles at the Body Shop',\n",
       " 'New Generation as of Oct 24th',\n",
       " 'New Generation as of Oct 24th',\n",
       " 'Western Strategy Briefing',\n",
       " 'Western Strategy Briefing',\n",
       " 'RE: W basis quotes',\n",
       " 'RE: W basis quotes',\n",
       " 'RE: W basis quotes',\n",
       " 'RE: W basis quotes',\n",
       " 'Re: APEA - $228,204 hit',\n",
       " 'Re: W basis quotes',\n",
       " 'Re: January El paso invoice',\n",
       " 'Re: Kim Olinger - Transport Rate Team',\n",
       " 'Re: APEA - $228,204 hit',\n",
       " 'Re: Curve Update',\n",
       " 'Re: Website Access approval requested',\n",
       " 'Re: Vishal Apte',\n",
       " 'dopewars',\n",
       " 'dopewars',\n",
       " 'dopewars',\n",
       " 'RE: Choosing a style',\n",
       " 'RE: Choosing a style',\n",
       " 'Choosing a style',\n",
       " 'Re:',\n",
       " 'Re: ENROLLMENT CONFIRMATION/Impact/ECT',\n",
       " 'eol',\n",
       " 'Re: Resumes',\n",
       " 'Re:',\n",
       " 'Re:',\n",
       " 'Re: receipts',\n",
       " 'Re: Are you trying to be funny?',\n",
       " 'Stick it in your Shockmachine!',\n",
       " 'Stick it in your Shockmachine!',\n",
       " 'Talking points about California Gas market',\n",
       " 'Talking points about California Gas market',\n",
       " 'Resumes',\n",
       " 'Resumes',\n",
       " 'Re: 2- SURVEY/INFORMATION EMAIL 5-14- 01',\n",
       " '2- SURVEY/INFORMATION EMAIL 5-14- 01',\n",
       " 'Re:',\n",
       " 'California Summary',\n",
       " 'California Summary',\n",
       " 'Additional California Load Information',\n",
       " 'Re: Western Wholesale Activities - Gas & Power Conf. Call',\n",
       " 'Re: Western Wholesale Activities - Gas & Power Conf. Call',\n",
       " 'Re: Western Wholesale Activities - Gas & Power Conf. Call',\n",
       " 'California Update 5/4/01',\n",
       " 'California Update 5/4/01',\n",
       " 'Re: Western Wholesale Activities - Gas & Power Conf. Call',\n",
       " 'Re: Western Wholesale Activities - Gas & Power Conf. Call',\n",
       " 'Re: Western Wholesale Activities - Gas & Power Conf. Call',\n",
       " 'Re:',\n",
       " 'Re: Inquiry....',\n",
       " 'Re: 2- SURVEY - PHILLIP ALLEN',\n",
       " 'Re: 2- SURVEY - PHILLIP ALLEN',\n",
       " '4-URGENT - OWA Please print this now.',\n",
       " '4-URGENT - OWA Please print this now.',\n",
       " '2- SURVEY/INFORMATION EMAIL',\n",
       " '2- SURVEY/INFORMATION EMAIL',\n",
       " 'Re: Request from Steve Kean',\n",
       " 'Request from Steve Kean',\n",
       " 'Request from Steve Kean',\n",
       " 'Request from Steve Kean',\n",
       " 'Request from Steve Kean',\n",
       " 'Request from Steve Kean',\n",
       " 'Request from Steve Kean',\n",
       " 'Re: Analyst Resume - Rafael Avila',\n",
       " 'Re: Inquiry....',\n",
       " 'Re: Leander etc.',\n",
       " 'Re:',\n",
       " \"Re: FERC's Prospective Mitigation and Monitoring Plan for CA\",\n",
       " 'Re: Unocal WAHA Storage',\n",
       " \"Re: This morning's Commission meeting delayed\",\n",
       " \"Re: This morning's Commission meeting delayed\",\n",
       " \"Re: This morning's Commission meeting delayed\",\n",
       " \"Re: This morning's Commission meeting delayed\",\n",
       " 'Re: Instructions for FERC Meetings',\n",
       " 'Instructions for FERC Meetings',\n",
       " 'Instructions for FERC Meetings',\n",
       " 'Instructions for FERC Meetings',\n",
       " 'Re:',\n",
       " 'Generation',\n",
       " 'Generation',\n",
       " 'Re: The Stage',\n",
       " 'Re: Analyst Ashish Mahajan',\n",
       " 'Re: Resume',\n",
       " 'Re: Analyst Bryan Hull',\n",
       " 'Re: FW: Trading Track Program',\n",
       " 'Re: Do you still access data from Inteligence Press online??',\n",
       " 'RE: Presentation to Trading Track A&A',\n",
       " 'RE: Presentation to Trading Track A&A',\n",
       " 'Re: Presentation to Trading Track A&A',\n",
       " 'Re: Approval for Plasma Screens',\n",
       " 'Re: Resume',\n",
       " 'Re: FW: 2nd lien info. and private lien info - The Stage Coach',\n",
       " 'Re: Presentation to Trading Track A&A',\n",
       " 'approved trader list',\n",
       " 'approved trader list',\n",
       " 'Re: insurance - the stage',\n",
       " 'RE: The Stage',\n",
       " 'Re: The Stage',\n",
       " 'CAISO demand reduction',\n",
       " 'CAISO demand reduction',\n",
       " 'Re: FW: SanJuan/SoCal spread prices',\n",
       " 'Re: SanJuan/SoCal spread prices',\n",
       " 'SanJuan/SoCal spread prices',\n",
       " 'SanJuan/SoCal spread prices',\n",
       " 'Re:',\n",
       " 'Re: Astral downtime request',\n",
       " 'Re: Answers to List',\n",
       " 'EES Gas Desk Happy Hour',\n",
       " 'EES Gas Desk Happy Hour',\n",
       " 'Re: Location',\n",
       " 'Enron Center Garage',\n",
       " 'Enron Center Garage',\n",
       " 'Re:',\n",
       " 'Re: Approval for Plasma Screens',\n",
       " 'Nondeliverable mail',\n",
       " 'Nondeliverable mail',\n",
       " 'Nondeliverable mail',\n",
       " 'Nondeliverable mail',\n",
       " 'Re: Opening Day - Baseball Tickets',\n",
       " 'November fixed-price deals',\n",
       " 'November fixed-price deals',\n",
       " 'Re: NGI access to eol',\n",
       " 'Re: NGI access to eol',\n",
       " 'Re: Derek Kelly',\n",
       " 'Re: Purchase and Sale Agreement',\n",
       " 'Current Gas Desk List',\n",
       " 'Current Gas Desk List',\n",
       " 'Re:',\n",
       " 'Re: Buyout',\n",
       " 'ERMS / RMS Databases',\n",
       " 'ERMS / RMS Databases',\n",
       " 'RE: Buyout',\n",
       " 'RE: Buyout',\n",
       " 'Re: Buyout',\n",
       " 'Your Approval is Overdue: Access Request for mike.grigsby@enron.com',\n",
       " 'Your Approval is Overdue: Access Request for mike.grigsby@enron.com',\n",
       " 'Re: Buyout',\n",
       " 'Matt Smith',\n",
       " 'Matt Smith',\n",
       " 'Re: Confidential Employee Information/Lenhart',\n",
       " 'Behind the Stage Two',\n",
       " 'Behind the Stage Two',\n",
       " 'RE: PERSONAL AND CONFIDENTIAL COMPENSATION INFORMATION',\n",
       " 'Re: (No Subject)',\n",
       " 'Sagewood M/F',\n",
       " 'Sagewood M/F',\n",
       " 'Bishops Corner, Ltd. Buyout',\n",
       " 'Bishops Corner, Ltd. Buyout',\n",
       " 'Bishops Corner, Ltd. -- Restructure or Buyout',\n",
       " 'Bishops Corner, Ltd. Buyout',\n",
       " 'Bishops Corner, Ltd. Buyout',\n",
       " 'Bishops Corner, Ltd. -- Restructure or Buyout',\n",
       " 'FW: ALL 1099 TAX QUESTIONS - ANSWERED',\n",
       " 'FW: ALL 1099 TAX QUESTIONS - ANSWERED',\n",
       " 'matt Smith',\n",
       " 'matt Smith',\n",
       " 'Mike Grigsby',\n",
       " 'Sagewood Phase II',\n",
       " 'Sagewood Phase II',\n",
       " 'Sagewood Phase II',\n",
       " 'Re: San Marcos',\n",
       " 'Revised Long Range Hydro Forecast',\n",
       " 'Revised Long Range Hydro Forecast',\n",
       " 'RE: the stage',\n",
       " 'Re: the stage',\n",
       " 'Re: password',\n",
       " 'Re: MS 150',\n",
       " 'FW: Cross Commodity',\n",
       " 'FW: Cross Commodity',\n",
       " 'Cross Commodity',\n",
       " 'Re: Insight Hardware',\n",
       " 'Re: Producer Services',\n",
       " \"Re: Enron's March Basdeload Fixed price physical deals as of 2/27\",\n",
       " \"Re: Enron's March Basdeload Fixed price physical deals as of 2/27\",\n",
       " \"Re: Enron's March Basdeload Fixed price physical deals as of 2/27\",\n",
       " \"Re: Enron's March Basdeload Fixed price physical deals as of 2/27\",\n",
       " 'San Marcos construction project',\n",
       " 'Re: Genesis Plant Tour',\n",
       " 'RE: Comparison of Estimates',\n",
       " 'Sagewood II',\n",
       " 'Sagewood II',\n",
       " 'New Generation Report for January 2001',\n",
       " 'New Generation Report for January 2001',\n",
       " 'Re: Comparison of Estimates',\n",
       " 'Recession Scenario Impact on Power and Gas',\n",
       " 'Recession Scenario Impact on Power and Gas',\n",
       " 'SM134 Proforma2.xls',\n",
       " 'SM134 Proforma2.xls',\n",
       " 'Re: Weekly Status Meeting',\n",
       " 'Weekly Status Meeting',\n",
       " 'Weekly Status Meeting',\n",
       " 'leander and the Stage',\n",
       " 'leander and the Stage',\n",
       " 'Daily California Call Moved to Weekly Call',\n",
       " 'Daily California Call Moved to Weekly Call',\n",
       " 'SM134 Proforma2.xls',\n",
       " 'SM134 Proforma2.xls',\n",
       " 'Re: FW: Change in the agroup Cycling Schedule',\n",
       " 'Re: General Issues',\n",
       " 'Re:',\n",
       " 'Re: General Issues',\n",
       " 'Re: DRAW2.xls',\n",
       " 'Re:',\n",
       " 'DRAW2.xls',\n",
       " 'DRAW2.xls',\n",
       " 'RE:',\n",
       " 'RE:',\n",
       " 'Re: MAI Appraisal',\n",
       " 'RE:',\n",
       " 'RE:',\n",
       " 'RE:',\n",
       " 'Re:',\n",
       " 'CERA Analysis - California',\n",
       " 'CERA Analysis - California',\n",
       " 'Re: Great Web Site',\n",
       " 'Re: EXTRINSIC VALUE WORKSHEET',\n",
       " 'Re: AEC Volumes at OPAL',\n",
       " 'Re: AEC Volumes at OPAL',\n",
       " 'AEC Volumes at OPAL',\n",
       " 'AEC Volumes at OPAL',\n",
       " 'California Gas Demand Growth',\n",
       " 'California Gas Demand Growth',\n",
       " 'the stage',\n",
       " 'the stage',\n",
       " 'Investment Structure',\n",
       " 'Investment Structure',\n",
       " 'Re: stage coach',\n",
       " 'Governor Reports Results of 1st RFP -- ONLY 500 MW!!!!',\n",
       " 'Governor Reports Results of 1st RFP -- ONLY 500 MW!!!!',\n",
       " 'Smeltering',\n",
       " 'Smeltering',\n",
       " 'Re: Listing of Desk Directors',\n",
       " 'Re: Pipe Options Book Admin Role',\n",
       " 're: book admin for Pipe/Gas daily option book',\n",
       " 're: book admin for Pipe/Gas daily option book',\n",
       " 're: book admin for Pipe/Gas daily option book',\n",
       " 'final business points',\n",
       " 're: book admin for Pipe/Gas daily option book',\n",
       " 're: book admin for Pipe/Gas daily option book',\n",
       " 'RE: Phillip Allen Response on Partnership Issues',\n",
       " 'Re: web site',\n",
       " 'Re: web site',\n",
       " 'Re: Enron',\n",
       " 'Re: The Stage',\n",
       " 'Highlights of Executive Summary by KPMG -- CPUC Audit Report on',\n",
       " 'Highlights of Executive Summary by KPMG -- CPUC Audit Report on=20',\n",
       " 'CPUC posts audit reports',\n",
       " 'CPUC posts audit reports',\n",
       " 'Re: Bishops Corner Partnership',\n",
       " 'RE:Stock Options',\n",
       " 'RE:Stock Options',\n",
       " 'Re: 32 acres',\n",
       " 'Re: SM134',\n",
       " 'Re: SM134',\n",
       " 'RE: Loan for San Marcos',\n",
       " 'Re: NGI access to eol',\n",
       " 'Enron',\n",
       " 'NGI access to eol',\n",
       " 'NGI access to eol',\n",
       " 'Status of QF negotiations on QFs & Legislative Update',\n",
       " 'Status of QF negotiations on QFs & Legislative Update',\n",
       " 'Status of QF negotiations on QFs & Legislative Update',\n",
       " 'Analyst Interviews Needed - 2/15/01',\n",
       " 'Analyst Interviews Needed - 2/15/01',\n",
       " 'Re: Resume',\n",
       " 'Kidventure Camp',\n",
       " 'Kidventure Camp',\n",
       " 'Re: Draft of Opposition to ORA/TURN petition',\n",
       " 'Re: Draft of Opposition to ORA/TURN petition',\n",
       " 'Re: Response to PGE request for gas',\n",
       " 'Re: Response to PGE request for gas',\n",
       " 'Response to PGE request for gas',\n",
       " 'Re: Please respond',\n",
       " 'Re: Please respond',\n",
       " 'California Action Update 1-14-00',\n",
       " 'California Action Update 1-14-00',\n",
       " 'California - Jan 13 meeting',\n",
       " 'California - Jan 13 meeting',\n",
       " 'Re:',\n",
       " 'Re: Analyst Rotating',\n",
       " 'Re: EOL Screens in new Body Shop',\n",
       " 'Analyst Rotating',\n",
       " 'Analyst Rotating',\n",
       " 'Preliminary 2001 Northwest Hydro Outlook',\n",
       " 'Preliminary 2001 Northwest Hydro Outlook',\n",
       " 'updated lease information',\n",
       " 'Re: Wiring instructions',\n",
       " 'Re: Analyst PRC',\n",
       " 'Re: SM134',\n",
       " 'Re: test',\n",
       " 'Re: Needs Assessment Form',\n",
       " 'Re: Untitled.exe Untitled.exe [22/23]',\n",
       " 'Re: SM134 Balcones Bank Loan',\n",
       " 'New Generation, Nov 30th',\n",
       " 'New Generation, Nov 30th',\n",
       " 'New Generation, Nov 30th',\n",
       " 'Meeting with Governor Davis, need for additional',\n",
       " 'Meeting with Governor Davis, need for additional comments/suggestions',\n",
       " 'Re: High Speed Internet Access',\n",
       " 'Re: Global Ids',\n",
       " 'Re: Global Ids',\n",
       " 'RE: access',\n",
       " 'RE: access',\n",
       " 'Re: Your Approval is Overdue: Access Request for',\n",
       " 'Your Approval is Overdue: Access Request for barry.tycholiz@enron.com',\n",
       " 'Re: SM134 Proforma.xls',\n",
       " 'FW: fixed forward or other Collar floor gas price terms',\n",
       " 'FW: fixed forward or other Collar floor gas price terms',\n",
       " 'Re:',\n",
       " 'Re: Call saturday',\n",
       " 'Re:',\n",
       " 'Re:',\n",
       " 'Re:',\n",
       " 'Final FIled Version',\n",
       " 'Final FIled Version',\n",
       " 'Re: FW: fixed forward or other Collar floor gas price terms',\n",
       " 'Consolidated positions: Issues & To Do list',\n",
       " 'Consolidated positions: Issues & To Do list',\n",
       " 'Consolidated positions: Issues & To Do list',\n",
       " 'Consolidated positions: Issues & To Do list',\n",
       " 'Consolidated positions: Issues & To Do list',\n",
       " 'Consolidated positions: Issues & To Do list',\n",
       " 'DJ Cal-ISO Pays $10M To Avoid Rolling Blackouts Wed -Sources, DJ',\n",
       " 'DJ Cal-ISO Pays $10M To Avoid Rolling Blackouts Wed -Sources, DJ',\n",
       " 'DJ Cal-ISO Pays $10M To Avoid Rolling Blackouts Wed -Sources, DJ',\n",
       " 'DJ Cal-ISO Pays $10M To Avoid Rolling Blackouts Wed -Sources, DJ',\n",
       " 'Re: 2001 Margin Plan',\n",
       " 'Var, Reporting and Resources Meeting',\n",
       " 'Var, Reporting and Resources Meeting',\n",
       " 'Westgate',\n",
       " 'Westgate',\n",
       " 'Meeting re: Storage Strategies in the West',\n",
       " 'Meeting re: Storage Strategies in the West',\n",
       " 'Re: Not business related..',\n",
       " 'Re: Original Sept check/closing',\n",
       " 'San Juan Index',\n",
       " 'Re: You Game?',\n",
       " 'San Juan Index',\n",
       " 'Investment Structure',\n",
       " 'Investment Structure',\n",
       " 'Re: Pick your Poison?',\n",
       " 'Investment Structure',\n",
       " 'Investment Structure',\n",
       " 'Gas Trading Vision mtg.',\n",
       " 'Re: Gas Trading Vision meeting',\n",
       " 'Gas Physical/Financial Position',\n",
       " 'Gas Physical/Financial Position',\n",
       " 'closing',\n",
       " 'closing',\n",
       " 'Re: Hello',\n",
       " 'Re: Hello',\n",
       " 'Re: PRC review - phone calls',\n",
       " 'Re: Associates & Analysts Eligible for Promotion',\n",
       " 'Westgate Proforma-Phillip Allen.xls',\n",
       " 'Westgate Proforma-Phillip Allen.xls',\n",
       " 'Re: burnet',\n",
       " 'Re: Sept 1 Payment',\n",
       " 'Re: Court Ordered Notice to Customers and Registered Users of',\n",
       " 'Contact list for mid market',\n",
       " 'Contact list for mid market',\n",
       " 'Westgate Proforma-Phillip Allen.xls',\n",
       " 'Westgate Proforma-Phillip Allen.xls',\n",
       " 'Re: Chelsea Villas',\n",
       " 'Re: VaR by Curve',\n",
       " 'Re: Sagewood etc.',\n",
       " 'Sagewood Town Homes',\n",
       " 'Sagewood Town Homes',\n",
       " 'Westgate Proforma-Phillip Allen.xls',\n",
       " 'Westgate Proforma-Phillip Allen.xls',\n",
       " 'RE: Additional properties in San Antonio',\n",
       " 'Additional properties in San Antonio',\n",
       " 'FW: charts',\n",
       " 'charts',\n",
       " 'RE: A&A to be placed',\n",
       " 'A&A to be placed',\n",
       " 'RE: The Stage',\n",
       " 'The Stage',\n",
       " 'RE: West Gas Headcount',\n",
       " 'West Gas Headcount',\n",
       " \"RE: Bishop's Corner Foundation Engineer Information\",\n",
       " \"Bishop's Corner Foundation Engineer Information\",\n",
       " 'Texas1031_homepage',\n",
       " 'FW: charts',\n",
       " 'charts',\n",
       " 'RE:',\n",
       " 'RE:',\n",
       " 'RE: El Paso Merchant Comments on Reporting Requirements',\n",
       " 'El Paso Merchant Comments on Reporting Requirements',\n",
       " 'RE: Call to Discuss Possible Options to Mitigate Effect of DWR',\n",
       " 'Call to Discuss Possible Options to Mitigate Effect of DWR Contracts--Privileged and Confidential',\n",
       " 'FW: Bishops Corner',\n",
       " 'Bishops Corner',\n",
       " 'FW: Western Wholesale Activities - Gas & Power Conf. Call',\n",
       " 'Re: Western Wholesale Activities - Gas & Power Conf. Call Privileged & Confidential Communication Attorney-Client Communication and Attorney Work Product Privileges Asserted',\n",
       " 'Re: Western Wholesale Activities - Gas & Power Conf. Call',\n",
       " 'FW: Western Wholesale Activities - Gas & Power Conf. Call',\n",
       " 'Re: Western Wholesale Activities - Gas & Power Conf. Call Privileged & Confidential Communication Attorney-Client Communication and Attorney Work Product Privileges Asserted',\n",
       " 'Re: Western Wholesale Activities - Gas & Power Conf. Call',\n",
       " 'Re: Western Wholesale Activities - Gas & Power Conf. Call',\n",
       " 'RE:',\n",
       " 'RE:',\n",
       " 'FW: charts',\n",
       " 'charts',\n",
       " 'FW: NEWGen June Release',\n",
       " 'NEWGen June Release',\n",
       " 'RE: Do you want me to take you off my e-mail distribution list?',\n",
       " 'Do you want me to take you off my e-mail distribution list?',\n",
       " 'RE: Meeting to discuss West gas desk \"FERC messages\"',\n",
       " 'Meeting to discuss West gas desk \"FERC messages\"',\n",
       " 'RE: Western Wholesale Activities - Gas & Power Conf. Call Privileged & Confidential Communication Attorney-Client Communication and Attorney Work Product Privileges Asserted',\n",
       " 'RE: Western Wholesale Activities - Gas & Power Conf. Call Privileged & Confidential Communication Attorney-Client Communication and Attorney Work Product Privileges Asserted',\n",
       " 'FW: Crossroads Storage Project',\n",
       " 'FW: Crossroads Storage Project',\n",
       " 'Crossroads Storage Project',\n",
       " 'RE:',\n",
       " 'RE:',\n",
       " 'RE:',\n",
       " 'RE:',\n",
       " 'FW: Meeting to discuss West gas desk \"FERC messages\"',\n",
       " 'RE: Meeting to discuss West gas desk \"FERC messages\"',\n",
       " 'RE: Meeting to discuss West gas desk \"FERC messages\"',\n",
       " 'Meeting to discuss West gas desk \"FERC messages\"',\n",
       " 'RE: Western Wholesale Activities - Gas & Power Conf. Call Privileged & Confidential Communication Attorney-Client Communication and Attorney Work Product Privileges Asserted',\n",
       " 'RE: Western Wholesale Activities - Gas & Power Conf. Call Privileged & Confidential Communication Attorney-Client Communication and Attorney Work Product Privileges Asserted',\n",
       " 'FW:',\n",
       " 'RE:',\n",
       " 'RE: no e-mai',\n",
       " 'no e-mai',\n",
       " 'FW:',\n",
       " 'Re:',\n",
       " 'FW: The Stage',\n",
       " 'The Stage',\n",
       " 'FW: Goldman Comment re: Enron issued this morning - Revised Price',\n",
       " 'Goldman Comment re: Enron issued this morning - Revised Price Target of $68/share',\n",
       " 'RE: FW: The Stage',\n",
       " 'Re: FW: The Stage',\n",
       " 'FW: California gas intrastate matters',\n",
       " 'California gas intrastate matters',\n",
       " 'FW: El Paso Announces Binding Open Season for Additional Capacity',\n",
       " 'El Paso Announces Binding Open Season for Additional Capacity on Line 2000',\n",
       " 'El Paso Announces Binding Open Season for Additional Capacity\\ton Line 2000',\n",
       " 'FW: California gas intrastate matters - July 11 conference call',\n",
       " 'California gas intrastate matters - July 11 conference call',\n",
       " 'California gas intrastate matters',\n",
       " 'FW: West Power Strategy Briefing',\n",
       " 'West Power Strategy Briefing',\n",
       " 'RE:',\n",
       " 'FW:',\n",
       " 'FW: Party',\n",
       " 'Party',\n",
       " 'RE: CA Instrate Gas matters',\n",
       " 'CA Instrate Gas matters',\n",
       " 'FW: CA Instrate Gas matters',\n",
       " 'CA Instrate Gas matters',\n",
       " 'RE: Analyst/Associate Program: 2 Minutes of Your Time',\n",
       " 'Analyst/Associate Program: 2 Minutes of Your Time',\n",
       " 'FW: American Express Letter',\n",
       " 'American Express Letter',\n",
       " 'RE: Party',\n",
       " 'Party',\n",
       " 'FW: Party',\n",
       " 'RE: Party',\n",
       " 'RE: Party',\n",
       " 'FW: report',\n",
       " 'report',\n",
       " 'RE: simulation environment',\n",
       " 'simulation environment',\n",
       " 'RE: simulation environment',\n",
       " 'RE: simulation environment',\n",
       " 'RE: simulation environment',\n",
       " 'simulation environment',\n",
       " 'FW: Western Strategy Session',\n",
       " 'Western Strategy Session',\n",
       " 'RE: simulation environment',\n",
       " 'RE: simulation environment',\n",
       " 'RE: simulation environment',\n",
       " 'RE: simulation environment',\n",
       " 'RE: simulation environment',\n",
       " 'simulation environment',\n",
       " 'FW: Complaint Against El Paso',\n",
       " '=09Complaint Against El Paso',\n",
       " '=09Complaint Against El Paso',\n",
       " 'FW: Western Strategy Session',\n",
       " 'Western Strategy Session',\n",
       " \"RE: Bishop's Corner, Forms\",\n",
       " 'FW: West Position',\n",
       " 'West Position',\n",
       " 'FW: Western Wholesale Activities - Gas & Power Conf. Call',\n",
       " 'Re: Western Wholesale Activities - Gas & Power Conf. Call Privileged & Confidential Communication Attorney-Client Communication and Attorney Work Product Privileges Asserted',\n",
       " 'FW: Action Requested:  Past Due Invoice',\n",
       " 'Action Requested:  Past Due Invoice',\n",
       " 'FW: Meet your New Analyst(s)',\n",
       " 'Meet your New Analyst(s)',\n",
       " 'RE: West Position',\n",
       " 'West Position',\n",
       " 'FW: El Paso Update 7/23/011',\n",
       " 'El Paso Update 7/23/011',\n",
       " 'FW: Western Wholesale Activities - Gas & Power Conf. Call',\n",
       " 'Re: Western Wholesale Activities - Gas & Power Conf. Call Privileged & Confidential Communication Attorney-Client Communication and Attorney Work Product Privileges Asserted',\n",
       " 'RE: Questar',\n",
       " 'Questar',\n",
       " 'FW: NGI access to eol',\n",
       " 'Re: NGI access to eol',\n",
       " 'RE: NGI access to eol',\n",
       " 'Re: NGI access to eol',\n",
       " 'FW: FERC Order on Reporting CA gas sales',\n",
       " '=09FERC Order on Reporting CA gas sales',\n",
       " '=09FERC Order on Reporting CA gas sales',\n",
       " 'FW: Mid C New deals Sept 24',\n",
       " 'Mid C New deals Sept 24',\n",
       " 'RE:',\n",
       " 'Re:',\n",
       " 'FW: Promotion Approval',\n",
       " 'Promotion Approval',\n",
       " 'RE:',\n",
       " 'Re:',\n",
       " \"Ellie's status\",\n",
       " 'Re:',\n",
       " 'FW: Deal Fixed Price Report - In an Excel format',\n",
       " 'Deal Fixed Price Report - In an Excel format',\n",
       " \"FW: Enron' s August Baseload Physical Fixed Price Transactions as\",\n",
       " \"FW: Enron' s August Baseload Physical Fixed Price Transactions as of 07/27/01\",\n",
       " \"Enron' s August Baseload Physical Fixed Price Transactions as of 07/27/01\",\n",
       " \"FW: Enron' s August Baseload Physical Fixed Price Transactions as\",\n",
       " \"FW: Enron' s August Baseload Physical Fixed Price Transactions as of 07/27/01\",\n",
       " \"Enron' s August Baseload Physical Fixed Price Transactions as of 07/27/01\",\n",
       " 'FW:',\n",
       " 'FW: Action Requested:  Past Due Invoice',\n",
       " 'Action Requested:  Past Due Invoice',\n",
       " \"FW: Bishop's Corner\",\n",
       " \"Bishop's Corner\",\n",
       " 'Forbes.com story',\n",
       " 'FW: Utility Construction Escrow Agreement (Allen/AMHP)',\n",
       " 'Utility Construction Escrow Agreement (Allen/AMHP)',\n",
       " 'FW: First Amendment to Contract (Allen/AMHP)',\n",
       " 'First Amendment to Contract (Allen/AMHP)',\n",
       " 'RE: Message from John and Louise - Enron Americas Management',\n",
       " '=09Message from John and Louise - Enron Americas Management Offsite',\n",
       " 'RE:',\n",
       " 'Re:',\n",
       " 'RE: Answer',\n",
       " 'Answer',\n",
       " 'RE: West Position',\n",
       " 'FW: West Position',\n",
       " 'RE: West Position',\n",
       " 'West Position',\n",
       " 'RE: Utility Construction Escrow Agreement (Allen/AMHP)',\n",
       " 'Utility Construction Escrow Agreement (Allen/AMHP)',\n",
       " 'FW: Western Wholesale Activities - Gas & Power Conf. Call',\n",
       " 'RE: Western Wholesale Activities - Gas & Power Conf. Call Privileged & Confidential Communication Attorney-Client Communication and Attorney Work Product Privileges Asserted',\n",
       " 'RE: Message from John and Louise - Enron Americas Management',\n",
       " '=09RE: Message from John and Louise - Enron Americas Management Off=',\n",
       " '=09Message from John and Louise - Enron Americas Management Offsite',\n",
       " 'RE: Management Offsite Video Meetings',\n",
       " 'FW: Management Offsite Video Meetings',\n",
       " 'Management Offsite Video Meetings',\n",
       " 'RE: Basic Risk Management (BRM) Simulation Deal with Accenture',\n",
       " 'Basic Risk Management (BRM) Simulation Deal with Accenture',\n",
       " 'Simulation',\n",
       " 'RE: Special Warranty Deed/First Amendment to Contract - Lakeline',\n",
       " 'Special Warranty Deed/First Amendment to Contract - Lakeline Apts\\t.',\n",
       " 'FW:',\n",
       " 'RE: Attention Body Shop Members -- UPDATE on Body Shop Closure',\n",
       " 'Attention Body Shop Members -- UPDATE on Body Shop Closure',\n",
       " 'RE: Please read-PRC followup',\n",
       " 'Please read-PRC followup',\n",
       " 'RE: jobs on the gas desk',\n",
       " 'jobs on the gas desk',\n",
       " 'RE: Please Reply by Wednesday, 8/22 -- Draft Rehearing Request --',\n",
       " 'Please Reply by Wednesday, 8/22 -- Draft Rehearing Request -- FERC Reporting Requirements for California Sales',\n",
       " 'RE:',\n",
       " 'FW:',\n",
       " 'FW: Curve Shift File',\n",
       " 'Curve Shift File',\n",
       " 'RE:',\n",
       " 'FW:',\n",
       " 'FW: El Paso 1110',\n",
       " 'El Paso 1110',\n",
       " 'RE: Bishops Corner',\n",
       " 'Bishops Corner',\n",
       " 'FW: Enron Center Garage',\n",
       " 'Enron Center Garage',\n",
       " 'FW: Nine Energy Services',\n",
       " 'RE: Nine Energy Services',\n",
       " 'Nine Energy Services',\n",
       " 'RE:',\n",
       " 'RE:',\n",
       " 'RE:',\n",
       " 'RE:',\n",
       " 'RE:',\n",
       " 'RE:',\n",
       " 'RE:',\n",
       " 'FW:',\n",
       " 'FW: Wildflower, Rayburn, Emilie apts',\n",
       " 'FW: Wildflower, Rayburn, Emilie apts',\n",
       " 'RE: FW:',\n",
       " 'Re: FW:',\n",
       " 'RE: Bike Commute',\n",
       " 'Bike Commute',\n",
       " 'RE: Simulation Common Mistakes',\n",
       " 'Simulation Common Mistakes',\n",
       " 'RE:',\n",
       " 'Re:',\n",
       " 'RE: Outing Event on Ultra Sailing Yacht set up for Enron/Accenture',\n",
       " 'Outing Event on Ultra Sailing Yacht set up for Enron/Accenture BRM Initiative Team (directions and map attached)',\n",
       " 'RE: Current Schedule as of 3 pm on Monday',\n",
       " 'Current Schedule as of 3 pm on Monday',\n",
       " 'FW: Competitive Analysis Update #4- US Terrorism Attacks',\n",
       " 'Competitive Analysis Update #4- US Terrorism Attacks',\n",
       " 'FW:',\n",
       " 'RE: Leander etc.',\n",
       " 'Leander etc.',\n",
       " 'FW: Marketer Support of Generator Motion on Credit Issues',\n",
       " 'RE: Marketer Support of Generator Motion on Credit Issues',\n",
       " 'RE: Marketer Support of Generator Motion on Credit Issues',\n",
       " 'RE: Marketer Support of Generator Motion on Credit Issues',\n",
       " 'Fwd: Marketer Support of Generator Motion on Credit Issues',\n",
       " 'Marketer Support of Generator Motion on Credit Issues',\n",
       " 'RE:',\n",
       " 'FW: Nine Energy Services',\n",
       " 'Nine Energy Services',\n",
       " 'RE: howdy!!',\n",
       " 'howdy!!',\n",
       " 'RE: howdy!!',\n",
       " 'howdy!!',\n",
       " 'RE:',\n",
       " 'RE:',\n",
       " 'FW:',\n",
       " 'FW:',\n",
       " 'FW: Action Requested:  Past Due Invoice',\n",
       " 'Action Requested:  Past Due Invoice',\n",
       " 'FW: Action Requested:  Past Due Invoice',\n",
       " 'Action Requested:  Past Due Invoice',\n",
       " 'FW: El Paso Capacity',\n",
       " 'El Paso Capacity',\n",
       " 'RE: Final Internal Review for Sign Off: Common Mistakes',\n",
       " 'Final Internal Review for Sign Off: Common Mistakes',\n",
       " 'RE: Final Internal Review for Sign Off: Performance Objectives',\n",
       " 'Final Internal Review for Sign Off: Performance Objectives',\n",
       " 'RE: Final Internal Review for Sign Off: Topics and Related',\n",
       " 'Final Internal Review for Sign Off: Topics and Related Objectives',\n",
       " 'FW: Arizona',\n",
       " 'Arizona',\n",
       " 'FW: El Paso Capacity',\n",
       " 'El Paso Capacity',\n",
       " 'RE: Comanch Trace Home',\n",
       " 'Comanch Trace Home',\n",
       " 'RE: Log Home Site',\n",
       " 'Log Home Site',\n",
       " 'RE: Bishops',\n",
       " '=09Bishops',\n",
       " 'RE: Topic Outlines',\n",
       " 'Topic Outlines',\n",
       " 'RE: workout',\n",
       " 'workout',\n",
       " 'RE: Managing Directors Meeting',\n",
       " 'Managing Directors Meeting',\n",
       " 'RE: Paul Margraves Meeting',\n",
       " 'Paul Margraves Meeting',\n",
       " 'FW:',\n",
       " 'RE:',\n",
       " 'RE: Huntley followup question',\n",
       " 'Huntley followup question',\n",
       " 'RE: Check this out -',\n",
       " 'Check this out -',\n",
       " 'RE: kerrville',\n",
       " 'kerrville',\n",
       " 'RE: Huntley update',\n",
       " 'Huntley update',\n",
       " 'RE: Huntley followup question',\n",
       " 'FW: FERC Special Meetings on Friday 10/26/01 and Monday 10/29/01',\n",
       " 'FERC Special Meetings on Friday 10/26/01 and Monday 10/29/01',\n",
       " 'FW: Distribution Form',\n",
       " 'Distribution Form',\n",
       " 'RE: Huntley/question',\n",
       " 'Huntley/question',\n",
       " 'RE: Distribution Form',\n",
       " 'Distribution Form',\n",
       " 'RE: Distribution Form',\n",
       " 'RE: Distribution Form',\n",
       " 'RE: Distribution Form',\n",
       " 'Distribution Form',\n",
       " 'RE: Topic Framework Deliverable - Sign-Off for Acceptance',\n",
       " 'Topic Framework Deliverable - Sign-Off for Acceptance',\n",
       " 'Topic Framework Deliverable - Sign-Off for Acceptance',\n",
       " 'Topic Framework Updates!',\n",
       " 'Topic Frameworks - Updates Completed',\n",
       " 'RE: Blackline of First Amendment to Contract',\n",
       " 'Blackline of First Amendment to Contract',\n",
       " 'FW: Zero Option',\n",
       " 'Zero Option',\n",
       " 'RE: BRM Case & Options',\n",
       " 'BRM Case & Options',\n",
       " 'FW: Blackline of First Amendment to Contract',\n",
       " 'RE: Blackline of First Amendment to Contract',\n",
       " 'Blackline of First Amendment to Contract',\n",
       " 'RE: the candidate we spoke about this morning...',\n",
       " 'the candidate we spoke about this morning...',\n",
       " 'RE: the candidate we spoke about this morning...',\n",
       " 'RE: the candidate we spoke about this morning...',\n",
       " 'RE: the candidate we spoke about this morning...',\n",
       " 'the candidate we spoke about this morning...',\n",
       " 'RE: Confirmation: Risk Management Simulation Meeting 10/30/01',\n",
       " 'Confirmation: Risk Management Simulation Meeting 10/30/01',\n",
       " 'RE: the candidate we spoke about this morning...',\n",
       " 'RE: the candidate we spoke about this morning...',\n",
       " 'RE: the candidate we spoke about this morning...',\n",
       " 'the candidate we spoke about this morning...',\n",
       " 'RE: Confirmation: Risk Management Simulation Meeting 10/30/01',\n",
       " 'RE: Confirmation: Risk Management Simulation Meeting 10/30/01',\n",
       " 'RE: Bishops Corner',\n",
       " 'Bishops Corner',\n",
       " 'FW: Properties for sale',\n",
       " 'Properties for sale',\n",
       " 'FW: Chase Backtest',\n",
       " 'FW: Chase Backtest',\n",
       " 'RE: try this one for starters',\n",
       " 'FW: try this one for starters',\n",
       " 'RE: Distribution of report',\n",
       " '=09Distribution of report',\n",
       " 'RE: Huntley/question',\n",
       " 'Re: Huntley/question',\n",
       " 'RE: Huntley/question',\n",
       " 'Re: 2- SURVEY/INFORMATION EMAIL 5-14- 01',\n",
       " '=092- SURVEY/INFORMATION EMAIL 5-14- 01',\n",
       " 'RE: Amerex - Scott Halprian',\n",
       " 'Amerex - Scott Halprian',\n",
       " 'FW: November 2001 FERC Open and Special Meeting Notice',\n",
       " 'November 2001 FERC Open and Special Meeting Notice',\n",
       " 'Texas1031_homepage',\n",
       " 'RE:',\n",
       " 'RE:',\n",
       " 'RE: Exchange Documents',\n",
       " 'Exchange Documents',\n",
       " 'RE: Huntley/question',\n",
       " 'Re: Huntley/question',\n",
       " 'RE: Huntley/question',\n",
       " 'RE:',\n",
       " 'RE:',\n",
       " 'FW: Phantom Stock Payouts',\n",
       " 'Phantom Stock Payouts',\n",
       " 'RE: Interface Design Update',\n",
       " 'Interface Design Update',\n",
       " 'RE: new PO available',\n",
       " 'new PO available',\n",
       " 'RE: word file as promised',\n",
       " 'word file as promised',\n",
       " 'FW:',\n",
       " 'RE:',\n",
       " 'RE: Muni Bond Ladder',\n",
       " 'Muni Bond Ladder',\n",
       " 'RE:',\n",
       " 'RE: Home Nortel VPN use',\n",
       " 'Home Nortel VPN use',\n",
       " 'RE:',\n",
       " 'RE:',\n",
       " 'RE:',\n",
       " 'RE:',\n",
       " 'RE:',\n",
       " 'RE:',\n",
       " 'RE: word file as promised',\n",
       " '=09word file as promised',\n",
       " 'RE: Muni Proposal',\n",
       " 'Muni Proposal',\n",
       " 'RE: Thursday Meeting',\n",
       " 'Thursday Meeting',\n",
       " 'RE: new PO available',\n",
       " 'Re: new PO available',\n",
       " 'Re:',\n",
       " 'FW:',\n",
       " 'FW:',\n",
       " 'RE: BRM Case & Options',\n",
       " 'BRM Case & Options',\n",
       " 'FW:',\n",
       " \"RE: Summary of Today's Meeting\",\n",
       " \"Summary of Today's Meeting\",\n",
       " 'RE: PO spreadsheets',\n",
       " 'PO spreadsheets',\n",
       " 'California Summary',\n",
       " 'California Summary',\n",
       " 'Additional California Load Information',\n",
       " 'Re: Western Wholesale Activities - Gas & Power Conf. Call',\n",
       " ...]"
      ]
     },
     "execution_count": 55,
     "metadata": {},
     "output_type": "execute_result"
    }
   ],
   "source": [
    "subjects"
   ]
  },
  {
   "cell_type": "markdown",
   "metadata": {},
   "source": [
    "We can check whether or not a pattern matches a given string in Python with the `re.search()` function. The first parameter to search is the regular expression you're trying to match; the second parameter is the string you're matching against.\n",
    "\n",
    "Here's an example, using a very simple regular expression. The following code prints out only those lines in our Enron corpus that match the (very simple) regular expression `shipping`:"
   ]
  },
  {
   "cell_type": "code",
   "execution_count": 56,
   "metadata": {},
   "outputs": [
    {
     "data": {
      "text/plain": [
       "['FW: How to use UPS for shipping on the internet',\n",
       " 'FW: How to use UPS for shipping on the internet',\n",
       " 'How to use UPS for shipping on the internet',\n",
       " 'FW: How to use UPS for shipping on the internet',\n",
       " 'FW: How to use UPS for shipping on the internet',\n",
       " 'How to use UPS for shipping on the internet',\n",
       " 'lng shipping/mosk meeting in tokyo 2nd of feb',\n",
       " 'lng shipping/mosk meeting in tokyo 2nd of feb',\n",
       " 'Re: lng shipping',\n",
       " 'Re: lng shipping',\n",
       " 'Re: lng shipping',\n",
       " 'Re: lng shipping',\n",
       " 'Re: lng shipping',\n",
       " 'lng shipping',\n",
       " 'Re: lng shipping',\n",
       " 'Re: lng shipping',\n",
       " 'Re: lng shipping',\n",
       " 'lng shipping',\n",
       " 'lng shipping',\n",
       " 'lng shipping',\n",
       " 'Re: lng shipping',\n",
       " 'lng shipping']"
      ]
     },
     "execution_count": 56,
     "metadata": {},
     "output_type": "execute_result"
    }
   ],
   "source": [
    "import re\n",
    "[line for line in subjects if re.search(\"shipping\", line)]"
   ]
  },
  {
   "cell_type": "markdown",
   "metadata": {},
   "source": [
    "At its simplest, a regular expression matches a string if that string contains exactly the characters you've specified in the regular expression. So the expression `shipping` matches strings that contain exactly the sequences of `s`, `h`, `i`, `p`, `p`, `i`, `n`, and `g` in a row. If the regular expression matches, `re.search()` evaluates to `True` and the matching line is included in the evaluation of the list comprehension.\n",
    "\n",
    "> BONUS TECH TIP: `re.search()` doesn't actually evaluate to `True` or `False`---it evaluates to either a `Match` object if a match is found, or `None` if no match was found. Those two count as `True` and `False` for the purposes of an `if` statement, though."
   ]
  },
  {
   "cell_type": "markdown",
   "metadata": {},
   "source": [
    "### Metacharacters: character classes\n",
    "\n",
    "The \"shipping\" example is pretty boring. (There was hardly any fan fiction in there at all.) Let's go a bit deeper into detail with what you can do with regular expressions. There are certain characters or strings of characters that we can insert into a regular expressions that have special meaning. For example:"
   ]
  },
  {
   "cell_type": "code",
   "execution_count": 57,
   "metadata": {},
   "outputs": [
    {
     "data": {
      "text/plain": [
       "['FW: How to use UPS for shipping on the internet',\n",
       " 'FW: How to use UPS for shipping on the internet',\n",
       " 'How to use UPS for shipping on the internet',\n",
       " 'FW: How to use UPS for shipping on the internet',\n",
       " 'FW: How to use UPS for shipping on the internet',\n",
       " 'How to use UPS for shipping on the internet',\n",
       " \"FW: We've been shopping!\",\n",
       " 'Re: Start shopping...',\n",
       " 'Start shopping...',\n",
       " 'lng shipping/mosk meeting in tokyo 2nd of feb',\n",
       " 'lng shipping/mosk meeting in tokyo 2nd of feb',\n",
       " 'Re: lng shipping',\n",
       " 'Re: lng shipping',\n",
       " 'Re: lng shipping',\n",
       " 'Re: lng shipping',\n",
       " 'Re: lng shipping',\n",
       " 'lng shipping',\n",
       " 'Re: lng shipping',\n",
       " 'Re: lng shipping',\n",
       " 'Re: lng shipping',\n",
       " 'lng shipping',\n",
       " 'lng shipping',\n",
       " 'lng shipping',\n",
       " 'Re: lng shipping',\n",
       " 'lng shipping',\n",
       " 'FW: Online shopping',\n",
       " 'Online shopping']"
      ]
     },
     "execution_count": 57,
     "metadata": {},
     "output_type": "execute_result"
    }
   ],
   "source": [
    "[line for line in subjects if re.search(\"sh.pping\", line)]"
   ]
  },
  {
   "cell_type": "markdown",
   "metadata": {},
   "source": [
    "In a regular expression, the character `.` means \"match any character here.\" So, using the regular expression `sh.pping`, we get lines that match `shipping` but also `shopping`. The `.` is an example of a regular expression *metacharacter*---a character (or string of characters) that has a special meaning.\n",
    "\n",
    "Here are a few more metacharacters. These metacharacters allow you to say that a character belonging to a particular *class* of characters should be matched in a particular position:\n",
    "\n",
    "| metacharacter | meaning |\n",
    "|---------------|---------|\n",
    "| `.` | match any character |\n",
    "| `\\w` | match any alphanumeric (\"*w*ord\") character (lowercase and capital letters, 0 through 9, underscore) |\n",
    "| `\\s` | match any whitespace character (i.e., space and tab) |\n",
    "| `\\S` | match any non-whitespace character (the inverse of \\s) |\n",
    "| `\\d` | match any digit (0 through 9) |\n",
    "| `\\.` | match a literal `.` |\n",
    "\n",
    "Here, for example, is a (clearly imperfect) regular expression to search for all subject lines containing a time of day:"
   ]
  },
  {
   "cell_type": "code",
   "execution_count": 58,
   "metadata": {},
   "outputs": [
    {
     "data": {
      "text/plain": [
       "['RE: 3:17pm',\n",
       " '3:17pm',\n",
       " \"RE: It's On!!! - 2:00pm Today\",\n",
       " \"FW: It's On!!! - 2:00pm Today\",\n",
       " \"It's On!!! - 2:00pm Today\",\n",
       " 'Re: Registration Confirmation: Larry Summers on 12/6 at 1:45pm (was',\n",
       " 'Re: Conference Call today 2/9/01 at 11:15am PST',\n",
       " 'Conference Call today 2/9/01 at 11:15am PST',\n",
       " '5/24 1:00pm conference call.',\n",
       " '5/24 1:00pm conference call.',\n",
       " 'FW: 07:33am EDT 15-Aug-01 Prudential Securities (C',\n",
       " 'FW: 07:33am EDT 15-Aug-01 Prudential Securities (C',\n",
       " '07:33am EDT 15-Aug-01 Prudential Securities (C',\n",
       " \"Re: Updated Mar'00 Requirements Received at 11:25am from CES\",\n",
       " \"Re: Updated Mar'00 Requirements Received at 11:25am from CES\",\n",
       " \"Re: Updated Mar'00 Requirements Received at 11:25am from CES\",\n",
       " \"Updated Mar'00 Requirements Received at 11:25am from CES\",\n",
       " 'Reminder: Legal Team Meeting -- Friday, 9:00am Houston time',\n",
       " 'Thursday, March 7th 1:30-3:00pm: REORIENTATION',\n",
       " 'Meeting at 2:00pm Friday',\n",
       " 'Meeting at 2:00pm Friday',\n",
       " 'Fw: 12:30pm Deadline for changes to letters or contracts today',\n",
       " '12:30pm Deadline for changes to letters or contracts today',\n",
       " 'Johnathan actually resigned at 9:00am this morning',\n",
       " 'FW: Enron Conference Call Today, 11:00am CST',\n",
       " 'Enron Conference Call Today, 11:00am CST',\n",
       " 'Meeting, Wednesday, January 23 at 10:00am at the Houstonian',\n",
       " 'RE: TVA Meeting, Wednesday June13, 1:15pm, EB3125b',\n",
       " 'TVA Meeting, Wednesday June13, 1:15pm, EB3125b',\n",
       " 'Re: Dabhol Update: Conference Call Thursday, Dec. 28, 8:00am',\n",
       " 'Dabhol Update: Conference Call Thursday, Dec. 28, 8:00am Houston time',\n",
       " 'FW: Victoria Ashley Jones Born 5/25/01 7:31am.',\n",
       " 'Fw: Victoria Ashley Jones Born 5/25/01 7:31am.',\n",
       " 'Victoria Ashley Jones Born 5/25/01 7:31am.',\n",
       " 'RE: Victoria Ashley Jones Born 5/25/01 7:31am.',\n",
       " 'Fw: Victoria Ashley Jones Born 5/25/01 7:31am.',\n",
       " 'Victoria Ashley Jones Born 5/25/01 7:31am.',\n",
       " 'RE: UCSF Cogen Calculation Conf Call, 10/12/01 at 8:00am PST',\n",
       " 'UCSF Cogen Calculation Conf Call, 10/12/01 at 8:00am PST',\n",
       " 'FW: Confirmation:  UCSF Cogen Conf Call. 10/22/02 at 8:00am',\n",
       " '=09RE: Confirmation:  UCSF Cogen Conf Call. 10/22/02 at 8:00am PST/=',\n",
       " '=09Confirmation:  UCSF Cogen Conf Call. 10/22/02 at 8:00am PST/10:0=',\n",
       " 'RE: Confirmation:  UCSF Cogen Conf Call. 10/22/02 at 8:00am',\n",
       " '=09Confirmation:  UCSF Cogen Conf Call. 10/22/02 at 8:00am PST/10:0=',\n",
       " 'Re: March expenses - deadline 04-04-01 2:00pm',\n",
       " 'Cirque - Jan 24 5:00pm show']"
      ]
     },
     "execution_count": 58,
     "metadata": {},
     "output_type": "execute_result"
    }
   ],
   "source": [
    "[line for line in subjects if re.search(r\"\\d:\\d\\d\\wm\", line)]"
   ]
  },
  {
   "cell_type": "markdown",
   "metadata": {},
   "source": [
    "Here's that regular expression again: `r\"\\d:\\d\\d\\wm\"`. I'm going to show you how to read this, one unit at a time.\n",
    "\n",
    "\"Hey, regular expression engine. Tell me if you can find this pattern in the current string. First of all, look for any number (`\\d`). If you find that, look for a colon right after it (`:`). If you find that, look for another number right after it (`\\d`). If you find *that*, look for any alphanumeric character---you know, a letter, a number, an underscore. If you find  that, then look for a `m`. Good? If you found all of those things in a row, then the pattern matched.\""
   ]
  },
  {
   "cell_type": "markdown",
   "metadata": {},
   "source": [
    "#### But what about that weirdo `r\"\"`?\n",
    "\n",
    "Python provides another way to include string literals in your program, in addition to the single- and double-quoted strings we've already discussed. The r\"\" string literal, or \"raw\" string, includes all characters inside the quotes literally, without interpolating special escape characters. Here's an example:"
   ]
  },
  {
   "cell_type": "code",
   "execution_count": 59,
   "metadata": {},
   "outputs": [
    {
     "name": "stdout",
     "output_type": "stream",
     "text": [
      "this is\n",
      "a test\n",
      "this is\\na test\n",
      "I love \\ backslashes!\n",
      "I love \\ backslashes!\n"
     ]
    }
   ],
   "source": [
    "print(\"this is\\na test\")\n",
    "print(r\"this is\\na test\")\n",
    "print(\"I love \\\\ backslashes!\")\n",
    "print(r\"I love \\ backslashes!\")"
   ]
  },
  {
   "cell_type": "markdown",
   "metadata": {},
   "source": [
    "As you can see, whereas a double- or single-quoted string literal interprets `\\n` as a new line character, the raw quoted string includes those characters as they were literally written. More importantly, for our purposes at least, is the fact that, in the raw quoted string, we only need to write one backslash in order to get a literal backslash in our string.\n",
    "\n",
    "Why is this important? Because regular expressions use backslashes all the time, and we don't want Python to try to interpret those backslashes as special characters. (Inside a regular string, we'd have to write a simple regular expression like `\\b\\w+\\b` as `\\\\b\\\\w+\\\\b`---yecch.)\n",
    "\n",
    "So the basic rule of thumb is this: use r\"\" to quote any regular expressions in your program. All of the examples you'll see below will use this convention."
   ]
  },
  {
   "cell_type": "markdown",
   "metadata": {},
   "source": [
    "###Character classes in-depth\n",
    "\n",
    "You can define your own character classes by enclosing a list of characters, or range of characters, inside square brackets:\n",
    "\n",
    "| regex | explanation |\n",
    "|-------|-------------|\n",
    "| `[aeiou]` | matches any vowel |\n",
    "| `[02468]` | matches any even digit |\n",
    "| `[a-z]` | matches any lower-case letter |\n",
    "| `[A-Z]` | matches any upper-case character |\n",
    "| `[^0-9]` | matches any non-digit (the ^ inverts the class, matches anything not in the list) |\n",
    "| `[Ee]` | matches either `E` or `e` |\n",
    "\n",
    "Let's find every subject line where we have four or more vowels in a row:"
   ]
  },
  {
   "cell_type": "code",
   "execution_count": 60,
   "metadata": {},
   "outputs": [
    {
     "data": {
      "text/plain": [
       "['Re: Natural gas quote for Louiisiana-Pacific (L-P)',\n",
       " 'WooooooHoooooo more Vacation',\n",
       " 'Re: Clickpaper Counterparties waiting to clear the work queue',\n",
       " 'Gooooooooooood Bye!',\n",
       " 'Gooooooooooood Bye!',\n",
       " 'RE: Hello Sweeeeetie',\n",
       " 'Hello Sweeeeetie',\n",
       " 'FW: Waaasssaaaaabi !',\n",
       " 'FW: Waaasssaaaaabi !',\n",
       " 'FW: Waaasssaaaaabi !',\n",
       " 'FW: Waaasssaaaaabi !',\n",
       " 'Re: FW: Wasss Uuuuuup STG?',\n",
       " 'RE: Rrrrrrrooooolllllllllllll TIDE!!!!!!!!',\n",
       " 'Rrrrrrrooooolllllllllllll TIDE!!!!!!!!',\n",
       " 'FW: The Osama Bin Laden Song ( Soooo Funny !! )',\n",
       " 'Fw: The Osama Bin Laden Song ( Soooo Funny !! )',\n",
       " 'The Osama Bin Laden Song ( Soooo Funny !! )',\n",
       " 'RE: duuuuhhhhh',\n",
       " 'RE: duuuuhhhhh',\n",
       " 'RE: duuuuhhhhh',\n",
       " 'duuuuhhhhh',\n",
       " 'RE: duuuuhhhhh',\n",
       " 'duuuuhhhhh',\n",
       " 'RE: FPL Queue positions 1-15',\n",
       " 'Re: FPL Queue positions 1-15',\n",
       " 'Re: Helloooooo!!!',\n",
       " 'Re: Helloooooo!!!',\n",
       " 'Fw: FW: OOOooooops',\n",
       " 'FW: FW: OOOooooops',\n",
       " 'Re: yeeeeha',\n",
       " 'yeeeeha',\n",
       " 'yahoooooooooooooooooooo',\n",
       " 'RE: yahoooooooooooooooooooo',\n",
       " 'RE: yahoooooooooooooooooooo',\n",
       " 'yahoooooooooooooooooooo',\n",
       " 'RE: I hate yahooooooooooooooo',\n",
       " 'I hate yahooooooooooooooo',\n",
       " 'RE: I hate yahooooooooooooooo',\n",
       " 'I hate yahooooooooooooooo',\n",
       " 'RE: I hate yahooooooooooooooo',\n",
       " 'I hate yahooooooooooooooo',\n",
       " 'RE: I hate yahooooooooooooooo',\n",
       " 'I hate yahooooooooooooooo',\n",
       " \"FW: duuuuuuuuuuuuuuuuude...........what's up?\",\n",
       " \"RE: duuuuuuuuuuuuuuuuude...........what's up?\",\n",
       " \"RE: duuuuuuuuuuuuuuuuude...........what's up?\",\n",
       " 'Re: skiiiiiiiiing',\n",
       " 'skiiiiiiiiing',\n",
       " 'scuba dooooooooooooo',\n",
       " 'RE: scuba dooooooooooooo',\n",
       " 'RE: scuba dooooooooooooo',\n",
       " 'scuba dooooooooooooo',\n",
       " 'Re: skiiiiiiiing',\n",
       " 'skiiiiiiiing',\n",
       " 'Re: skiiiiiiiing',\n",
       " 'Re: skiiiiiiiiing',\n",
       " \"RE: Clickpaper CP's awaiting migration in work queue's 06/27/01\",\n",
       " \"FW: Clickpaper CP's awaiting migration in work queue's 06/27/01\",\n",
       " \"Clickpaper CP's awaiting migration in work queue's 06/27/01\",\n",
       " 'RE:  Sequoia Adv. Pro.: Draft Stipulation and Order',\n",
       " 'FW: Sequoia Adv. Pro.: Draft Stipulation and Order',\n",
       " 'Sequoia Adv. Pro.: Draft Stipulation and Order',\n",
       " 'Re: FW: Sequoia Adv. Pro.: Draft Stipulation and Order',\n",
       " 'FW: Sequoia Adv. Pro.: Draft Stipulation and Order',\n",
       " 'FW: Sequoia Adv. Pro.: Draft Stipulation and Order',\n",
       " 'Fw: Sequoia Adv. Pro.: Draft Stipulation and Order',\n",
       " 'Sequoia Adv. Pro.: Draft Stipulation and Order',\n",
       " 'Sequoia Adv. Pro.: Draft Stipulation and Order',\n",
       " 'i would have done this but i was toooo busy.....']"
      ]
     },
     "execution_count": 60,
     "metadata": {},
     "output_type": "execute_result"
    }
   ],
   "source": [
    "[line for line in subjects if re.search(r\"[aeiou][aeiou][aeiou][aeiou]\", line)]"
   ]
  },
  {
   "cell_type": "markdown",
   "metadata": {},
   "source": [
    "### Metacharacters: anchors\n",
    "\n",
    "The next important kind of metacharacter is the *anchor*. An anchor doesn't match a character, but matches a particular place in a string.\n",
    "\n",
    "| anchor | meaning |\n",
    "|--------|---------|\n",
    "| `^` | match at beginning of string |\n",
    "| `$` | match at end of string |\n",
    "| `\\b` | match at word boundary |\n",
    "\n",
    "> Note: `^` in a character class has a different meaning from `^` outside a character class!\n",
    "\n",
    "> Note #2: If you want to search for a literal dollar sign (`$`), you need to put a backslash in front of it, like so: `\\$`\n",
    "\n",
    "Now we have enough regular expression knowledge to do some fairly sophisticated matching. As an example, all the subject lines that begin with the string `New York`, regardless of whether or not the initial letters were capitalized:"
   ]
  },
  {
   "cell_type": "code",
   "execution_count": null,
   "metadata": {},
   "outputs": [],
   "source": [
    "[line for line in subjects if re.search(r\"^[Nn]ew [Yy]ork\", line)]"
   ]
  },
  {
   "cell_type": "markdown",
   "metadata": {},
   "source": [
    "Every subject line that ends with an ellipsis:"
   ]
  },
  {
   "cell_type": "code",
   "execution_count": null,
   "metadata": {},
   "outputs": [],
   "source": [
    "[line for line in subjects if re.search(r\"\\.\\.\\.$\", line)]"
   ]
  },
  {
   "cell_type": "markdown",
   "metadata": {},
   "source": [
    "Every subject line that has the word 'oil' in it"
   ]
  },
  {
   "cell_type": "code",
   "execution_count": null,
   "metadata": {},
   "outputs": [],
   "source": [
    "[line for line in subjects if re.search(r\"\\b[Oo]il\\b\", line)]"
   ]
  },
  {
   "cell_type": "markdown",
   "metadata": {},
   "source": [
    "### Metacharacters: quantifiers\n",
    "\n",
    "Above we had a regular expression that looked like this:\n",
    "\n",
    "    [aeiou][aeiou][aeiou][aeiou]\n",
    "    \n",
    "Typing out all of those things is kind of a pain. Fortunately, there’s a way to specify how many times to match a particular character, using quantifiers. These affect the character that immediately precede them:\n",
    "\n",
    "| quantifier | meaning |\n",
    "|------------|---------|\n",
    "| `{n}` | match exactly n times |\n",
    "| `{n,m}` | match at least n times, but no more than m times |\n",
    "| `{n,}` | match at least n times |\n",
    "| `+` | match at least once (same as {1,}) |\n",
    "| `*` | match zero or more times |\n",
    "| `?` | match one time or zero times |\n",
    "\n",
    "For example, here's an example of a regular expression that finds subjects that contain at least fifteen capital letters in a row:"
   ]
  },
  {
   "cell_type": "code",
   "execution_count": null,
   "metadata": {},
   "outputs": [],
   "source": [
    "[line for line in subjects if re.search(r\"[A-Z]{15,}\", line)]"
   ]
  },
  {
   "cell_type": "markdown",
   "metadata": {},
   "source": [
    "Lines that contain five consecutive vowels:"
   ]
  },
  {
   "cell_type": "code",
   "execution_count": null,
   "metadata": {},
   "outputs": [],
   "source": [
    "[line for line in subjects if re.search(r\"[aeiou]{5}\", line)]"
   ]
  },
  {
   "cell_type": "markdown",
   "metadata": {},
   "source": [
    "Count the number of lines that are e-mail forwards, regardless of whether the subject line begins with `Fw:`, `FW:`, `Fwd:` or `FWD:`"
   ]
  },
  {
   "cell_type": "code",
   "execution_count": null,
   "metadata": {},
   "outputs": [],
   "source": [
    "len([line for line in subjects if re.search(r\"^F[Ww]d?:\", line)])"
   ]
  },
  {
   "cell_type": "markdown",
   "metadata": {},
   "source": [
    "Lines that have the word `news` in them and end in an exclamation point:"
   ]
  },
  {
   "cell_type": "code",
   "execution_count": null,
   "metadata": {},
   "outputs": [],
   "source": [
    "[line for line in subjects if re.search(r\"\\b[Nn]ews\\b.*!$\", line)]"
   ]
  },
  {
   "cell_type": "markdown",
   "metadata": {},
   "source": [
    "###Metacharacters: alternation\n",
    "\n",
    "One final bit of regular expression syntax: alternation.\n",
    "\n",
    "* `(?:x|y)`: match either x or y\n",
    "* `(?:x|y|z)`: match x, y or z\n",
    "* etc.\n",
    "\n",
    "So for example, if you wanted to count every subject line that begins with either `Re:` or `Fwd:`:"
   ]
  },
  {
   "cell_type": "code",
   "execution_count": null,
   "metadata": {},
   "outputs": [],
   "source": [
    "len([line for line in subjects if re.search(r\"^(?:Re|Fwd):\", line)])"
   ]
  },
  {
   "cell_type": "markdown",
   "metadata": {},
   "source": [
    "Every subject line that mentions a primary color:"
   ]
  },
  {
   "cell_type": "code",
   "execution_count": null,
   "metadata": {},
   "outputs": [],
   "source": [
    "[line for line in subjects if re.search(r\"\\b(?:[Rr]ed|[Yy]ellow|[Bb]lue)\\b\", line)]"
   ]
  },
  {
   "cell_type": "markdown",
   "metadata": {},
   "source": [
    "## Capturing what matches\n",
    "\n",
    "The `re.search()` function allows us to check to see *whether or not* a string matches a regular expression. Sometimes we want to find out not just if the string matches, but also to what, exactly, in the string matched. In other words, we want to *capture* whatever it was that matched.\n",
    "\n",
    "The easiest way to do this is with the `re.findall()` function, which takes a regular expression and a string to match it against, and returns a list of all parts of the string that the regular expression matched. Here's an example:"
   ]
  },
  {
   "cell_type": "code",
   "execution_count": null,
   "metadata": {},
   "outputs": [],
   "source": [
    "import re\n",
    "print(re.findall(r\"\\b\\w{5}\\b\", \"alpha beta gamma delta epsilon zeta eta theta\"))"
   ]
  },
  {
   "cell_type": "markdown",
   "metadata": {},
   "source": [
    "The regular expression above, `\\b\\w{5}\\b`, is a regular expression that means \"find me strings of five non-white space characters between word boundaries\"---in other words, find me five-letter words. The `re.findall()` method returns a list of strings---not just telling us whether or not the string matched, but which parts of the string matched.\n",
    "\n",
    "For the following `re.findall()` examples, we'll be operating on the entire file of subject lines as a single string, instead of using a list comprehension for individual subject lines. Here's how to read in the entire file as one string, instead of as a list of strings:"
   ]
  },
  {
   "cell_type": "code",
   "execution_count": null,
   "metadata": {},
   "outputs": [],
   "source": [
    "all_subjects = open(\"enronsubjects.txt\").read()"
   ]
  },
  {
   "cell_type": "markdown",
   "metadata": {},
   "source": [
    "Having done that, let's write a regular expression that finds all domain names in the subject lines:"
   ]
  },
  {
   "cell_type": "code",
   "execution_count": null,
   "metadata": {},
   "outputs": [],
   "source": [
    "re.findall(r\"\\b\\w+\\.(?:com|net|org)\", all_subjects)"
   ]
  },
  {
   "cell_type": "markdown",
   "metadata": {},
   "source": [
    "Every time the string `New York` is found, along with the word that comes directly afterward:"
   ]
  },
  {
   "cell_type": "code",
   "execution_count": null,
   "metadata": {},
   "outputs": [],
   "source": [
    "re.findall(r\"New York \\b\\w+\\b\", all_subjects)"
   ]
  },
  {
   "cell_type": "markdown",
   "metadata": {},
   "source": [
    "And just to bring things full-circle, everything that looks like a zip code, sorted:"
   ]
  },
  {
   "cell_type": "code",
   "execution_count": null,
   "metadata": {},
   "outputs": [],
   "source": [
    "sorted(re.findall(r\"\\b\\d{5}\\b\", all_subjects))"
   ]
  },
  {
   "cell_type": "markdown",
   "metadata": {},
   "source": [
    "## Full example: finding the dollar value of the Enron e-mail subject corpus\n",
    "\n",
    "Here's an example that combines our regular expression prowess with our ability to do smaller manipulations on strings. We want to find all dollar amounts in the subject lines, and then figure out what their sum is.\n",
    "\n",
    "To understand what we're working with, let's start by writing a list comprehension that finds strings that just have the dollar sign (`$`) in them:"
   ]
  },
  {
   "cell_type": "code",
   "execution_count": null,
   "metadata": {},
   "outputs": [],
   "source": [
    "[line for line in subjects if re.search(r\"\\$\", line)]"
   ]
  },
  {
   "cell_type": "markdown",
   "metadata": {},
   "source": [
    "Based on this data, we can guess at the steps we'd need to do in order to figure out these values. We're going to ignore anything that doesn't have \"k\", \"million\" or \"billion\" after it as chump change. So what we need to find is: a dollar sign, followed by any series of numbers (or a period), followed potentially by a space (but sometimes not), followed by a \"k\", \"m\" or \"b\" (which will sometimes start the word \"million\" or \"billion\" but sometimes not... so we won't bother looking).\n",
    "\n",
    "Here's how I would translate that into a regular expression:\n",
    "\n",
    "    \\$[0-9.]+ ?(?:[Kk]|[Mm]|[Bb])\n",
    "    \n",
    "We can use `re.findall()` to capture all instances where we found this regular expression in the text. Here's what that would look like:"
   ]
  },
  {
   "cell_type": "code",
   "execution_count": null,
   "metadata": {},
   "outputs": [],
   "source": [
    "re.findall(r\"\\$[0-9.]+ ?(?:[Kk]|[Mm]|[Bb])\", all_subjects)"
   ]
  },
  {
   "cell_type": "markdown",
   "metadata": {},
   "source": [
    "If we want to actually make a sum, though, we're going to need to do a little massaging."
   ]
  },
  {
   "cell_type": "code",
   "execution_count": null,
   "metadata": {},
   "outputs": [],
   "source": [
    "total_value = 0\n",
    "dollar_amounts = re.findall(r\"\\$\\d+ ?(?:[Kk]|[Mm]|[Bb])\", all_subjects)\n",
    "for amount in dollar_amounts:\n",
    "    # the last character will be 'k', 'm', or 'b'; \"normalize\" by making lowercase.\n",
    "    multiplier = amount[-1].lower()\n",
    "    # trim off the beginning $ and ending multiplier value\n",
    "    amount = amount[1:-1]\n",
    "    # remove any remaining whitespace\n",
    "    amount = amount.strip()\n",
    "    # convert to a floating-point number\n",
    "    float_amount = float(amount)\n",
    "    # multiply by an amount, based on what the last character was\n",
    "    if multiplier == 'k':\n",
    "        float_amount = float_amount * 1000\n",
    "    elif multiplier == 'm':\n",
    "        float_amount = float_amount * 1000000\n",
    "    elif multiplier == 'b':\n",
    "        float_amount = float_amount * 1000000000\n",
    "    # add to total value\n",
    "    total_value = total_value + float_amount\n",
    "\n",
    "print(int(total_value))"
   ]
  },
  {
   "cell_type": "markdown",
   "metadata": {},
   "source": [
    "That's over one trillion dollars! Nice work, guys."
   ]
  },
  {
   "cell_type": "markdown",
   "metadata": {},
   "source": [
    "### Conclusion\n",
    "\n",
    "Regular expressions are a great way to take some raw text and find the parts that are of interest to you. Python's string methods and string slicing syntax are a great way to massage and clean up data. You know them both now, which makes you powerful. But as powerful as you are, you have only scratched the surface of your potential! We only scratched the surface of what's possible with regular expressions."
   ]
  }
 ],
 "metadata": {
  "kernelspec": {
   "display_name": "Python 3",
   "language": "python",
   "name": "python3"
  },
  "language_info": {
   "codemirror_mode": {
    "name": "ipython",
    "version": 3
   },
   "file_extension": ".py",
   "mimetype": "text/x-python",
   "name": "python",
   "nbconvert_exporter": "python",
   "pygments_lexer": "ipython3",
   "version": "3.6.7"
  }
 },
 "nbformat": 4,
 "nbformat_minor": 1
}
