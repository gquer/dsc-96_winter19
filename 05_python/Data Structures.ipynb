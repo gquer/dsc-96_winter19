{
 "cells": [
  {
   "cell_type": "markdown",
   "metadata": {},
   "source": [
    "# Python Data Structures: Beyond the Basics\n",
    "\n",
    "There are a number of features, idioms, and data types for manipulating Python data structures that are worth being familiar with. Much of the material that follows in this course assumes this familiarity. An overview of some of these concepts are below. The goal of this tutorial is not necessarily for you to be able to use these patterns fluently, but to be able to recognize them and to start to be able to reason about what built-in Python data structures and functions are the best match for the problems and tasks you'll encounter.\n",
    "\n",
    "This notebook is adapted from Dennis Tenin's [Lede Program](https://github.com/ledeprogram/courses/blob/master/README.md)\n",
    "\n",
    "\n",
    "## List comprehensions\n",
    "\n",
    "A very common task in both data analysis and computer programming is applying some operation to every item in a list (e.g., scaling the numbers in a list by a fixed factor), or to create a copy of a list with only those items that match a particular criterion (e.g., eliminating values that fall below a certain threshold). Python has a succinct syntax, called a *list comprehension*, which allows you to easily write expressions that transform and filter lists.\n",
    "\n",
    "A list comprehension has a few parts:\n",
    "\n",
    "- a *source list*, or the list whose values will be transformed or filtered;\n",
    "- a *predicate expression*, to be evaluated for every item in the list; \n",
    "- (optionally) a *membership expression* that determines whether or not an item in the source list will be included in the result of evaluating the list comprehension, based on whether the expression evaluates to `True` or `False`; and\n",
    "- a *temporary variable name* by which each value from the source list will be known in the predicate expression and membership expression.\n",
    "\n",
    "These parts are arranged like so:\n",
    "\n",
    "> `[` *predicate expression* `for` *temporary variable name* `in` *source list* `if` *membership expression* `]`\n",
    "\n",
    "The words `for`, `in`, and `if` are a part of the syntax of the expression. They don't mean anything in particular (and in fact, they do completely different things in other parts of the Python language). You just have to spell them right and put them in the right place in order for the list comprehension to work.\n",
    "\n",
    "Here's an example, returning the squares of integers zero up to ten:"
   ]
  },
  {
   "cell_type": "code",
   "execution_count": 46,
   "metadata": {},
   "outputs": [
    {
     "name": "stdout",
     "output_type": "stream",
     "text": [
      "[0, 1, 4, 9, 16, 25, 36, 49, 64, 81]\n"
     ]
    }
   ],
   "source": [
    "print([x * x for x in [0, 1, 2, 3, 4, 5, 6, 7, 8, 9]])"
   ]
  },
  {
   "cell_type": "markdown",
   "metadata": {},
   "source": [
    "In the example above, `x*x` is the predicate expression; `x` is the temporary variable name; and `[0, 1, 2, 3, 4, 5, 6, 7, 8, 9]` is the source list. There's no membership expression in this example, so we omit it (and the word `if`).\n",
    "\n",
    "There's nothing special about the variable `x`; it's just a name that we chose. We could easily choose any other temporary variable name, as long as we use it in the predicate expression as well. Below, I use the name of one of my cats as the temporary variable name, and the expression evaluates the same way it did with `x`:"
   ]
  },
  {
   "cell_type": "code",
   "execution_count": 47,
   "metadata": {},
   "outputs": [
    {
     "name": "stdout",
     "output_type": "stream",
     "text": [
      "[0, 1, 4, 9, 16, 25, 36, 49, 64, 81]\n"
     ]
    }
   ],
   "source": [
    "print([shumai * shumai for shumai in [0, 1, 2, 3, 4, 5, 6, 7, 8, 9]])"
   ]
  },
  {
   "cell_type": "markdown",
   "metadata": {},
   "source": [
    "The expression in the list comprehension can be any expression, even just the temporary variable itself, in which case the list comprehension will simply evaluate to a copy of the original list: "
   ]
  },
  {
   "cell_type": "code",
   "execution_count": 48,
   "metadata": {},
   "outputs": [
    {
     "name": "stdout",
     "output_type": "stream",
     "text": [
      "[0, 1, 2, 3, 4, 5, 6, 7, 8, 9]\n"
     ]
    }
   ],
   "source": [
    "print([x for x in range(10)])"
   ]
  },
  {
   "cell_type": "markdown",
   "metadata": {},
   "source": [
    "You don't technically even need to use the temporary variable in the predicate expression:"
   ]
  },
  {
   "cell_type": "code",
   "execution_count": 49,
   "metadata": {},
   "outputs": [
    {
     "name": "stdout",
     "output_type": "stream",
     "text": [
      "[42, 42, 42, 42, 42, 42, 42, 42, 42, 42]\n"
     ]
    }
   ],
   "source": [
    "print([42 for x in range(10)])"
   ]
  },
  {
   "cell_type": "markdown",
   "metadata": {},
   "source": [
    "###The membership expression\n",
    "\n",
    "As indicated above, you can include an expression at the end of the list comprehension to determine whether or not the item in the source list will be evaluated and included in the resulting list. One way, for example, of including only those values from the source list that are greater than or equal to five:"
   ]
  },
  {
   "cell_type": "code",
   "execution_count": 50,
   "metadata": {},
   "outputs": [
    {
     "name": "stdout",
     "output_type": "stream",
     "text": [
      "[25, 36, 49, 64, 81]\n"
     ]
    }
   ],
   "source": [
    "print([x*x for x in range(10) if x >= 5])"
   ]
  },
  {
   "cell_type": "markdown",
   "metadata": {},
   "source": [
    "## Randomness\n",
    "\n",
    "Random numbers are useful for a number of reasons, from testing to statistics to cryptography. Python has a built-in module `random` which allows you to do things with random numbers. I'm going to introduce just a few of the most useful functions from `random`.\n",
    "\n",
    "In order to use `random`, you need to `import` it first. Once you do, you can call `random.randrange()` to generate a random number from zero up to (but not including) the specified number:"
   ]
  },
  {
   "cell_type": "code",
   "execution_count": 51,
   "metadata": {},
   "outputs": [
    {
     "name": "stdout",
     "output_type": "stream",
     "text": [
      "13\n"
     ]
    }
   ],
   "source": [
    "import random\n",
    "print(random.randrange(100))"
   ]
  },
  {
   "cell_type": "markdown",
   "metadata": {},
   "source": [
    "You can use `random.randrange()` to, for example, simulate a number of dice rolls. Here's 100 random rolls of a d6:"
   ]
  },
  {
   "cell_type": "code",
   "execution_count": 52,
   "metadata": {},
   "outputs": [
    {
     "name": "stdout",
     "output_type": "stream",
     "text": [
      "[6, 5, 3, 4, 2, 1, 2, 3, 5, 6, 1, 4, 2, 3, 3, 5, 1, 2, 2, 2, 6, 3, 3, 6, 3, 6, 6, 5, 3, 3, 5, 3, 6, 6, 2, 4, 6, 6, 1, 5, 3, 3, 4, 4, 4, 1, 1, 2, 5, 1, 1, 6, 1, 4, 6, 2, 6, 4, 4, 6, 3, 1, 1, 6, 2, 1, 3, 5, 2, 1, 3, 1, 5, 3, 5, 1, 4, 5, 3, 2, 1, 6, 6, 6, 6, 6, 6, 5, 3, 1, 5, 6, 4, 4, 6, 6, 4, 4, 1, 2]\n"
     ]
    }
   ],
   "source": [
    "print([random.randrange(6)+1 for i in range(100)])"
   ]
  },
  {
   "cell_type": "markdown",
   "metadata": {},
   "source": [
    "The `random` module also has a number of functions for getting random items from lists. The first is `random.choice()`, which simply returns a random item from a list:"
   ]
  },
  {
   "cell_type": "code",
   "execution_count": 53,
   "metadata": {},
   "outputs": [
    {
     "name": "stdout",
     "output_type": "stream",
     "text": [
      "chocolate\n"
     ]
    }
   ],
   "source": [
    "flavors = [\"vanilla\", \"chocolate\", \"red velvet\", \"durian\", \"cinnamon\", \"~mystery~\"]\n",
    "print(random.choice(flavors))"
   ]
  },
  {
   "cell_type": "markdown",
   "metadata": {},
   "source": [
    "The `random.sample()` function randomly samples a specified number of items from a list (guaranteeing that the same item won't be drawn twice):"
   ]
  },
  {
   "cell_type": "code",
   "execution_count": 54,
   "metadata": {},
   "outputs": [
    {
     "name": "stdout",
     "output_type": "stream",
     "text": [
      "['cinnamon', '~mystery~']\n"
     ]
    }
   ],
   "source": [
    "print(random.sample(flavors, 2))"
   ]
  },
  {
   "cell_type": "markdown",
   "metadata": {},
   "source": [
    "Finally, the `random.shuffle()` function sorts a list in random order:"
   ]
  },
  {
   "cell_type": "code",
   "execution_count": 55,
   "metadata": {},
   "outputs": [
    {
     "name": "stdout",
     "output_type": "stream",
     "text": [
      "['vanilla', 'chocolate', 'red velvet', 'durian', 'cinnamon', '~mystery~']\n",
      "['~mystery~', 'durian', 'red velvet', 'cinnamon', 'chocolate', 'vanilla']\n"
     ]
    }
   ],
   "source": [
    "print(flavors)\n",
    "random.shuffle(flavors)\n",
    "print(flavors)"
   ]
  },
  {
   "cell_type": "markdown",
   "metadata": {},
   "source": [
    "These are just the most useful (in my opinion) functions from `random`; the module has many other helpful functions to (e.g.) generate random numbers with particular distributions. [Read more here](https://docs.python.org/2/library/random.html)."
   ]
  },
  {
   "cell_type": "markdown",
   "metadata": {},
   "source": [
    "## Tuples\n",
    "\n",
    "Tuples (rhymes with \"supple\") are data structures very similar to lists. You can create a tuple using parentheses (instead of square brackets, as you would with a list):"
   ]
  },
  {
   "cell_type": "code",
   "execution_count": 56,
   "metadata": {},
   "outputs": [
    {
     "name": "stdout",
     "output_type": "stream",
     "text": [
      "('alpha', 'beta', 'gamma', 'delta')\n"
     ]
    }
   ],
   "source": [
    "t = (\"alpha\", \"beta\", \"gamma\", \"delta\")\n",
    "print(t)"
   ]
  },
  {
   "cell_type": "markdown",
   "metadata": {},
   "source": [
    "You can access the values in a tuple in the same way as you access the values in a list: using square bracket indexing syntax. Tuples support slice syntax and negative indexes, just like lists:"
   ]
  },
  {
   "cell_type": "code",
   "execution_count": 57,
   "metadata": {},
   "outputs": [
    {
     "data": {
      "text/plain": [
       "'gamma'"
      ]
     },
     "execution_count": 57,
     "metadata": {},
     "output_type": "execute_result"
    }
   ],
   "source": [
    "t[-2]"
   ]
  },
  {
   "cell_type": "code",
   "execution_count": 58,
   "metadata": {},
   "outputs": [
    {
     "data": {
      "text/plain": [
       "('beta', 'gamma')"
      ]
     },
     "execution_count": 58,
     "metadata": {},
     "output_type": "execute_result"
    }
   ],
   "source": [
    "t[1:3]"
   ]
  },
  {
   "cell_type": "markdown",
   "metadata": {},
   "source": [
    "The difference between a list and a tuple is that *the values in a tuple can't be changed after the tuple is created*. This means, for example, that attempting to `.append()` a value to a tuple will fail:"
   ]
  },
  {
   "cell_type": "code",
   "execution_count": 59,
   "metadata": {},
   "outputs": [
    {
     "ename": "AttributeError",
     "evalue": "'tuple' object has no attribute 'append'",
     "output_type": "error",
     "traceback": [
      "\u001b[0;31m---------------------------------------------------------------------------\u001b[0m",
      "\u001b[0;31mAttributeError\u001b[0m                            Traceback (most recent call last)",
      "\u001b[0;32m<ipython-input-59-c8773a2494a9>\u001b[0m in \u001b[0;36m<module>\u001b[0;34m()\u001b[0m\n\u001b[0;32m----> 1\u001b[0;31m \u001b[0mt\u001b[0m\u001b[0;34m.\u001b[0m\u001b[0mappend\u001b[0m\u001b[0;34m(\u001b[0m\u001b[0;34m\"epsilon\"\u001b[0m\u001b[0;34m)\u001b[0m\u001b[0;34m\u001b[0m\u001b[0;34m\u001b[0m\u001b[0m\n\u001b[0m",
      "\u001b[0;31mAttributeError\u001b[0m: 'tuple' object has no attribute 'append'"
     ]
    }
   ],
   "source": [
    "t.append(\"epsilon\")"
   ]
  },
  {
   "cell_type": "markdown",
   "metadata": {},
   "source": [
    "Likewise, assigning to an index of a tuple will fail:"
   ]
  },
  {
   "cell_type": "code",
   "execution_count": 60,
   "metadata": {},
   "outputs": [
    {
     "ename": "TypeError",
     "evalue": "'tuple' object does not support item assignment",
     "output_type": "error",
     "traceback": [
      "\u001b[0;31m---------------------------------------------------------------------------\u001b[0m",
      "\u001b[0;31mTypeError\u001b[0m                                 Traceback (most recent call last)",
      "\u001b[0;32m<ipython-input-60-6878be2d23fa>\u001b[0m in \u001b[0;36m<module>\u001b[0;34m()\u001b[0m\n\u001b[0;32m----> 1\u001b[0;31m \u001b[0mt\u001b[0m\u001b[0;34m[\u001b[0m\u001b[0;36m2\u001b[0m\u001b[0;34m]\u001b[0m \u001b[0;34m=\u001b[0m \u001b[0;34m\"bravo\"\u001b[0m\u001b[0;34m\u001b[0m\u001b[0;34m\u001b[0m\u001b[0m\n\u001b[0m",
      "\u001b[0;31mTypeError\u001b[0m: 'tuple' object does not support item assignment"
     ]
    }
   ],
   "source": [
    "t[2] = \"bravo\""
   ]
  },
  {
   "cell_type": "markdown",
   "metadata": {},
   "source": [
    "### Why tuples? Why now?\n",
    "\n",
    "\"So,\" you think to yourself. \"Tuples are just like... broken lists. That's strange and a little unreasonable. Why even have them in your programming language?\" That's a fair question, and answering it requires a bit of knowledge of how Python works with these two kinds of values (lists and tuples) behind the scenes.\n",
    "\n",
    "Essentially, tuples are *faster* and *smaller* than lists. Because lists can be modified, potentially becoming larger after they're initialized, Python has to allocate more memory than is strictly necessary whenever you create a list value. If your list grows beyond what Python has already allocated, Python has to allocate *more* memory. Allocating memory, copying values into memory, and then freeing memory when it's when no longer needed, are all (perhaps surprisingly) slow processes---slower, at least, than using data already loaded into memory when your program begins.\n",
    "\n",
    "Because a tuple can't grow or shrink after it's created, Python knows exactly how much memory to allocate when you create a tuple in your program. That means: less wasted memory, and less wasted time allocating a deallocating memory. The cost of this decreased resource footprint is less versatility.\n",
    "\n",
    "Tuples are often called an *immutable* data type. \"Immutable\" in this context simply means that it can't be changed after it's created.\n",
    "\n",
    "### Tuples in the standard library\n",
    "\n",
    "Because tuples are faster, they're often the data type that gets returned from methods and functions in Python's built-in library. For example, the `.items()` method of the dictionary object returns a list of tuples (rather than, as you might otherwise expect, a list of lists):"
   ]
  },
  {
   "cell_type": "code",
   "execution_count": 61,
   "metadata": {},
   "outputs": [
    {
     "data": {
      "text/plain": [
       "dict_items([('mercury', 0), ('venus', 0), ('earth', 1), ('mars', 2)])"
      ]
     },
     "execution_count": 61,
     "metadata": {},
     "output_type": "execute_result"
    }
   ],
   "source": [
    "moon_counts = {'mercury': 0, 'venus': 0, 'earth': 1, 'mars': 2}\n",
    "moon_counts.items()"
   ]
  },
  {
   "cell_type": "markdown",
   "metadata": {},
   "source": [
    "The `tuple()` function takes a list and returns it as a tuple:"
   ]
  },
  {
   "cell_type": "code",
   "execution_count": 62,
   "metadata": {},
   "outputs": [
    {
     "data": {
      "text/plain": [
       "(1, 2, 3, 4, 5)"
      ]
     },
     "execution_count": 62,
     "metadata": {},
     "output_type": "execute_result"
    }
   ],
   "source": [
    "tuple([1, 2, 3, 4, 5])"
   ]
  },
  {
   "cell_type": "markdown",
   "metadata": {},
   "source": [
    "If you want to initialize a new list with with data in a tuple, you can pass the tuple to the `list()` function:"
   ]
  },
  {
   "cell_type": "code",
   "execution_count": 63,
   "metadata": {},
   "outputs": [
    {
     "data": {
      "text/plain": [
       "[1, 2, 3, 4, 5]"
      ]
     },
     "execution_count": 63,
     "metadata": {},
     "output_type": "execute_result"
    }
   ],
   "source": [
    "list((1, 2, 3, 4, 5))"
   ]
  },
  {
   "cell_type": "markdown",
   "metadata": {},
   "source": [
    "## Sets\n",
    "\n",
    "Sets are another list-like data structure. Like tuples, sets have limitations compared to lists, but are very useful in particular circumstances.\n",
    "\n",
    "You can create a set like this, by passing a list to the `set()` function:"
   ]
  },
  {
   "cell_type": "code",
   "execution_count": 64,
   "metadata": {},
   "outputs": [
    {
     "name": "stdout",
     "output_type": "stream",
     "text": [
      "<class 'set'>\n",
      "{'epsilon', 'beta', 'alpha', 'delta', 'gamma'}\n"
     ]
    }
   ],
   "source": [
    "s = set([\"alpha\", \"beta\", \"gamma\", \"delta\", \"epsilon\"])\n",
    "print(type(s))\n",
    "print(s)"
   ]
  },
  {
   "cell_type": "markdown",
   "metadata": {},
   "source": [
    "You can also create a set using curly brackets (`{` and `}`) with a comma-separated sequence of values:"
   ]
  },
  {
   "cell_type": "code",
   "execution_count": 65,
   "metadata": {},
   "outputs": [
    {
     "name": "stdout",
     "output_type": "stream",
     "text": [
      "<class 'set'>\n",
      "{'epsilon', 'beta', 'alpha', 'delta', 'gamma'}\n"
     ]
    }
   ],
   "source": [
    "s = {\"alpha\", \"beta\", \"gamma\", \"delta\", \"epsilon\"}\n",
    "print(type(s))\n",
    "print(s)"
   ]
  },
  {
   "cell_type": "markdown",
   "metadata": {},
   "source": [
    "Sets, like lists, can be iterated over in a `for` loop and serve as the source value in a list comprehension:"
   ]
  },
  {
   "cell_type": "code",
   "execution_count": 66,
   "metadata": {},
   "outputs": [
    {
     "name": "stdout",
     "output_type": "stream",
     "text": [
      "epsilon\n",
      "beta\n",
      "alpha\n",
      "delta\n",
      "gamma\n"
     ]
    }
   ],
   "source": [
    "for item in s:\n",
    "    print(item)"
   ]
  },
  {
   "cell_type": "code",
   "execution_count": 67,
   "metadata": {},
   "outputs": [
    {
     "data": {
      "text/plain": [
       "['e', 'b', 'a', 'd', 'g']"
      ]
     },
     "execution_count": 67,
     "metadata": {},
     "output_type": "execute_result"
    }
   ],
   "source": [
    "[item[0] for item in s]"
   ]
  },
  {
   "cell_type": "markdown",
   "metadata": {},
   "source": [
    "You can add an item to a set using the set object's `.add()` method:"
   ]
  },
  {
   "cell_type": "code",
   "execution_count": 68,
   "metadata": {},
   "outputs": [
    {
     "name": "stdout",
     "output_type": "stream",
     "text": [
      "{'epsilon', 'beta', 'alpha', 'omega', 'delta', 'gamma'}\n"
     ]
    }
   ],
   "source": [
    "s.add(\"omega\")\n",
    "print(s)"
   ]
  },
  {
   "cell_type": "markdown",
   "metadata": {},
   "source": [
    "And you can check to see if a particular value is present in a set using the `in` operator:"
   ]
  },
  {
   "cell_type": "code",
   "execution_count": 69,
   "metadata": {},
   "outputs": [
    {
     "data": {
      "text/plain": [
       "True"
      ]
     },
     "execution_count": 69,
     "metadata": {},
     "output_type": "execute_result"
    }
   ],
   "source": [
    "\"beta\" in s"
   ]
  },
  {
   "cell_type": "code",
   "execution_count": 70,
   "metadata": {},
   "outputs": [
    {
     "data": {
      "text/plain": [
       "False"
      ]
     },
     "execution_count": 70,
     "metadata": {},
     "output_type": "execute_result"
    }
   ],
   "source": [
    "\"emoji\" in s"
   ]
  },
  {
   "cell_type": "markdown",
   "metadata": {},
   "source": [
    "### Sets can't contain duplicates\n",
    "\n",
    "So now you're asking \"okay, so... it's a list. You can put things in it and add things to it and check if things are in it. Big deal. Why am I even listening to this. I'm going to check Facebook. Ah, sweet, sweet Facebook.\" But wait! Sets are different from lists in several useful (and/or strange) ways. One useful property of the set is that once a value is in a set, any further attempts to add that value to the set will be ignored. That is: a set can't contain the same value twice. You can exploit this property of sets in order to remove duplicates from a list:"
   ]
  },
  {
   "cell_type": "code",
   "execution_count": 71,
   "metadata": {},
   "outputs": [
    {
     "name": "stdout",
     "output_type": "stream",
     "text": [
      "{'what', 'is', 'it'}\n"
     ]
    }
   ],
   "source": [
    "source_list = [\"it\", \"is\", \"what\", \"it\", \"is\"]\n",
    "without_duplicates = set(source_list)\n",
    "print(without_duplicates)"
   ]
  },
  {
   "cell_type": "markdown",
   "metadata": {},
   "source": [
    "### Sets are unordered\n",
    "\n",
    "Another important difference between sets and lists is that sets are *unordered*. You may have noticed this in the examples above: the order of the items added to a set is not the same as the order of the items when you get them back out. (This is similar to how keys in Python dictionaries are unordered.)\n",
    "\n",
    "Sets and lists are similar, but not interchangeable. Use lists when it's important to know the order of a particular sequence; use sets when it's important to be able to quickly check to see if a particular item is in the sequence."
   ]
  },
  {
   "cell_type": "markdown",
   "metadata": {},
   "source": [
    "## The `dict()` function\n",
    "\n",
    "The `dict()` function creates a new dictionary. You can create an empty dictionary by calling this function with no parameters:"
   ]
  },
  {
   "cell_type": "code",
   "execution_count": 72,
   "metadata": {},
   "outputs": [
    {
     "name": "stdout",
     "output_type": "stream",
     "text": [
      "<class 'dict'>\n"
     ]
    }
   ],
   "source": [
    "t = dict() # same as t = {}\n",
    "print(type(t))"
   ]
  },
  {
   "cell_type": "markdown",
   "metadata": {},
   "source": [
    "But the `dict()` function can also be used to initialize a new dictionary from a *list of tuples*. Here's what that usage looks like:"
   ]
  },
  {
   "cell_type": "code",
   "execution_count": 73,
   "metadata": {},
   "outputs": [
    {
     "name": "stdout",
     "output_type": "stream",
     "text": [
      "{'a': 1, 'b': 2, 'c': 3}\n"
     ]
    }
   ],
   "source": [
    "items = [(\"a\", 1), (\"b\", 2), (\"c\", 3)]\n",
    "t = dict(items)\n",
    "print(t)"
   ]
  },
  {
   "cell_type": "markdown",
   "metadata": {},
   "source": [
    "This might not seem immediately useful, but as we'll see below, the `dict()` function can be used to quickly make a dictionary out of sequential data."
   ]
  },
  {
   "cell_type": "markdown",
   "metadata": {},
   "source": [
    "## Dictionary comprehensions\n",
    "\n",
    "A very common task in Python is to take some kind of sequential data and then turn it into a dictionary. Say, for example, that we wanted to take a list of strings and then create a dictionary mapping the strings to their lengths. Here's how to do that with a `for` loop:"
   ]
  },
  {
   "cell_type": "code",
   "execution_count": 74,
   "metadata": {},
   "outputs": [
    {
     "name": "stdout",
     "output_type": "stream",
     "text": [
      "{'carter': 6, 'reagan': 6, 'bush': 4, 'clinton': 7, 'obama': 5, 'trump': 5}\n"
     ]
    }
   ],
   "source": [
    "us_presidents = [\"carter\", \"reagan\", \"bush\", \"clinton\", \"bush\", \"obama\", \"trump\"]\n",
    "prez_lengths = {}\n",
    "for item in us_presidents:\n",
    "    prez_lengths[item] = len(item)\n",
    "print(prez_lengths)"
   ]
  },
  {
   "cell_type": "markdown",
   "metadata": {},
   "source": [
    "This task is so common that it's often written as a single expression. There are several ways to this; the first is by passing the result of a list comprehension to the `dict()` function: "
   ]
  },
  {
   "cell_type": "code",
   "execution_count": 75,
   "metadata": {},
   "outputs": [
    {
     "name": "stdout",
     "output_type": "stream",
     "text": [
      "our list of tuples:  [('carter', 6), ('reagan', 6), ('bush', 4), ('clinton', 7), ('bush', 4), ('obama', 5), ('trump', 5)]\n",
      "resulting dictionary:  {'carter': 6, 'reagan': 6, 'bush': 4, 'clinton': 7, 'obama': 5, 'trump': 5}\n"
     ]
    }
   ],
   "source": [
    "prez_length_tuples = [(item, len(item)) for item in us_presidents]\n",
    "print(\"our list of tuples: \", prez_length_tuples)\n",
    "prez_lengths = dict(prez_length_tuples)\n",
    "print(\"resulting dictionary: \", prez_lengths)"
   ]
  },
  {
   "cell_type": "markdown",
   "metadata": {},
   "source": [
    "The example above is a little bit complicated! The tricky part is the list comprehension. The *source list* of the comprehension is our list of presidential names; the predicate expression is a *tuple* with two items: the name itself, and the length of the name. We then pass the resulting list of tuples to the `dict()` function, which evaluates to the desired dictionary. This bit of code can be rewritten as one expression:"
   ]
  },
  {
   "cell_type": "code",
   "execution_count": null,
   "metadata": {},
   "outputs": [],
   "source": [
    "prez_lengths = dict([(item, len(item)) for item in us_presidents])\n",
    "print(prez_lengths)"
   ]
  },
  {
   "cell_type": "markdown",
   "metadata": {},
   "source": [
    "If you're a beginner Python programmer, it might be a while before you can formulate these expressions on your own. But it's important to be able to recognize this idiom when you see it in other people's code.\n",
    "\n",
    "Python 3 introduced a new syntax specifically for creating dictionaries in this manner. The expression above can be rewritten like so:"
   ]
  },
  {
   "cell_type": "code",
   "execution_count": null,
   "metadata": {},
   "outputs": [],
   "source": [
    "prez_lengths = {item: len(item) for item in us_presidents}\n",
    "print(prez_lengths)"
   ]
  },
  {
   "cell_type": "markdown",
   "metadata": {},
   "source": [
    "This syntax is called a *dictionary comprehension* (by analogy with \"list comprehension\"). A dictionary comprehension is like a list comprehension, except the \"predicate expression\" is not an expression proper, but a key/value pair separated by a colon. We'll see another example of this syntax below."
   ]
  },
  {
   "cell_type": "markdown",
   "metadata": {},
   "source": [
    "## Combining lists with `zip`\n",
    "\n",
    "As you can see by now, the \"list of tuples\" is a very common configuration for data in Python. The `zip()` function allows you to create a list of tuples that combines values from two separate lists. For example, imagine that you've retrieved the names of certain US states from one source, and the estimated population for those states from a different source. You know that the data is in the same order in both sources, and you'd like to combine the two into one list (perhaps to eventually create a dictionary for easy population lookups). The `zip()` function does just this:"
   ]
  },
  {
   "cell_type": "code",
   "execution_count": 76,
   "metadata": {},
   "outputs": [
    {
     "name": "stdout",
     "output_type": "stream",
     "text": [
      "[('alabama', 4849377), ('alaska', 736732), ('arizona', 6731484), ('arkansas', 2966369), ('california', 38802500)]\n"
     ]
    }
   ],
   "source": [
    "state_names = [\"alabama\", \"alaska\", \"arizona\", \"arkansas\", \"california\"]\n",
    "state_pop = [4849377, 736732, 6731484, 2966369, 38802500]\n",
    "combo = zip(state_names, state_pop)\n",
    "print(list(combo))"
   ]
  },
  {
   "cell_type": "markdown",
   "metadata": {},
   "source": [
    "As you can see, the `zip()` function takes two lists as parameters and returns a *list of tuples* with the respective items from both lists. You could then (for example) pass the result of `zip()` to the `dict()` function, to create a dictionary mapping state names to state populations:"
   ]
  },
  {
   "cell_type": "code",
   "execution_count": 77,
   "metadata": {},
   "outputs": [
    {
     "name": "stdout",
     "output_type": "stream",
     "text": [
      "{'alabama': 4849377, 'alaska': 736732, 'arizona': 6731484, 'arkansas': 2966369, 'california': 38802500}\n"
     ]
    }
   ],
   "source": [
    "state_pop_lookup = dict(zip(state_names, state_pop))\n",
    "print(state_pop_lookup)"
   ]
  },
  {
   "cell_type": "markdown",
   "metadata": {},
   "source": [
    "## Enumerating lists\n",
    "\n",
    "Let's say you want to iterate through a list, prepending each item in the list with its index: a numbered list. One way to do this is to write a `for` loop to print out the items of a list with their index, keeping track of the current index in a separate variable:"
   ]
  },
  {
   "cell_type": "code",
   "execution_count": null,
   "metadata": {},
   "outputs": [],
   "source": [
    "elements = [\"hydrogen\", \"helium\", \"lithium\", \"beryllium\", \"boron\"]\n",
    "index = 0\n",
    "for item in elements:\n",
    "    print(index, item)\n",
    "    index += 1"
   ]
  },
  {
   "cell_type": "markdown",
   "metadata": {},
   "source": [
    "That whole `index` variable thing, though---kind of ugly and non-Pythonic. What if we used the `zip()` function to create instead a list of tuples, where the first item is the index of the item in the source list, and the second item is the item itself? That might look like this:"
   ]
  },
  {
   "cell_type": "code",
   "execution_count": null,
   "metadata": {},
   "outputs": [],
   "source": [
    "# the range() function returns a list from 0 up to the specified value\n",
    "enumerated_elements = zip(range(len(elements)), elements)\n",
    "print(\"enumerated list: \", list(enumerated_elements))"
   ]
  },
  {
   "cell_type": "markdown",
   "metadata": {},
   "source": [
    "Note that the `zip` iterator can only be used once - after that it is exhausted.  If you want to use it again you can make it into a list."
   ]
  },
  {
   "cell_type": "code",
   "execution_count": null,
   "metadata": {},
   "outputs": [],
   "source": [
    "enumerated_elements = list(zip(range(len(elements)), elements))"
   ]
  },
  {
   "cell_type": "code",
   "execution_count": null,
   "metadata": {},
   "outputs": [],
   "source": [
    "# now, iterate over each tuple in the enumerated list...\n",
    "for index_item_tuple in enumerated_elements:\n",
    "    print(index_item_tuple[0], index_item_tuple[1])"
   ]
  },
  {
   "cell_type": "code",
   "execution_count": null,
   "metadata": {},
   "outputs": [],
   "source": [
    "index_item_tuple"
   ]
  },
  {
   "cell_type": "markdown",
   "metadata": {},
   "source": [
    "The `zip()` function here takes two lists: the first is a list returned from `range()` that has numbers from zero up to the number of items in the `elements` list (i.e., `[0, 1, 2, 3, 4]`). The second is the `elements` list itself. The call to `zip()` evaluates to the list shown above: a list of 2-tuples with index/item pairs.\n",
    "\n",
    "The `for` loop above is a little awkward: the temporary loop variable `index_item_tuple` has the value of each tuple in the `enumerated_elements` list in turn, so we need to use square brackets to get the values from the tuple. It turns out there's an easier, more Pythonic way to do this, using a feature called \"tuple unpacking\":"
   ]
  },
  {
   "cell_type": "code",
   "execution_count": null,
   "metadata": {},
   "outputs": [],
   "source": [
    "for index, item in enumerated_elements:\n",
    "    print(index, item)"
   ]
  },
  {
   "cell_type": "markdown",
   "metadata": {},
   "source": [
    "If you know that each item of a list is a tuple, you can write a series of comma-separated temporary variables between the `for` and the `in` of a `for` loop. Python will assign the first element of each tuple to the first variable listed, the second element of each tuple to the second variable listed, etc. This `for` loop accomplishes the same thing as the previous one, but it's much cleaner.\n",
    "\n",
    "Lists of index/value 2-tuples are needed fairly frequently in Python. So frequently that there's a built-in function for constructing such lists. That function is called `enumerate()`:"
   ]
  },
  {
   "cell_type": "code",
   "execution_count": null,
   "metadata": {},
   "outputs": [],
   "source": [
    "# this code:\n",
    "print(\"with zip/range/len:\")\n",
    "for index, item in zip(range(len(elements)), elements):\n",
    "    print(index, item)\n",
    "\n",
    "print(\"\\nwith enumerate:\")\n",
    "# ... can also be written like this:\n",
    "for index, item in enumerate(elements):\n",
    "    print(index, item)"
   ]
  },
  {
   "cell_type": "markdown",
   "metadata": {},
   "source": [
    "## Functions as values\n",
    "\n",
    "As you're aware, you can define a function in Python using the `def` keyword and an indented code block. For example, here's a function `first()` which returns the first item of a list or string:"
   ]
  },
  {
   "cell_type": "code",
   "execution_count": null,
   "metadata": {},
   "outputs": [],
   "source": [
    "def first(t):\n",
    "    return t[0]\n",
    "\n",
    "first(\"all of these wonderful characters\")"
   ]
  },
  {
   "cell_type": "markdown",
   "metadata": {},
   "source": [
    "What you may not know is that functions are themselves *values*, just like an integer or a floating-point number or a string or a list. Once a function has been defined, the name of a function is a variable that *contains* that value. You can ask Python to print that value out, just like you can ask Python to print the value of a list or string:"
   ]
  },
  {
   "cell_type": "code",
   "execution_count": null,
   "metadata": {},
   "outputs": [],
   "source": [
    "print(first)"
   ]
  },
  {
   "cell_type": "markdown",
   "metadata": {},
   "source": [
    "Printing a function isn't very useful, of course; you just get a string with information about where in memory Python is storing the function's code. But you can do other interesting things. For example, you can create a new variable that points to that function:"
   ]
  },
  {
   "cell_type": "code",
   "execution_count": null,
   "metadata": {},
   "outputs": [],
   "source": [
    "grab_index_zero = first\n",
    "grab_index_zero(\"all of these wonderful characters\")"
   ]
  },
  {
   "cell_type": "markdown",
   "metadata": {},
   "source": [
    "Above, we created a new variable `grab_index_zero` and assigned to it the value `first`. Now `grab_index_zero` can be called as a function, just like we can call `first` as a function! This works even for built-in functions like `len()`:"
   ]
  },
  {
   "cell_type": "code",
   "execution_count": null,
   "metadata": {},
   "outputs": [],
   "source": [
    "how_many_things_are_in = len\n",
    "how_many_things_are_in([\"hi\", \"there\", \"how\", \"are\", \"you\"])"
   ]
  },
  {
   "cell_type": "markdown",
   "metadata": {},
   "source": [
    "### Passing function values to functions\n",
    "\n",
    "Importantly, because Python functions are values, we can *pass them as parameters* to other Python functions. To illustrate, let's write a function `say_hello` which accomplishes a simple task: it prints out a random greeting."
   ]
  },
  {
   "cell_type": "code",
   "execution_count": null,
   "metadata": {},
   "outputs": [],
   "source": [
    "import random\n",
    "def say_hello():\n",
    "    greetz = [\"hey\", \"howdy\", \"hello\", \"greetings\", \"yo\", \"hi\"]\n",
    "    print(random.choice(greetz) + \"!\")\n",
    "say_hello()"
   ]
  },
  {
   "cell_type": "markdown",
   "metadata": {},
   "source": [
    "Now, let's write a function called `thrice`. This function takes *another* function as a parameter, and calls that function three times:"
   ]
  },
  {
   "cell_type": "code",
   "execution_count": null,
   "metadata": {},
   "outputs": [],
   "source": [
    "def thrice(func):\n",
    "    for i in range(3):\n",
    "        func()\n",
    "\n",
    "# let's try it out...\n",
    "thrice(say_hello)"
   ]
  },
  {
   "cell_type": "markdown",
   "metadata": {},
   "source": [
    "The `thrice` function has limited utility, of course (if for no other reason than the fact that most Python functions *return* values, instead of just printing them out). But it at least illustrates the concept.\n",
    "\n",
    "### Map and filter\n",
    "\n",
    "There are two built-in Python functions that I want to mention here, called `map()` and `filter()`. These are functions that operate on lists and take other functions as parameters.\n",
    "\n",
    "The `map()` function takes two parameters: a function and a list (or other sequence). It returns a new list, which contains the result of calling the given function on every item of the list:"
   ]
  },
  {
   "cell_type": "code",
   "execution_count": null,
   "metadata": {},
   "outputs": [],
   "source": [
    "def first(t):\n",
    "    return t[0]\n",
    "\n",
    "elements = [\"hydrogen\", \"helium\", \"lithium\", \"beryllium\", \"boron\"]\n",
    "\n",
    "# a new list containing the first character of each string\n",
    "list(map(first, elements))"
   ]
  },
  {
   "cell_type": "markdown",
   "metadata": {},
   "source": [
    "The `map()` call above is essentially the same thing as this list comprehension:"
   ]
  },
  {
   "cell_type": "code",
   "execution_count": null,
   "metadata": {},
   "outputs": [],
   "source": [
    "[first(item) for item in elements]"
   ]
  },
  {
   "cell_type": "markdown",
   "metadata": {},
   "source": [
    "There's no real reason to choose one idiom over the other (`map()` vs. list comprehension), and you'll often see Python programmers switch between the two. But it's important to be able to recognize that these two bits of code do the same thing."
   ]
  },
  {
   "cell_type": "markdown",
   "metadata": {},
   "source": [
    "The `filter()` function takes a function and a list (or other sequence), and returns a new list containing only those items from the source list that, when passed as a parameter to the given function, evaluate to `True`:"
   ]
  },
  {
   "cell_type": "code",
   "execution_count": null,
   "metadata": {},
   "outputs": [],
   "source": [
    "def greater_than_ten(num):\n",
    "    return num > 10\n",
    "\n",
    "numbers = [-10, 17, 4, 94, 2, 0, 10]\n",
    "list(filter(greater_than_ten, numbers))"
   ]
  },
  {
   "cell_type": "markdown",
   "metadata": {},
   "source": [
    "Again, this call to `filter()` can be re-written as a list comprehension:"
   ]
  },
  {
   "cell_type": "code",
   "execution_count": null,
   "metadata": {},
   "outputs": [],
   "source": [
    "[item for item in numbers if greater_than_ten(item)]"
   ]
  },
  {
   "cell_type": "markdown",
   "metadata": {},
   "source": [
    "## Lambda functions\n",
    "\n",
    "With functions like `map()` and `filter()`, it's very common to write quick, one-off functions simply for the purposes of processing a list. The `greater_than_ten` and `first` functions above are great examples of this: these are tiny functions that only have a `return` statement in them.\n",
    "\n",
    "Writing functions like this is *so* common, in fact, that there's a little shorthand for writing them. This shorthand allows you to define a function all in one line, without having to type out the `def` and the `return`. It looks like this:"
   ]
  },
  {
   "cell_type": "code",
   "execution_count": null,
   "metadata": {},
   "outputs": [],
   "source": [
    "# the regular way\n",
    "def first(t):\n",
    "    return t[0]\n",
    "\n",
    "# the \"shorthand\" way\n",
    "firstL = lambda t: t[0]\n",
    "\n",
    "# test it out!\n",
    "#first(\"cheese\")\n",
    "firstL(\"cheese\")"
   ]
  },
  {
   "cell_type": "markdown",
   "metadata": {},
   "source": [
    "This shorthand method is called a \"lambda function.\" (Why \"lambda\"? For secret programming reasons that you can investigate on your own. It's a ~mystery~.) A lambda function is essentially an alternate syntax for defining a function. Schematically, it looks like this:\n",
    "\n",
    "> lambda vars: expression\n",
    "\n",
    "... where \"lambda\" is the `lambda` keyword, `vars` is a comma-separated list of temporary variable names for parameters passed to the function, and `expression` is the expression that describes what the function will evaluate to.\n",
    "\n",
    "Here's a lambda function that takes two parameters:"
   ]
  },
  {
   "cell_type": "code",
   "execution_count": null,
   "metadata": {},
   "outputs": [],
   "source": [
    "# squish combines the first item of its first parameter with the last item of its second parameter\n",
    "squish = lambda one, two: one[0] + two[-1]\n",
    "squish(\"hi\", \"there\")\n",
    "\n",
    "# you could also write \"squish\" the longhand way, like this:\n",
    "#def squish(one, two):\n",
    "#    return one[0] + two[-1]"
   ]
  },
  {
   "cell_type": "markdown",
   "metadata": {},
   "source": [
    "Lambda functions have a serious limitation, though: a lambda function can consist of *only one expression*---you can't have an entire block of statements like you can with a regular function.\n",
    "\n",
    "The real utility of this alternate syntax comes from the fact that you can define a lambda function *in-line*: you don't have to assign a lambda function to a variable before you use it. So, for example, you can write this:"
   ]
  },
  {
   "cell_type": "code",
   "execution_count": 1,
   "metadata": {},
   "outputs": [
    {
     "data": {
      "text/plain": [
       "['h', 'h', 'l', 'b', 'b']"
      ]
     },
     "execution_count": 1,
     "metadata": {},
     "output_type": "execute_result"
    }
   ],
   "source": [
    "elements = [\"hydrogen\", \"helium\", \"lithium\", \"beryllium\", \"boron\"]\n",
    "list(map(lambda x: x[0], elements))"
   ]
  },
  {
   "cell_type": "markdown",
   "metadata": {},
   "source": [
    "... or this:"
   ]
  },
  {
   "cell_type": "code",
   "execution_count": 2,
   "metadata": {},
   "outputs": [
    {
     "data": {
      "text/plain": [
       "[17, 94]"
      ]
     },
     "execution_count": 2,
     "metadata": {},
     "output_type": "execute_result"
    }
   ],
   "source": [
    "numbers = [-10, 17, 4, 94, 2, 0, 10]\n",
    "list(filter(lambda x: x > 10, numbers))"
   ]
  },
  {
   "cell_type": "markdown",
   "metadata": {},
   "source": [
    "## Sorting\n",
    "\n",
    "You can sort a list two ways. The first is to use the list object's `.sort()` method, which sorts the list in-place:"
   ]
  },
  {
   "cell_type": "code",
   "execution_count": null,
   "metadata": {},
   "outputs": [],
   "source": [
    "elements = [\"hydrogen\", \"helium\", \"lithium\", \"beryllium\", \"boron\"]\n",
    "elements.sort()\n",
    "print(elements)"
   ]
  },
  {
   "cell_type": "markdown",
   "metadata": {},
   "source": [
    "The second is to use Python's built-in `sorted()` function, which evaluates to a copy of the list with its elements in order, while leaving the original list the same:"
   ]
  },
  {
   "cell_type": "code",
   "execution_count": null,
   "metadata": {},
   "outputs": [],
   "source": [
    "elements = [\"hydrogen\", \"helium\", \"lithium\", \"beryllium\", \"boron\"]\n",
    "print(sorted(elements))"
   ]
  },
  {
   "cell_type": "markdown",
   "metadata": {},
   "source": [
    "Both the `.sort()` method and the `sorted()` function take an optional keyword parameter `reverse` which, if set to `True`, causes the sorting to happen in reverse order:"
   ]
  },
  {
   "cell_type": "code",
   "execution_count": null,
   "metadata": {},
   "outputs": [],
   "source": [
    "# with .sort()\n",
    "numbers = [52, 54, 108, 13, 7, 2]\n",
    "numbers.sort(reverse=True)\n",
    "print(numbers)"
   ]
  },
  {
   "cell_type": "code",
   "execution_count": null,
   "metadata": {},
   "outputs": [],
   "source": [
    "# with sorted()\n",
    "numbers = [52, 54, 108, 13, 7, 2]\n",
    "sorted(numbers, reverse=True)"
   ]
  },
  {
   "cell_type": "markdown",
   "metadata": {},
   "source": [
    "This is all well and good, but what if we want to sort using some method than numerically or alphabetically? Say, for example, we had the following list of tuples describing state populations, and we wanted to sort the list by population. Just using `.sort()` or `sorted()` doesn't return the desired result:"
   ]
  },
  {
   "cell_type": "code",
   "execution_count": null,
   "metadata": {},
   "outputs": [],
   "source": [
    "states = [\n",
    "    ('Alabama', 4849377),\n",
    "    ('Alaska', 736732),\n",
    "    ('Arizona', 6731484),\n",
    "    ('Arkansas', 2966369),\n",
    "    ('California', 38802500)\n",
    "]\n",
    "# doesn't sort based on population!\n",
    "sorted(states)"
   ]
  },
  {
   "cell_type": "markdown",
   "metadata": {},
   "source": [
    "What we need is some way to tell Python which part of the data to look at when performing the sort. Python provides a way to do this with the `key` parameter, which you can pass to either `.sort()` or `sorted()`. The value passed to the `key` parameter should be a function. When sorting the list, Python will evaluate this function for each item in the list, and will decide how that item should be sorted based on the value returned from the function.\n",
    "\n",
    "So, to perform the task outlined above (sorting the list by the second item in each tuple), we could do something like this:"
   ]
  },
  {
   "cell_type": "code",
   "execution_count": null,
   "metadata": {},
   "outputs": [],
   "source": [
    "def get_second(t):\n",
    "    return t[1]\n",
    "\n",
    "sorted(states, key=get_second)"
   ]
  },
  {
   "cell_type": "markdown",
   "metadata": {},
   "source": [
    "Because we specified the `key` parameter, Python calls the `get_second` function for each item in the list. The result of this function (i.e., the second value in the tuple) is then used when sorting the list. We can rewrite this more succinctly using a lambda function:"
   ]
  },
  {
   "cell_type": "code",
   "execution_count": null,
   "metadata": {},
   "outputs": [],
   "source": [
    "sorted(states, key=lambda t: t[1])"
   ]
  },
  {
   "cell_type": "markdown",
   "metadata": {},
   "source": [
    "The expression `lambda t: t[1]` is just a shorter way of writing the function `get_second` above."
   ]
  },
  {
   "cell_type": "markdown",
   "metadata": {},
   "source": [
    "### \"Sorting\" dictionaries by value\n",
    "\n",
    "It's common to use Python dictionaries to count things---say, for example, how often words are repeated in a given source text. You'll often end up with a dictionary that looks something like this:"
   ]
  },
  {
   "cell_type": "code",
   "execution_count": null,
   "metadata": {},
   "outputs": [],
   "source": [
    "word_counts = {'it': 123, 'was': 48, 'the': 423, 'best': 7, 'worst': 13, 'of': 350, 'times': 2}"
   ]
  },
  {
   "cell_type": "markdown",
   "metadata": {},
   "source": [
    "Once you have data like this, it's only natural to want to see, e.g., what the most common word is and what the least common word is. It should be simple enough to do this, right? Just pass the dictionary to the `sorted()` function!"
   ]
  },
  {
   "cell_type": "code",
   "execution_count": null,
   "metadata": {},
   "outputs": [],
   "source": [
    "sorted(word_counts)"
   ]
  },
  {
   "cell_type": "markdown",
   "metadata": {},
   "source": [
    "Hmm. That didn't work. It looks like Python is sorting the dictionary... in alphabetical order? Which is weird. Actually, what's happening is that when you pass a dictionary to `sorted()`, Python implicitly assumes you meant to sort just the *keys* of the dictionary---and, in this case, it sorts them in alphabetical order, because we haven't specified an alternative order!\n",
    "\n",
    "Maybe it would help to step back and remember that dictionaries are an inherently *unordered* data type. So sorting a dictionary doesn't make any sense! What we need is some way to turn a dictionary *into* a sortable data type, like a list. The `.items()` method of the dictionary object does just this: it evaluates to a list of tuples containing the key-value pairs from the dictionary."
   ]
  },
  {
   "cell_type": "code",
   "execution_count": null,
   "metadata": {},
   "outputs": [],
   "source": [
    "word_counts.items()"
   ]
  },
  {
   "cell_type": "markdown",
   "metadata": {},
   "source": [
    "Hey now, this is looking familiar! A list of tuples! We just finished learning how to sort lists of tuples by particular members of the tuples. We just need to use the `sorted()` function and specify a `key` parameter that is a function returning the second value from the tuple! Like so:"
   ]
  },
  {
   "cell_type": "code",
   "execution_count": null,
   "metadata": {},
   "outputs": [],
   "source": [
    "sorted(word_counts.items(), key=lambda x: x[1])"
   ]
  },
  {
   "cell_type": "markdown",
   "metadata": {},
   "source": [
    "We did it! This expression evalues to a list of tuples from the `word_counts` dictionary, ordered by the *value* for each key in the original dictionary. The least common word (\"times\") is the first item in the list. We can use the `reverse` parameter of `sorted()` to order from most common to least common instead:"
   ]
  },
  {
   "cell_type": "code",
   "execution_count": null,
   "metadata": {},
   "outputs": [],
   "source": [
    "sorted(word_counts.items(), key=lambda x: x[1], reverse=True)"
   ]
  },
  {
   "cell_type": "code",
   "execution_count": null,
   "metadata": {},
   "outputs": [],
   "source": []
  }
 ],
 "metadata": {
  "kernelspec": {
   "display_name": "Python 3",
   "language": "python",
   "name": "python3"
  },
  "language_info": {
   "codemirror_mode": {
    "name": "ipython",
    "version": 3
   },
   "file_extension": ".py",
   "mimetype": "text/x-python",
   "name": "python",
   "nbconvert_exporter": "python",
   "pygments_lexer": "ipython3",
   "version": "3.6.7"
  }
 },
 "nbformat": 4,
 "nbformat_minor": 1
}
